{
  "cells": [
    {
      "cell_type": "markdown",
      "metadata": {
        "id": "view-in-github",
        "colab_type": "text"
      },
      "source": [
        "<a href=\"https://colab.research.google.com/github/sruthib22/Projects/blob/main/DATA602_ML/602_Group_1_project_notebook.ipynb\" target=\"_parent\"><img src=\"https://colab.research.google.com/assets/colab-badge.svg\" alt=\"Open In Colab\"/></a>"
      ]
    },
    {
      "cell_type": "markdown",
      "id": "629e7c19",
      "metadata": {
        "id": "629e7c19"
      },
      "source": [
        "Group - 1 Project\n",
        "\n",
        "Project Title: Prediction model by the utilization of distinctive features of patients with thyroid disease\n",
        "\n",
        "Members: \n",
        "\n",
        "Sruthi Batchala          OH34738@umbc.edu \n",
        "\n",
        "Saathyak Rao Kasuganti   FV86010@umbc.edu\n",
        "\n",
        "Avanti Dasre             avantid1@umbc.edu\n",
        "\n",
        "Luis Daniel Galvan       ZN16373@umbc.edu \n"
      ]
    },
    {
      "cell_type": "code",
      "execution_count": null,
      "id": "bfa80529",
      "metadata": {
        "id": "bfa80529"
      },
      "outputs": [],
      "source": [
        "import pandas as pd\n",
        "import seaborn as sns \n",
        "import matplotlib.pyplot as plt\n",
        "from scipy.stats import spearmanr  \n",
        "import numpy as np \n",
        "import mlxtend\n"
      ]
    },
    {
      "cell_type": "code",
      "execution_count": null,
      "id": "8c50920c",
      "metadata": {
        "id": "8c50920c"
      },
      "outputs": [],
      "source": [
        "df = pd.read_csv('thyroid.dat')"
      ]
    },
    {
      "cell_type": "code",
      "execution_count": null,
      "id": "7e2443cd",
      "metadata": {
        "colab": {
          "base_uri": "https://localhost:8080/",
          "height": 299
        },
        "id": "7e2443cd",
        "outputId": "f1891e31-3a63-47c6-aea8-6825c4463f7a"
      },
      "outputs": [
        {
          "data": {
            "text/html": [
              "<div>\n",
              "<style scoped>\n",
              "    .dataframe tbody tr th:only-of-type {\n",
              "        vertical-align: middle;\n",
              "    }\n",
              "\n",
              "    .dataframe tbody tr th {\n",
              "        vertical-align: top;\n",
              "    }\n",
              "\n",
              "    .dataframe thead th {\n",
              "        text-align: right;\n",
              "    }\n",
              "</style>\n",
              "<table border=\"1\" class=\"dataframe\">\n",
              "  <thead>\n",
              "    <tr style=\"text-align: right;\">\n",
              "      <th></th>\n",
              "      <th>Age</th>\n",
              "      <th>Sex</th>\n",
              "      <th>On_thyroxine</th>\n",
              "      <th>Query_on_thyroxine</th>\n",
              "      <th>On_antithyroid_medication</th>\n",
              "      <th>Sick</th>\n",
              "      <th>Pregnant</th>\n",
              "      <th>Thyroid_surgery</th>\n",
              "      <th>I131_treatment</th>\n",
              "      <th>Query_hypothyroid</th>\n",
              "      <th>...</th>\n",
              "      <th>Goitre</th>\n",
              "      <th>Tumor</th>\n",
              "      <th>Hypopituitary</th>\n",
              "      <th>Psych</th>\n",
              "      <th>TSH</th>\n",
              "      <th>T3</th>\n",
              "      <th>TT4</th>\n",
              "      <th>T4U</th>\n",
              "      <th>FTI</th>\n",
              "      <th>Class</th>\n",
              "    </tr>\n",
              "  </thead>\n",
              "  <tbody>\n",
              "    <tr>\n",
              "      <th>0</th>\n",
              "      <td>0.73</td>\n",
              "      <td>0</td>\n",
              "      <td>1</td>\n",
              "      <td>0</td>\n",
              "      <td>0</td>\n",
              "      <td>0</td>\n",
              "      <td>0</td>\n",
              "      <td>0</td>\n",
              "      <td>1</td>\n",
              "      <td>0</td>\n",
              "      <td>...</td>\n",
              "      <td>0</td>\n",
              "      <td>0</td>\n",
              "      <td>0</td>\n",
              "      <td>0</td>\n",
              "      <td>0.00060</td>\n",
              "      <td>0.015</td>\n",
              "      <td>0.120</td>\n",
              "      <td>0.082</td>\n",
              "      <td>0.146</td>\n",
              "      <td>3</td>\n",
              "    </tr>\n",
              "    <tr>\n",
              "      <th>1</th>\n",
              "      <td>0.24</td>\n",
              "      <td>0</td>\n",
              "      <td>0</td>\n",
              "      <td>0</td>\n",
              "      <td>0</td>\n",
              "      <td>0</td>\n",
              "      <td>0</td>\n",
              "      <td>0</td>\n",
              "      <td>0</td>\n",
              "      <td>0</td>\n",
              "      <td>...</td>\n",
              "      <td>0</td>\n",
              "      <td>0</td>\n",
              "      <td>0</td>\n",
              "      <td>0</td>\n",
              "      <td>0.00025</td>\n",
              "      <td>0.030</td>\n",
              "      <td>0.143</td>\n",
              "      <td>0.133</td>\n",
              "      <td>0.108</td>\n",
              "      <td>3</td>\n",
              "    </tr>\n",
              "    <tr>\n",
              "      <th>2</th>\n",
              "      <td>0.47</td>\n",
              "      <td>0</td>\n",
              "      <td>0</td>\n",
              "      <td>0</td>\n",
              "      <td>0</td>\n",
              "      <td>0</td>\n",
              "      <td>0</td>\n",
              "      <td>0</td>\n",
              "      <td>0</td>\n",
              "      <td>0</td>\n",
              "      <td>...</td>\n",
              "      <td>0</td>\n",
              "      <td>0</td>\n",
              "      <td>0</td>\n",
              "      <td>0</td>\n",
              "      <td>0.00190</td>\n",
              "      <td>0.024</td>\n",
              "      <td>0.102</td>\n",
              "      <td>0.131</td>\n",
              "      <td>0.078</td>\n",
              "      <td>3</td>\n",
              "    </tr>\n",
              "    <tr>\n",
              "      <th>3</th>\n",
              "      <td>0.64</td>\n",
              "      <td>1</td>\n",
              "      <td>0</td>\n",
              "      <td>0</td>\n",
              "      <td>0</td>\n",
              "      <td>0</td>\n",
              "      <td>0</td>\n",
              "      <td>0</td>\n",
              "      <td>0</td>\n",
              "      <td>0</td>\n",
              "      <td>...</td>\n",
              "      <td>0</td>\n",
              "      <td>0</td>\n",
              "      <td>0</td>\n",
              "      <td>0</td>\n",
              "      <td>0.00090</td>\n",
              "      <td>0.017</td>\n",
              "      <td>0.077</td>\n",
              "      <td>0.090</td>\n",
              "      <td>0.085</td>\n",
              "      <td>3</td>\n",
              "    </tr>\n",
              "    <tr>\n",
              "      <th>4</th>\n",
              "      <td>0.23</td>\n",
              "      <td>0</td>\n",
              "      <td>0</td>\n",
              "      <td>0</td>\n",
              "      <td>0</td>\n",
              "      <td>0</td>\n",
              "      <td>0</td>\n",
              "      <td>0</td>\n",
              "      <td>0</td>\n",
              "      <td>0</td>\n",
              "      <td>...</td>\n",
              "      <td>0</td>\n",
              "      <td>0</td>\n",
              "      <td>0</td>\n",
              "      <td>0</td>\n",
              "      <td>0.00025</td>\n",
              "      <td>0.026</td>\n",
              "      <td>0.139</td>\n",
              "      <td>0.090</td>\n",
              "      <td>0.153</td>\n",
              "      <td>3</td>\n",
              "    </tr>\n",
              "  </tbody>\n",
              "</table>\n",
              "<p>5 rows × 22 columns</p>\n",
              "</div>"
            ],
            "text/plain": [
              "    Age  Sex  On_thyroxine  Query_on_thyroxine  On_antithyroid_medication  \\\n",
              "0  0.73    0             1                   0                          0   \n",
              "1  0.24    0             0                   0                          0   \n",
              "2  0.47    0             0                   0                          0   \n",
              "3  0.64    1             0                   0                          0   \n",
              "4  0.23    0             0                   0                          0   \n",
              "\n",
              "   Sick  Pregnant  Thyroid_surgery  I131_treatment  Query_hypothyroid  ...  \\\n",
              "0     0         0                0               1                  0  ...   \n",
              "1     0         0                0               0                  0  ...   \n",
              "2     0         0                0               0                  0  ...   \n",
              "3     0         0                0               0                  0  ...   \n",
              "4     0         0                0               0                  0  ...   \n",
              "\n",
              "   Goitre  Tumor  Hypopituitary  Psych      TSH     T3    TT4    T4U    FTI  \\\n",
              "0       0      0              0      0  0.00060  0.015  0.120  0.082  0.146   \n",
              "1       0      0              0      0  0.00025  0.030  0.143  0.133  0.108   \n",
              "2       0      0              0      0  0.00190  0.024  0.102  0.131  0.078   \n",
              "3       0      0              0      0  0.00090  0.017  0.077  0.090  0.085   \n",
              "4       0      0              0      0  0.00025  0.026  0.139  0.090  0.153   \n",
              "\n",
              "   Class  \n",
              "0      3  \n",
              "1      3  \n",
              "2      3  \n",
              "3      3  \n",
              "4      3  \n",
              "\n",
              "[5 rows x 22 columns]"
            ]
          },
          "execution_count": 3,
          "metadata": {},
          "output_type": "execute_result"
        }
      ],
      "source": [
        "df.head()"
      ]
    },
    {
      "cell_type": "markdown",
      "id": "9GMqUKYcZ6YT",
      "metadata": {
        "id": "9GMqUKYcZ6YT"
      },
      "source": [
        "#### Performing EDA "
      ]
    },
    {
      "cell_type": "code",
      "execution_count": null,
      "id": "a290b4d4",
      "metadata": {
        "colab": {
          "base_uri": "https://localhost:8080/"
        },
        "id": "a290b4d4",
        "outputId": "1092befa-85e4-4c40-a2ae-c08367b2f673"
      },
      "outputs": [
        {
          "name": "stdout",
          "output_type": "stream",
          "text": [
            "<class 'pandas.core.frame.DataFrame'>\n",
            "RangeIndex: 7200 entries, 0 to 7199\n",
            "Data columns (total 22 columns):\n",
            " #   Column                     Non-Null Count  Dtype  \n",
            "---  ------                     --------------  -----  \n",
            " 0   Age                        7200 non-null   float64\n",
            " 1   Sex                        7200 non-null   int64  \n",
            " 2   On_thyroxine               7200 non-null   int64  \n",
            " 3   Query_on_thyroxine         7200 non-null   int64  \n",
            " 4   On_antithyroid_medication  7200 non-null   int64  \n",
            " 5   Sick                       7200 non-null   int64  \n",
            " 6   Pregnant                   7200 non-null   int64  \n",
            " 7   Thyroid_surgery            7200 non-null   int64  \n",
            " 8   I131_treatment             7200 non-null   int64  \n",
            " 9   Query_hypothyroid          7200 non-null   int64  \n",
            " 10  Query_hyperthyroid         7200 non-null   int64  \n",
            " 11  Lithium                    7200 non-null   int64  \n",
            " 12  Goitre                     7200 non-null   int64  \n",
            " 13  Tumor                      7200 non-null   int64  \n",
            " 14  Hypopituitary              7200 non-null   int64  \n",
            " 15  Psych                      7200 non-null   int64  \n",
            " 16  TSH                        7200 non-null   float64\n",
            " 17  T3                         7200 non-null   float64\n",
            " 18  TT4                        7200 non-null   float64\n",
            " 19  T4U                        7200 non-null   float64\n",
            " 20  FTI                        7200 non-null   float64\n",
            " 21  Class                      7200 non-null   int64  \n",
            "dtypes: float64(6), int64(16)\n",
            "memory usage: 1.2 MB\n"
          ]
        }
      ],
      "source": [
        "df.info()"
      ]
    },
    {
      "cell_type": "code",
      "execution_count": null,
      "id": "7cdb57f7",
      "metadata": {
        "colab": {
          "base_uri": "https://localhost:8080/"
        },
        "id": "7cdb57f7",
        "outputId": "3f63f061-b747-41a3-c9bc-55234a8a1f56"
      },
      "outputs": [
        {
          "data": {
            "text/plain": [
              "(7200, 22)"
            ]
          },
          "execution_count": 5,
          "metadata": {},
          "output_type": "execute_result"
        }
      ],
      "source": [
        "df.shape"
      ]
    },
    {
      "cell_type": "code",
      "execution_count": null,
      "id": "741bdddd",
      "metadata": {
        "colab": {
          "base_uri": "https://localhost:8080/",
          "height": 394
        },
        "id": "741bdddd",
        "outputId": "30b07027-d0a1-4f16-922f-805abcce2abd"
      },
      "outputs": [
        {
          "data": {
            "text/html": [
              "<div>\n",
              "<style scoped>\n",
              "    .dataframe tbody tr th:only-of-type {\n",
              "        vertical-align: middle;\n",
              "    }\n",
              "\n",
              "    .dataframe tbody tr th {\n",
              "        vertical-align: top;\n",
              "    }\n",
              "\n",
              "    .dataframe thead th {\n",
              "        text-align: right;\n",
              "    }\n",
              "</style>\n",
              "<table border=\"1\" class=\"dataframe\">\n",
              "  <thead>\n",
              "    <tr style=\"text-align: right;\">\n",
              "      <th></th>\n",
              "      <th>Age</th>\n",
              "      <th>Sex</th>\n",
              "      <th>On_thyroxine</th>\n",
              "      <th>Query_on_thyroxine</th>\n",
              "      <th>On_antithyroid_medication</th>\n",
              "      <th>Sick</th>\n",
              "      <th>Pregnant</th>\n",
              "      <th>Thyroid_surgery</th>\n",
              "      <th>I131_treatment</th>\n",
              "      <th>Query_hypothyroid</th>\n",
              "      <th>...</th>\n",
              "      <th>Goitre</th>\n",
              "      <th>Tumor</th>\n",
              "      <th>Hypopituitary</th>\n",
              "      <th>Psych</th>\n",
              "      <th>TSH</th>\n",
              "      <th>T3</th>\n",
              "      <th>TT4</th>\n",
              "      <th>T4U</th>\n",
              "      <th>FTI</th>\n",
              "      <th>Class</th>\n",
              "    </tr>\n",
              "  </thead>\n",
              "  <tbody>\n",
              "    <tr>\n",
              "      <th>count</th>\n",
              "      <td>7200.000000</td>\n",
              "      <td>7200.000000</td>\n",
              "      <td>7200.000000</td>\n",
              "      <td>7200.000000</td>\n",
              "      <td>7200.000000</td>\n",
              "      <td>7200.000000</td>\n",
              "      <td>7200.000000</td>\n",
              "      <td>7200.000000</td>\n",
              "      <td>7200.000000</td>\n",
              "      <td>7200.000000</td>\n",
              "      <td>...</td>\n",
              "      <td>7200.000000</td>\n",
              "      <td>7200.000000</td>\n",
              "      <td>7200.000000</td>\n",
              "      <td>7200.000000</td>\n",
              "      <td>7200.000000</td>\n",
              "      <td>7200.000000</td>\n",
              "      <td>7200.000000</td>\n",
              "      <td>7200.000000</td>\n",
              "      <td>7200.000000</td>\n",
              "      <td>7200.000000</td>\n",
              "    </tr>\n",
              "    <tr>\n",
              "      <th>mean</th>\n",
              "      <td>0.520518</td>\n",
              "      <td>0.304306</td>\n",
              "      <td>0.130556</td>\n",
              "      <td>0.015417</td>\n",
              "      <td>0.012778</td>\n",
              "      <td>0.038333</td>\n",
              "      <td>0.010833</td>\n",
              "      <td>0.014028</td>\n",
              "      <td>0.016806</td>\n",
              "      <td>0.065556</td>\n",
              "      <td>...</td>\n",
              "      <td>0.008194</td>\n",
              "      <td>0.025556</td>\n",
              "      <td>0.000139</td>\n",
              "      <td>0.048889</td>\n",
              "      <td>0.004861</td>\n",
              "      <td>0.019977</td>\n",
              "      <td>0.109430</td>\n",
              "      <td>0.097838</td>\n",
              "      <td>0.113215</td>\n",
              "      <td>2.902778</td>\n",
              "    </tr>\n",
              "    <tr>\n",
              "      <th>std</th>\n",
              "      <td>0.189269</td>\n",
              "      <td>0.460145</td>\n",
              "      <td>0.336937</td>\n",
              "      <td>0.123212</td>\n",
              "      <td>0.112322</td>\n",
              "      <td>0.192013</td>\n",
              "      <td>0.103525</td>\n",
              "      <td>0.117613</td>\n",
              "      <td>0.128551</td>\n",
              "      <td>0.247521</td>\n",
              "      <td>...</td>\n",
              "      <td>0.090158</td>\n",
              "      <td>0.157816</td>\n",
              "      <td>0.011785</td>\n",
              "      <td>0.215651</td>\n",
              "      <td>0.022979</td>\n",
              "      <td>0.007539</td>\n",
              "      <td>0.035969</td>\n",
              "      <td>0.019085</td>\n",
              "      <td>0.036098</td>\n",
              "      <td>0.365923</td>\n",
              "    </tr>\n",
              "    <tr>\n",
              "      <th>min</th>\n",
              "      <td>0.010000</td>\n",
              "      <td>0.000000</td>\n",
              "      <td>0.000000</td>\n",
              "      <td>0.000000</td>\n",
              "      <td>0.000000</td>\n",
              "      <td>0.000000</td>\n",
              "      <td>0.000000</td>\n",
              "      <td>0.000000</td>\n",
              "      <td>0.000000</td>\n",
              "      <td>0.000000</td>\n",
              "      <td>...</td>\n",
              "      <td>0.000000</td>\n",
              "      <td>0.000000</td>\n",
              "      <td>0.000000</td>\n",
              "      <td>0.000000</td>\n",
              "      <td>0.000000</td>\n",
              "      <td>0.000500</td>\n",
              "      <td>0.002000</td>\n",
              "      <td>0.017000</td>\n",
              "      <td>0.002000</td>\n",
              "      <td>1.000000</td>\n",
              "    </tr>\n",
              "    <tr>\n",
              "      <th>25%</th>\n",
              "      <td>0.370000</td>\n",
              "      <td>0.000000</td>\n",
              "      <td>0.000000</td>\n",
              "      <td>0.000000</td>\n",
              "      <td>0.000000</td>\n",
              "      <td>0.000000</td>\n",
              "      <td>0.000000</td>\n",
              "      <td>0.000000</td>\n",
              "      <td>0.000000</td>\n",
              "      <td>0.000000</td>\n",
              "      <td>...</td>\n",
              "      <td>0.000000</td>\n",
              "      <td>0.000000</td>\n",
              "      <td>0.000000</td>\n",
              "      <td>0.000000</td>\n",
              "      <td>0.000710</td>\n",
              "      <td>0.017000</td>\n",
              "      <td>0.089000</td>\n",
              "      <td>0.087000</td>\n",
              "      <td>0.095000</td>\n",
              "      <td>3.000000</td>\n",
              "    </tr>\n",
              "    <tr>\n",
              "      <th>50%</th>\n",
              "      <td>0.550000</td>\n",
              "      <td>0.000000</td>\n",
              "      <td>0.000000</td>\n",
              "      <td>0.000000</td>\n",
              "      <td>0.000000</td>\n",
              "      <td>0.000000</td>\n",
              "      <td>0.000000</td>\n",
              "      <td>0.000000</td>\n",
              "      <td>0.000000</td>\n",
              "      <td>0.000000</td>\n",
              "      <td>...</td>\n",
              "      <td>0.000000</td>\n",
              "      <td>0.000000</td>\n",
              "      <td>0.000000</td>\n",
              "      <td>0.000000</td>\n",
              "      <td>0.001700</td>\n",
              "      <td>0.020100</td>\n",
              "      <td>0.107000</td>\n",
              "      <td>0.097000</td>\n",
              "      <td>0.111000</td>\n",
              "      <td>3.000000</td>\n",
              "    </tr>\n",
              "    <tr>\n",
              "      <th>75%</th>\n",
              "      <td>0.670000</td>\n",
              "      <td>1.000000</td>\n",
              "      <td>0.000000</td>\n",
              "      <td>0.000000</td>\n",
              "      <td>0.000000</td>\n",
              "      <td>0.000000</td>\n",
              "      <td>0.000000</td>\n",
              "      <td>0.000000</td>\n",
              "      <td>0.000000</td>\n",
              "      <td>0.000000</td>\n",
              "      <td>...</td>\n",
              "      <td>0.000000</td>\n",
              "      <td>0.000000</td>\n",
              "      <td>0.000000</td>\n",
              "      <td>0.000000</td>\n",
              "      <td>0.002700</td>\n",
              "      <td>0.022000</td>\n",
              "      <td>0.125000</td>\n",
              "      <td>0.104000</td>\n",
              "      <td>0.127000</td>\n",
              "      <td>3.000000</td>\n",
              "    </tr>\n",
              "    <tr>\n",
              "      <th>max</th>\n",
              "      <td>0.970000</td>\n",
              "      <td>1.000000</td>\n",
              "      <td>1.000000</td>\n",
              "      <td>1.000000</td>\n",
              "      <td>1.000000</td>\n",
              "      <td>1.000000</td>\n",
              "      <td>1.000000</td>\n",
              "      <td>1.000000</td>\n",
              "      <td>1.000000</td>\n",
              "      <td>1.000000</td>\n",
              "      <td>...</td>\n",
              "      <td>1.000000</td>\n",
              "      <td>1.000000</td>\n",
              "      <td>1.000000</td>\n",
              "      <td>1.000000</td>\n",
              "      <td>0.530000</td>\n",
              "      <td>0.180000</td>\n",
              "      <td>0.600000</td>\n",
              "      <td>0.233000</td>\n",
              "      <td>0.642000</td>\n",
              "      <td>3.000000</td>\n",
              "    </tr>\n",
              "  </tbody>\n",
              "</table>\n",
              "<p>8 rows × 22 columns</p>\n",
              "</div>"
            ],
            "text/plain": [
              "               Age          Sex  On_thyroxine  Query_on_thyroxine  \\\n",
              "count  7200.000000  7200.000000   7200.000000         7200.000000   \n",
              "mean      0.520518     0.304306      0.130556            0.015417   \n",
              "std       0.189269     0.460145      0.336937            0.123212   \n",
              "min       0.010000     0.000000      0.000000            0.000000   \n",
              "25%       0.370000     0.000000      0.000000            0.000000   \n",
              "50%       0.550000     0.000000      0.000000            0.000000   \n",
              "75%       0.670000     1.000000      0.000000            0.000000   \n",
              "max       0.970000     1.000000      1.000000            1.000000   \n",
              "\n",
              "       On_antithyroid_medication         Sick     Pregnant  Thyroid_surgery  \\\n",
              "count                7200.000000  7200.000000  7200.000000      7200.000000   \n",
              "mean                    0.012778     0.038333     0.010833         0.014028   \n",
              "std                     0.112322     0.192013     0.103525         0.117613   \n",
              "min                     0.000000     0.000000     0.000000         0.000000   \n",
              "25%                     0.000000     0.000000     0.000000         0.000000   \n",
              "50%                     0.000000     0.000000     0.000000         0.000000   \n",
              "75%                     0.000000     0.000000     0.000000         0.000000   \n",
              "max                     1.000000     1.000000     1.000000         1.000000   \n",
              "\n",
              "       I131_treatment  Query_hypothyroid  ...       Goitre        Tumor  \\\n",
              "count     7200.000000        7200.000000  ...  7200.000000  7200.000000   \n",
              "mean         0.016806           0.065556  ...     0.008194     0.025556   \n",
              "std          0.128551           0.247521  ...     0.090158     0.157816   \n",
              "min          0.000000           0.000000  ...     0.000000     0.000000   \n",
              "25%          0.000000           0.000000  ...     0.000000     0.000000   \n",
              "50%          0.000000           0.000000  ...     0.000000     0.000000   \n",
              "75%          0.000000           0.000000  ...     0.000000     0.000000   \n",
              "max          1.000000           1.000000  ...     1.000000     1.000000   \n",
              "\n",
              "       Hypopituitary        Psych          TSH           T3          TT4  \\\n",
              "count    7200.000000  7200.000000  7200.000000  7200.000000  7200.000000   \n",
              "mean        0.000139     0.048889     0.004861     0.019977     0.109430   \n",
              "std         0.011785     0.215651     0.022979     0.007539     0.035969   \n",
              "min         0.000000     0.000000     0.000000     0.000500     0.002000   \n",
              "25%         0.000000     0.000000     0.000710     0.017000     0.089000   \n",
              "50%         0.000000     0.000000     0.001700     0.020100     0.107000   \n",
              "75%         0.000000     0.000000     0.002700     0.022000     0.125000   \n",
              "max         1.000000     1.000000     0.530000     0.180000     0.600000   \n",
              "\n",
              "               T4U          FTI        Class  \n",
              "count  7200.000000  7200.000000  7200.000000  \n",
              "mean      0.097838     0.113215     2.902778  \n",
              "std       0.019085     0.036098     0.365923  \n",
              "min       0.017000     0.002000     1.000000  \n",
              "25%       0.087000     0.095000     3.000000  \n",
              "50%       0.097000     0.111000     3.000000  \n",
              "75%       0.104000     0.127000     3.000000  \n",
              "max       0.233000     0.642000     3.000000  \n",
              "\n",
              "[8 rows x 22 columns]"
            ]
          },
          "execution_count": 6,
          "metadata": {},
          "output_type": "execute_result"
        }
      ],
      "source": [
        "df.describe()"
      ]
    },
    {
      "cell_type": "code",
      "execution_count": null,
      "id": "-XiBujZR2Kkv",
      "metadata": {
        "colab": {
          "base_uri": "https://localhost:8080/"
        },
        "id": "-XiBujZR2Kkv",
        "outputId": "40bacf14-fda2-4495-b16f-42c669db323b"
      },
      "outputs": [
        {
          "data": {
            "text/plain": [
              "71"
            ]
          },
          "execution_count": 7,
          "metadata": {},
          "output_type": "execute_result"
        }
      ],
      "source": [
        "#checking for duplicates\n",
        "df.duplicated().sum()"
      ]
    },
    {
      "cell_type": "code",
      "execution_count": null,
      "id": "0f5B1ZkB6TGA",
      "metadata": {
        "colab": {
          "base_uri": "https://localhost:8080/",
          "height": 488
        },
        "id": "0f5B1ZkB6TGA",
        "outputId": "b6449d35-956b-4cd6-f627-3190738558fe"
      },
      "outputs": [
        {
          "data": {
            "text/html": [
              "<div>\n",
              "<style scoped>\n",
              "    .dataframe tbody tr th:only-of-type {\n",
              "        vertical-align: middle;\n",
              "    }\n",
              "\n",
              "    .dataframe tbody tr th {\n",
              "        vertical-align: top;\n",
              "    }\n",
              "\n",
              "    .dataframe thead th {\n",
              "        text-align: right;\n",
              "    }\n",
              "</style>\n",
              "<table border=\"1\" class=\"dataframe\">\n",
              "  <thead>\n",
              "    <tr style=\"text-align: right;\">\n",
              "      <th></th>\n",
              "      <th>Age</th>\n",
              "      <th>Sex</th>\n",
              "      <th>On_thyroxine</th>\n",
              "      <th>Query_on_thyroxine</th>\n",
              "      <th>On_antithyroid_medication</th>\n",
              "      <th>Sick</th>\n",
              "      <th>Pregnant</th>\n",
              "      <th>Thyroid_surgery</th>\n",
              "      <th>I131_treatment</th>\n",
              "      <th>Query_hypothyroid</th>\n",
              "      <th>...</th>\n",
              "      <th>Goitre</th>\n",
              "      <th>Tumor</th>\n",
              "      <th>Hypopituitary</th>\n",
              "      <th>Psych</th>\n",
              "      <th>TSH</th>\n",
              "      <th>T3</th>\n",
              "      <th>TT4</th>\n",
              "      <th>T4U</th>\n",
              "      <th>FTI</th>\n",
              "      <th>Class</th>\n",
              "    </tr>\n",
              "  </thead>\n",
              "  <tbody>\n",
              "    <tr>\n",
              "      <th>244</th>\n",
              "      <td>0.35</td>\n",
              "      <td>0</td>\n",
              "      <td>0</td>\n",
              "      <td>0</td>\n",
              "      <td>0</td>\n",
              "      <td>0</td>\n",
              "      <td>0</td>\n",
              "      <td>0</td>\n",
              "      <td>0</td>\n",
              "      <td>0</td>\n",
              "      <td>...</td>\n",
              "      <td>0</td>\n",
              "      <td>0</td>\n",
              "      <td>0</td>\n",
              "      <td>0</td>\n",
              "      <td>0.00189</td>\n",
              "      <td>0.0206</td>\n",
              "      <td>0.11118</td>\n",
              "      <td>0.099</td>\n",
              "      <td>0.11207</td>\n",
              "      <td>3</td>\n",
              "    </tr>\n",
              "    <tr>\n",
              "      <th>292</th>\n",
              "      <td>0.32</td>\n",
              "      <td>0</td>\n",
              "      <td>0</td>\n",
              "      <td>0</td>\n",
              "      <td>0</td>\n",
              "      <td>0</td>\n",
              "      <td>0</td>\n",
              "      <td>0</td>\n",
              "      <td>0</td>\n",
              "      <td>0</td>\n",
              "      <td>...</td>\n",
              "      <td>0</td>\n",
              "      <td>0</td>\n",
              "      <td>0</td>\n",
              "      <td>0</td>\n",
              "      <td>0.00189</td>\n",
              "      <td>0.0206</td>\n",
              "      <td>0.11118</td>\n",
              "      <td>0.099</td>\n",
              "      <td>0.11207</td>\n",
              "      <td>3</td>\n",
              "    </tr>\n",
              "    <tr>\n",
              "      <th>303</th>\n",
              "      <td>0.26</td>\n",
              "      <td>0</td>\n",
              "      <td>0</td>\n",
              "      <td>0</td>\n",
              "      <td>0</td>\n",
              "      <td>0</td>\n",
              "      <td>0</td>\n",
              "      <td>0</td>\n",
              "      <td>0</td>\n",
              "      <td>0</td>\n",
              "      <td>...</td>\n",
              "      <td>0</td>\n",
              "      <td>0</td>\n",
              "      <td>0</td>\n",
              "      <td>0</td>\n",
              "      <td>0.00189</td>\n",
              "      <td>0.0206</td>\n",
              "      <td>0.11118</td>\n",
              "      <td>0.099</td>\n",
              "      <td>0.11207</td>\n",
              "      <td>3</td>\n",
              "    </tr>\n",
              "    <tr>\n",
              "      <th>349</th>\n",
              "      <td>0.32</td>\n",
              "      <td>0</td>\n",
              "      <td>0</td>\n",
              "      <td>0</td>\n",
              "      <td>0</td>\n",
              "      <td>0</td>\n",
              "      <td>0</td>\n",
              "      <td>0</td>\n",
              "      <td>0</td>\n",
              "      <td>0</td>\n",
              "      <td>...</td>\n",
              "      <td>0</td>\n",
              "      <td>0</td>\n",
              "      <td>0</td>\n",
              "      <td>0</td>\n",
              "      <td>0.00189</td>\n",
              "      <td>0.0206</td>\n",
              "      <td>0.11118</td>\n",
              "      <td>0.099</td>\n",
              "      <td>0.11207</td>\n",
              "      <td>3</td>\n",
              "    </tr>\n",
              "    <tr>\n",
              "      <th>375</th>\n",
              "      <td>0.32</td>\n",
              "      <td>0</td>\n",
              "      <td>0</td>\n",
              "      <td>0</td>\n",
              "      <td>0</td>\n",
              "      <td>0</td>\n",
              "      <td>0</td>\n",
              "      <td>0</td>\n",
              "      <td>0</td>\n",
              "      <td>0</td>\n",
              "      <td>...</td>\n",
              "      <td>0</td>\n",
              "      <td>0</td>\n",
              "      <td>0</td>\n",
              "      <td>0</td>\n",
              "      <td>0.00189</td>\n",
              "      <td>0.0206</td>\n",
              "      <td>0.11118</td>\n",
              "      <td>0.099</td>\n",
              "      <td>0.11207</td>\n",
              "      <td>3</td>\n",
              "    </tr>\n",
              "    <tr>\n",
              "      <th>...</th>\n",
              "      <td>...</td>\n",
              "      <td>...</td>\n",
              "      <td>...</td>\n",
              "      <td>...</td>\n",
              "      <td>...</td>\n",
              "      <td>...</td>\n",
              "      <td>...</td>\n",
              "      <td>...</td>\n",
              "      <td>...</td>\n",
              "      <td>...</td>\n",
              "      <td>...</td>\n",
              "      <td>...</td>\n",
              "      <td>...</td>\n",
              "      <td>...</td>\n",
              "      <td>...</td>\n",
              "      <td>...</td>\n",
              "      <td>...</td>\n",
              "      <td>...</td>\n",
              "      <td>...</td>\n",
              "      <td>...</td>\n",
              "      <td>...</td>\n",
              "    </tr>\n",
              "    <tr>\n",
              "      <th>6737</th>\n",
              "      <td>0.65</td>\n",
              "      <td>0</td>\n",
              "      <td>0</td>\n",
              "      <td>0</td>\n",
              "      <td>0</td>\n",
              "      <td>0</td>\n",
              "      <td>0</td>\n",
              "      <td>0</td>\n",
              "      <td>0</td>\n",
              "      <td>0</td>\n",
              "      <td>...</td>\n",
              "      <td>0</td>\n",
              "      <td>0</td>\n",
              "      <td>0</td>\n",
              "      <td>0</td>\n",
              "      <td>0.00189</td>\n",
              "      <td>0.0206</td>\n",
              "      <td>0.11118</td>\n",
              "      <td>0.099</td>\n",
              "      <td>0.11207</td>\n",
              "      <td>3</td>\n",
              "    </tr>\n",
              "    <tr>\n",
              "      <th>6944</th>\n",
              "      <td>0.26</td>\n",
              "      <td>0</td>\n",
              "      <td>0</td>\n",
              "      <td>0</td>\n",
              "      <td>0</td>\n",
              "      <td>0</td>\n",
              "      <td>0</td>\n",
              "      <td>0</td>\n",
              "      <td>0</td>\n",
              "      <td>0</td>\n",
              "      <td>...</td>\n",
              "      <td>0</td>\n",
              "      <td>0</td>\n",
              "      <td>0</td>\n",
              "      <td>0</td>\n",
              "      <td>0.00232</td>\n",
              "      <td>0.0201</td>\n",
              "      <td>0.11329</td>\n",
              "      <td>0.096</td>\n",
              "      <td>0.11776</td>\n",
              "      <td>3</td>\n",
              "    </tr>\n",
              "    <tr>\n",
              "      <th>7013</th>\n",
              "      <td>0.34</td>\n",
              "      <td>0</td>\n",
              "      <td>0</td>\n",
              "      <td>0</td>\n",
              "      <td>0</td>\n",
              "      <td>0</td>\n",
              "      <td>0</td>\n",
              "      <td>0</td>\n",
              "      <td>0</td>\n",
              "      <td>0</td>\n",
              "      <td>...</td>\n",
              "      <td>0</td>\n",
              "      <td>0</td>\n",
              "      <td>0</td>\n",
              "      <td>0</td>\n",
              "      <td>0.00232</td>\n",
              "      <td>0.0201</td>\n",
              "      <td>0.11329</td>\n",
              "      <td>0.096</td>\n",
              "      <td>0.11776</td>\n",
              "      <td>3</td>\n",
              "    </tr>\n",
              "    <tr>\n",
              "      <th>7121</th>\n",
              "      <td>0.50</td>\n",
              "      <td>0</td>\n",
              "      <td>0</td>\n",
              "      <td>0</td>\n",
              "      <td>0</td>\n",
              "      <td>0</td>\n",
              "      <td>0</td>\n",
              "      <td>0</td>\n",
              "      <td>0</td>\n",
              "      <td>0</td>\n",
              "      <td>...</td>\n",
              "      <td>0</td>\n",
              "      <td>0</td>\n",
              "      <td>0</td>\n",
              "      <td>0</td>\n",
              "      <td>0.00232</td>\n",
              "      <td>0.0201</td>\n",
              "      <td>0.11329</td>\n",
              "      <td>0.096</td>\n",
              "      <td>0.11776</td>\n",
              "      <td>3</td>\n",
              "    </tr>\n",
              "    <tr>\n",
              "      <th>7195</th>\n",
              "      <td>0.36</td>\n",
              "      <td>0</td>\n",
              "      <td>0</td>\n",
              "      <td>0</td>\n",
              "      <td>0</td>\n",
              "      <td>0</td>\n",
              "      <td>0</td>\n",
              "      <td>0</td>\n",
              "      <td>0</td>\n",
              "      <td>0</td>\n",
              "      <td>...</td>\n",
              "      <td>0</td>\n",
              "      <td>0</td>\n",
              "      <td>0</td>\n",
              "      <td>0</td>\n",
              "      <td>0.00232</td>\n",
              "      <td>0.0201</td>\n",
              "      <td>0.11329</td>\n",
              "      <td>0.096</td>\n",
              "      <td>0.11776</td>\n",
              "      <td>3</td>\n",
              "    </tr>\n",
              "  </tbody>\n",
              "</table>\n",
              "<p>71 rows × 22 columns</p>\n",
              "</div>"
            ],
            "text/plain": [
              "       Age  Sex  On_thyroxine  Query_on_thyroxine  On_antithyroid_medication  \\\n",
              "244   0.35    0             0                   0                          0   \n",
              "292   0.32    0             0                   0                          0   \n",
              "303   0.26    0             0                   0                          0   \n",
              "349   0.32    0             0                   0                          0   \n",
              "375   0.32    0             0                   0                          0   \n",
              "...    ...  ...           ...                 ...                        ...   \n",
              "6737  0.65    0             0                   0                          0   \n",
              "6944  0.26    0             0                   0                          0   \n",
              "7013  0.34    0             0                   0                          0   \n",
              "7121  0.50    0             0                   0                          0   \n",
              "7195  0.36    0             0                   0                          0   \n",
              "\n",
              "      Sick  Pregnant  Thyroid_surgery  I131_treatment  Query_hypothyroid  ...  \\\n",
              "244      0         0                0               0                  0  ...   \n",
              "292      0         0                0               0                  0  ...   \n",
              "303      0         0                0               0                  0  ...   \n",
              "349      0         0                0               0                  0  ...   \n",
              "375      0         0                0               0                  0  ...   \n",
              "...    ...       ...              ...             ...                ...  ...   \n",
              "6737     0         0                0               0                  0  ...   \n",
              "6944     0         0                0               0                  0  ...   \n",
              "7013     0         0                0               0                  0  ...   \n",
              "7121     0         0                0               0                  0  ...   \n",
              "7195     0         0                0               0                  0  ...   \n",
              "\n",
              "      Goitre  Tumor  Hypopituitary  Psych      TSH      T3      TT4    T4U  \\\n",
              "244        0      0              0      0  0.00189  0.0206  0.11118  0.099   \n",
              "292        0      0              0      0  0.00189  0.0206  0.11118  0.099   \n",
              "303        0      0              0      0  0.00189  0.0206  0.11118  0.099   \n",
              "349        0      0              0      0  0.00189  0.0206  0.11118  0.099   \n",
              "375        0      0              0      0  0.00189  0.0206  0.11118  0.099   \n",
              "...      ...    ...            ...    ...      ...     ...      ...    ...   \n",
              "6737       0      0              0      0  0.00189  0.0206  0.11118  0.099   \n",
              "6944       0      0              0      0  0.00232  0.0201  0.11329  0.096   \n",
              "7013       0      0              0      0  0.00232  0.0201  0.11329  0.096   \n",
              "7121       0      0              0      0  0.00232  0.0201  0.11329  0.096   \n",
              "7195       0      0              0      0  0.00232  0.0201  0.11329  0.096   \n",
              "\n",
              "          FTI  Class  \n",
              "244   0.11207      3  \n",
              "292   0.11207      3  \n",
              "303   0.11207      3  \n",
              "349   0.11207      3  \n",
              "375   0.11207      3  \n",
              "...       ...    ...  \n",
              "6737  0.11207      3  \n",
              "6944  0.11776      3  \n",
              "7013  0.11776      3  \n",
              "7121  0.11776      3  \n",
              "7195  0.11776      3  \n",
              "\n",
              "[71 rows x 22 columns]"
            ]
          },
          "execution_count": 8,
          "metadata": {},
          "output_type": "execute_result"
        }
      ],
      "source": [
        "# checking all the duplicates rows in the dataset \n",
        "df.loc[df.duplicated(), :]"
      ]
    },
    {
      "cell_type": "code",
      "execution_count": null,
      "id": "DjPX0jO46WXN",
      "metadata": {
        "id": "DjPX0jO46WXN"
      },
      "outputs": [],
      "source": [
        "#dropping the duplicates\n",
        "df = df.drop_duplicates()"
      ]
    },
    {
      "cell_type": "code",
      "execution_count": null,
      "id": "GkdqaYdh6dGH",
      "metadata": {
        "colab": {
          "base_uri": "https://localhost:8080/"
        },
        "id": "GkdqaYdh6dGH",
        "outputId": "8f679270-aab0-4759-8b0b-a66f3b164e57"
      },
      "outputs": [
        {
          "data": {
            "text/plain": [
              "(7129, 22)"
            ]
          },
          "execution_count": 10,
          "metadata": {},
          "output_type": "execute_result"
        }
      ],
      "source": [
        "df.shape"
      ]
    },
    {
      "cell_type": "code",
      "execution_count": null,
      "id": "Bthv_RgM6f_C",
      "metadata": {
        "colab": {
          "base_uri": "https://localhost:8080/"
        },
        "id": "Bthv_RgM6f_C",
        "outputId": "569f4f2e-4a01-413c-d6a3-de032991224c"
      },
      "outputs": [
        {
          "data": {
            "text/plain": [
              "Age                          0\n",
              "Sex                          0\n",
              "On_thyroxine                 0\n",
              "Query_on_thyroxine           0\n",
              "On_antithyroid_medication    0\n",
              "Sick                         0\n",
              "Pregnant                     0\n",
              "Thyroid_surgery              0\n",
              "I131_treatment               0\n",
              "Query_hypothyroid            0\n",
              "Query_hyperthyroid           0\n",
              "Lithium                      0\n",
              "Goitre                       0\n",
              "Tumor                        0\n",
              "Hypopituitary                0\n",
              "Psych                        0\n",
              "TSH                          0\n",
              "T3                           0\n",
              "TT4                          0\n",
              "T4U                          0\n",
              "FTI                          0\n",
              "Class                        0\n",
              "dtype: int64"
            ]
          },
          "execution_count": 11,
          "metadata": {},
          "output_type": "execute_result"
        }
      ],
      "source": [
        "#Find null values\n",
        "\n",
        "df.isnull().sum()"
      ]
    },
    {
      "cell_type": "code",
      "execution_count": null,
      "id": "LNScc7nJ6g84",
      "metadata": {
        "colab": {
          "base_uri": "https://localhost:8080/"
        },
        "id": "LNScc7nJ6g84",
        "outputId": "a6dd2f00-3cb7-4504-b84d-a0c8d387017d"
      },
      "outputs": [
        {
          "data": {
            "text/plain": [
              "Age                          float64\n",
              "Sex                            int64\n",
              "On_thyroxine                   int64\n",
              "Query_on_thyroxine             int64\n",
              "On_antithyroid_medication      int64\n",
              "Sick                           int64\n",
              "Pregnant                       int64\n",
              "Thyroid_surgery                int64\n",
              "I131_treatment                 int64\n",
              "Query_hypothyroid              int64\n",
              "Query_hyperthyroid             int64\n",
              "Lithium                        int64\n",
              "Goitre                         int64\n",
              "Tumor                          int64\n",
              "Hypopituitary                  int64\n",
              "Psych                          int64\n",
              "TSH                          float64\n",
              "T3                           float64\n",
              "TT4                          float64\n",
              "T4U                          float64\n",
              "FTI                          float64\n",
              "Class                          int64\n",
              "dtype: object"
            ]
          },
          "execution_count": 12,
          "metadata": {},
          "output_type": "execute_result"
        }
      ],
      "source": [
        "#checking the datatypes\n",
        "df.dtypes"
      ]
    },
    {
      "cell_type": "code",
      "execution_count": null,
      "id": "yJx2zIAe6mmX",
      "metadata": {
        "id": "yJx2zIAe6mmX"
      },
      "outputs": [],
      "source": [
        "#changing the datatype of age\n",
        "df['Age'] = df['Age'] * 100\n",
        "df['Age'] = df['Age'].astype(int)"
      ]
    },
    {
      "cell_type": "code",
      "execution_count": null,
      "id": "V0o3NZn66vQK",
      "metadata": {
        "colab": {
          "base_uri": "https://localhost:8080/"
        },
        "id": "V0o3NZn66vQK",
        "outputId": "edc43fde-ad00-4830-c925-e7de00e54957"
      },
      "outputs": [
        {
          "data": {
            "text/plain": [
              "3    6595\n",
              "2     368\n",
              "1     166\n",
              "Name: Class, dtype: int64"
            ]
          },
          "execution_count": 14,
          "metadata": {},
          "output_type": "execute_result"
        }
      ],
      "source": [
        "# to find the number of values for each class i.e target\n",
        "df['Class'].value_counts()"
      ]
    },
    {
      "cell_type": "code",
      "execution_count": null,
      "id": "266a9d26",
      "metadata": {
        "id": "266a9d26",
        "outputId": "a4c84956-32ba-4d4e-fd67-df76a859b440"
      },
      "outputs": [
        {
          "name": "stdout",
          "output_type": "stream",
          "text": [
            "The number of samples with Hyper-thyroidism = 166 \n",
            "\n",
            "The number of samples with Hypo-thyroidism = 368 \n",
            "\n",
            "The number of samples with Negative case of Thyroidism = 6595\n"
          ]
        }
      ],
      "source": [
        "#check for balance or unbalanced case\n",
        "print('The number of samples with Hyper-thyroidism =', len(df[df['Class']==1]), '\\n')\n",
        "print('The number of samples with Hypo-thyroidism =', len(df[df['Class']==2]), '\\n')\n",
        "print('The number of samples with Negative case of Thyroidism =', len(df[df['Class']==3]))"
      ]
    },
    {
      "cell_type": "markdown",
      "id": "107c0715",
      "metadata": {
        "id": "107c0715"
      },
      "source": [
        "### In this case, the dataset is very close to the unbalanced side."
      ]
    },
    {
      "cell_type": "code",
      "execution_count": null,
      "id": "06c8562f",
      "metadata": {
        "id": "06c8562f"
      },
      "outputs": [],
      "source": [
        "dfi = df[['TT4', 'T4U', 'FTI','Age','TSH','T3']].copy()"
      ]
    },
    {
      "cell_type": "code",
      "execution_count": null,
      "id": "6b2feeb6",
      "metadata": {
        "id": "6b2feeb6",
        "outputId": "6969aaab-c95b-475b-b63c-ed2060b97e30"
      },
      "outputs": [
        {
          "data": {
            "text/html": [
              "<div>\n",
              "<style scoped>\n",
              "    .dataframe tbody tr th:only-of-type {\n",
              "        vertical-align: middle;\n",
              "    }\n",
              "\n",
              "    .dataframe tbody tr th {\n",
              "        vertical-align: top;\n",
              "    }\n",
              "\n",
              "    .dataframe thead th {\n",
              "        text-align: right;\n",
              "    }\n",
              "</style>\n",
              "<table border=\"1\" class=\"dataframe\">\n",
              "  <thead>\n",
              "    <tr style=\"text-align: right;\">\n",
              "      <th></th>\n",
              "      <th>TT4</th>\n",
              "      <th>T4U</th>\n",
              "      <th>FTI</th>\n",
              "      <th>Age</th>\n",
              "      <th>TSH</th>\n",
              "      <th>T3</th>\n",
              "    </tr>\n",
              "  </thead>\n",
              "  <tbody>\n",
              "    <tr>\n",
              "      <th>0</th>\n",
              "      <td>0.120</td>\n",
              "      <td>0.082</td>\n",
              "      <td>0.146</td>\n",
              "      <td>73</td>\n",
              "      <td>0.00060</td>\n",
              "      <td>0.015</td>\n",
              "    </tr>\n",
              "    <tr>\n",
              "      <th>1</th>\n",
              "      <td>0.143</td>\n",
              "      <td>0.133</td>\n",
              "      <td>0.108</td>\n",
              "      <td>24</td>\n",
              "      <td>0.00025</td>\n",
              "      <td>0.030</td>\n",
              "    </tr>\n",
              "    <tr>\n",
              "      <th>2</th>\n",
              "      <td>0.102</td>\n",
              "      <td>0.131</td>\n",
              "      <td>0.078</td>\n",
              "      <td>47</td>\n",
              "      <td>0.00190</td>\n",
              "      <td>0.024</td>\n",
              "    </tr>\n",
              "    <tr>\n",
              "      <th>3</th>\n",
              "      <td>0.077</td>\n",
              "      <td>0.090</td>\n",
              "      <td>0.085</td>\n",
              "      <td>64</td>\n",
              "      <td>0.00090</td>\n",
              "      <td>0.017</td>\n",
              "    </tr>\n",
              "    <tr>\n",
              "      <th>4</th>\n",
              "      <td>0.139</td>\n",
              "      <td>0.090</td>\n",
              "      <td>0.153</td>\n",
              "      <td>23</td>\n",
              "      <td>0.00025</td>\n",
              "      <td>0.026</td>\n",
              "    </tr>\n",
              "  </tbody>\n",
              "</table>\n",
              "</div>"
            ],
            "text/plain": [
              "     TT4    T4U    FTI  Age      TSH     T3\n",
              "0  0.120  0.082  0.146   73  0.00060  0.015\n",
              "1  0.143  0.133  0.108   24  0.00025  0.030\n",
              "2  0.102  0.131  0.078   47  0.00190  0.024\n",
              "3  0.077  0.090  0.085   64  0.00090  0.017\n",
              "4  0.139  0.090  0.153   23  0.00025  0.026"
            ]
          },
          "execution_count": 17,
          "metadata": {},
          "output_type": "execute_result"
        }
      ],
      "source": [
        "dfi.head()"
      ]
    },
    {
      "cell_type": "code",
      "execution_count": null,
      "id": "9ea2e5da",
      "metadata": {
        "id": "9ea2e5da"
      },
      "outputs": [],
      "source": [
        "dfi = dfi[dfi.TT4 != '?']\n",
        "dfi = dfi[dfi.T4U != '?']\n",
        "dfi = dfi[dfi.FTI != '?']\n",
        "dfi = dfi[dfi.Age != '?']\n",
        "dfi = dfi[dfi.TSH != '?']\n",
        "dfi = dfi[dfi.T3 != '?']"
      ]
    },
    {
      "cell_type": "code",
      "execution_count": null,
      "id": "b93a08a7",
      "metadata": {
        "id": "b93a08a7"
      },
      "outputs": [],
      "source": [
        "#dropping all null values\n",
        "dfi = dfi.dropna() "
      ]
    },
    {
      "cell_type": "code",
      "execution_count": null,
      "id": "d260a033",
      "metadata": {
        "id": "d260a033"
      },
      "outputs": [],
      "source": [
        "dfi[\"TT4\"] = pd.to_numeric(dfi.TT4, errors='coerce')\n",
        "dfi[\"T4U\"] = pd.to_numeric(dfi.T4U, errors='coerce')\n",
        "dfi[\"FTI\"] = pd.to_numeric(dfi.FTI, errors='coerce')\n",
        "dfi[\"Age\"] = pd.to_numeric(dfi.Age, errors='coerce')\n",
        "dfi[\"TSH\"] = pd.to_numeric(dfi.TSH, errors='coerce')\n",
        "dfi[\"T3\"] = pd.to_numeric(dfi.T3, errors='coerce')"
      ]
    },
    {
      "cell_type": "code",
      "execution_count": null,
      "id": "53dce206",
      "metadata": {
        "id": "53dce206",
        "outputId": "581165df-4732-41d3-ba76-dda779d19d3e"
      },
      "outputs": [
        {
          "data": {
            "text/html": [
              "<div>\n",
              "<style scoped>\n",
              "    .dataframe tbody tr th:only-of-type {\n",
              "        vertical-align: middle;\n",
              "    }\n",
              "\n",
              "    .dataframe tbody tr th {\n",
              "        vertical-align: top;\n",
              "    }\n",
              "\n",
              "    .dataframe thead th {\n",
              "        text-align: right;\n",
              "    }\n",
              "</style>\n",
              "<table border=\"1\" class=\"dataframe\">\n",
              "  <thead>\n",
              "    <tr style=\"text-align: right;\">\n",
              "      <th></th>\n",
              "      <th>TT4</th>\n",
              "      <th>T4U</th>\n",
              "      <th>FTI</th>\n",
              "      <th>Age</th>\n",
              "      <th>TSH</th>\n",
              "      <th>T3</th>\n",
              "    </tr>\n",
              "  </thead>\n",
              "  <tbody>\n",
              "    <tr>\n",
              "      <th>0</th>\n",
              "      <td>0.120</td>\n",
              "      <td>0.082</td>\n",
              "      <td>0.146</td>\n",
              "      <td>73</td>\n",
              "      <td>0.00060</td>\n",
              "      <td>0.0150</td>\n",
              "    </tr>\n",
              "    <tr>\n",
              "      <th>1</th>\n",
              "      <td>0.143</td>\n",
              "      <td>0.133</td>\n",
              "      <td>0.108</td>\n",
              "      <td>24</td>\n",
              "      <td>0.00025</td>\n",
              "      <td>0.0300</td>\n",
              "    </tr>\n",
              "    <tr>\n",
              "      <th>2</th>\n",
              "      <td>0.102</td>\n",
              "      <td>0.131</td>\n",
              "      <td>0.078</td>\n",
              "      <td>47</td>\n",
              "      <td>0.00190</td>\n",
              "      <td>0.0240</td>\n",
              "    </tr>\n",
              "    <tr>\n",
              "      <th>3</th>\n",
              "      <td>0.077</td>\n",
              "      <td>0.090</td>\n",
              "      <td>0.085</td>\n",
              "      <td>64</td>\n",
              "      <td>0.00090</td>\n",
              "      <td>0.0170</td>\n",
              "    </tr>\n",
              "    <tr>\n",
              "      <th>4</th>\n",
              "      <td>0.139</td>\n",
              "      <td>0.090</td>\n",
              "      <td>0.153</td>\n",
              "      <td>23</td>\n",
              "      <td>0.00025</td>\n",
              "      <td>0.0260</td>\n",
              "    </tr>\n",
              "    <tr>\n",
              "      <th>...</th>\n",
              "      <td>...</td>\n",
              "      <td>...</td>\n",
              "      <td>...</td>\n",
              "      <td>...</td>\n",
              "      <td>...</td>\n",
              "      <td>...</td>\n",
              "    </tr>\n",
              "    <tr>\n",
              "      <th>7124</th>\n",
              "      <td>0.090</td>\n",
              "      <td>0.080</td>\n",
              "      <td>0.113</td>\n",
              "      <td>35</td>\n",
              "      <td>0.00068</td>\n",
              "      <td>0.0200</td>\n",
              "    </tr>\n",
              "    <tr>\n",
              "      <th>7125</th>\n",
              "      <td>0.090</td>\n",
              "      <td>0.082</td>\n",
              "      <td>0.110</td>\n",
              "      <td>27</td>\n",
              "      <td>0.00150</td>\n",
              "      <td>0.0201</td>\n",
              "    </tr>\n",
              "    <tr>\n",
              "      <th>7126</th>\n",
              "      <td>0.080</td>\n",
              "      <td>0.075</td>\n",
              "      <td>0.107</td>\n",
              "      <td>26</td>\n",
              "      <td>0.00100</td>\n",
              "      <td>0.0201</td>\n",
              "    </tr>\n",
              "    <tr>\n",
              "      <th>7127</th>\n",
              "      <td>0.098</td>\n",
              "      <td>0.091</td>\n",
              "      <td>0.108</td>\n",
              "      <td>95</td>\n",
              "      <td>0.00160</td>\n",
              "      <td>0.0201</td>\n",
              "    </tr>\n",
              "    <tr>\n",
              "      <th>7128</th>\n",
              "      <td>0.090</td>\n",
              "      <td>0.067</td>\n",
              "      <td>0.134</td>\n",
              "      <td>51</td>\n",
              "      <td>0.00076</td>\n",
              "      <td>0.0201</td>\n",
              "    </tr>\n",
              "  </tbody>\n",
              "</table>\n",
              "<p>7129 rows × 6 columns</p>\n",
              "</div>"
            ],
            "text/plain": [
              "        TT4    T4U    FTI  Age      TSH      T3\n",
              "0     0.120  0.082  0.146   73  0.00060  0.0150\n",
              "1     0.143  0.133  0.108   24  0.00025  0.0300\n",
              "2     0.102  0.131  0.078   47  0.00190  0.0240\n",
              "3     0.077  0.090  0.085   64  0.00090  0.0170\n",
              "4     0.139  0.090  0.153   23  0.00025  0.0260\n",
              "...     ...    ...    ...  ...      ...     ...\n",
              "7124  0.090  0.080  0.113   35  0.00068  0.0200\n",
              "7125  0.090  0.082  0.110   27  0.00150  0.0201\n",
              "7126  0.080  0.075  0.107   26  0.00100  0.0201\n",
              "7127  0.098  0.091  0.108   95  0.00160  0.0201\n",
              "7128  0.090  0.067  0.134   51  0.00076  0.0201\n",
              "\n",
              "[7129 rows x 6 columns]"
            ]
          },
          "execution_count": 21,
          "metadata": {},
          "output_type": "execute_result"
        }
      ],
      "source": [
        "dfi.reset_index(drop=True)"
      ]
    },
    {
      "cell_type": "code",
      "execution_count": null,
      "id": "0e73d2bb",
      "metadata": {
        "id": "0e73d2bb",
        "outputId": "dc9af209-472c-421d-bc37-d72f3331c087"
      },
      "outputs": [
        {
          "name": "stdout",
          "output_type": "stream",
          "text": [
            "<class 'pandas.core.frame.DataFrame'>\n",
            "Int64Index: 7129 entries, 0 to 7199\n",
            "Data columns (total 6 columns):\n",
            " #   Column  Non-Null Count  Dtype  \n",
            "---  ------  --------------  -----  \n",
            " 0   TT4     7129 non-null   float64\n",
            " 1   T4U     7129 non-null   float64\n",
            " 2   FTI     7129 non-null   float64\n",
            " 3   Age     7129 non-null   int32  \n",
            " 4   TSH     7129 non-null   float64\n",
            " 5   T3      7129 non-null   float64\n",
            "dtypes: float64(5), int32(1)\n",
            "memory usage: 362.0 KB\n"
          ]
        }
      ],
      "source": [
        "dfi.info()"
      ]
    },
    {
      "cell_type": "markdown",
      "id": "bed0a575",
      "metadata": {
        "id": "bed0a575",
        "outputId": "23f33a8a-ba06-4987-f530-8bfec02573f7"
      },
      "source": [
        "### Finding the correlations between the continuous variables for feature selection"
      ]
    },
    {
      "cell_type": "code",
      "execution_count": null,
      "id": "e42219e8",
      "metadata": {
        "id": "e42219e8",
        "outputId": "53a89229-92c5-488c-eaeb-e3d74e07a568"
      },
      "outputs": [
        {
          "data": {
            "image/png": "[encoded data removed]",
            "text/plain": [
              "<Figure size 432x288 with 2 Axes>"
            ]
          },
          "metadata": {
            "needs_background": "light"
          },
          "output_type": "display_data"
        }
      ],
      "source": [
        "cor_marix = dfi.corr()\n",
        "sns.heatmap(cor_marix, annot=True, cmap = 'Reds')\n",
        "sns.set(rc = {'figure.figsize':(15,10)})\n",
        "plt.show()"
      ]
    },
    {
      "cell_type": "code",
      "execution_count": null,
      "id": "36e91bc8",
      "metadata": {
        "id": "36e91bc8",
        "outputId": "c5949ee8-46dc-4eae-ca54-bb865c80c90c"
      },
      "outputs": [
        {
          "name": "stdout",
          "output_type": "stream",
          "text": [
            "The Calculated Spearman correlation between TT4 and TT4 is 1.0\n",
            "The Calculated Spearman correlation between TT4 and T4U is 0.3988\n",
            "The Calculated Spearman correlation between TT4 and FTI is 0.7371\n",
            "The Calculated Spearman correlation between TT4 and Age is -0.0457\n",
            "The Calculated Spearman correlation between TT4 and TSH is -0.3114\n"
          ]
        }
      ],
      "source": [
        "cols = dfi.columns  \n",
        "for col in cols[:-1]:\n",
        "    rho, p = spearmanr(dfi[col].values, dfi['TT4'].values)\n",
        "    print('The Calculated Spearman correlation between TT4 and %s is %s' %(col, round(rho, 4)))"
      ]
    },
    {
      "cell_type": "markdown",
      "id": "a3b075a6",
      "metadata": {
        "id": "a3b075a6"
      },
      "source": [
        "### Based on the correlations of variables to TT4 values, 3 features \"T3\", \"FTI\" and \"T4U\" are selected for performing regression analysis. "
      ]
    },
    {
      "cell_type": "code",
      "execution_count": null,
      "id": "96b727d6",
      "metadata": {
        "id": "96b727d6",
        "outputId": "69394f4f-1056-4d91-8254-29e06ec6eb83"
      },
      "outputs": [
        {
          "data": {
            "image/png": "[encoded data removed]",
            "text/plain": [
              "<Figure size 864x864 with 6 Axes>"
            ]
          },
          "metadata": {},
          "output_type": "display_data"
        }
      ],
      "source": [
        "dfi.hist(figsize=(12,12))\n",
        "plt.show()"
      ]
    },
    {
      "cell_type": "code",
      "execution_count": null,
      "id": "60c56f0a",
      "metadata": {
        "id": "60c56f0a"
      },
      "outputs": [],
      "source": [
        "# split data into 2 subsets to train and test.\n",
        "dfr= dfi[['T3', 'FTI', 'T4U']].copy()\n",
        "X = dfi[['T3', 'FTI', 'T4U']] \n",
        "y = dfi.TT4            \n",
        "from sklearn.model_selection import train_test_split\n",
        "\n",
        "X_train, X_test, y_train, y_test = train_test_split(X, y, test_size=0.3, random_state=2)"
      ]
    },
    {
      "cell_type": "code",
      "execution_count": null,
      "id": "890b28c4",
      "metadata": {
        "id": "890b28c4",
        "outputId": "826b2ff9-88eb-4ddd-fa25-0eb2b9f2d4e9"
      },
      "outputs": [
        {
          "data": {
            "text/html": [
              "<style>#sk-container-id-1 {color: black;background-color: white;}#sk-container-id-1 pre{padding: 0;}#sk-container-id-1 div.sk-toggleable {background-color: white;}#sk-container-id-1 label.sk-toggleable__label {cursor: pointer;display: block;width: 100%;margin-bottom: 0;padding: 0.3em;box-sizing: border-box;text-align: center;}#sk-container-id-1 label.sk-toggleable__label-arrow:before {content: \"▸\";float: left;margin-right: 0.25em;color: #696969;}#sk-container-id-1 label.sk-toggleable__label-arrow:hover:before {color: black;}#sk-container-id-1 div.sk-estimator:hover label.sk-toggleable__label-arrow:before {color: black;}#sk-container-id-1 div.sk-toggleable__content {max-height: 0;max-width: 0;overflow: hidden;text-align: left;background-color: #f0f8ff;}#sk-container-id-1 div.sk-toggleable__content pre {margin: 0.2em;color: black;border-radius: 0.25em;background-color: #f0f8ff;}#sk-container-id-1 input.sk-toggleable__control:checked~div.sk-toggleable__content {max-height: 200px;max-width: 100%;overflow: auto;}#sk-container-id-1 input.sk-toggleable__control:checked~label.sk-toggleable__label-arrow:before {content: \"▾\";}#sk-container-id-1 div.sk-estimator input.sk-toggleable__control:checked~label.sk-toggleable__label {background-color: #d4ebff;}#sk-container-id-1 div.sk-label input.sk-toggleable__control:checked~label.sk-toggleable__label {background-color: #d4ebff;}#sk-container-id-1 input.sk-hidden--visually {border: 0;clip: rect(1px 1px 1px 1px);clip: rect(1px, 1px, 1px, 1px);height: 1px;margin: -1px;overflow: hidden;padding: 0;position: absolute;width: 1px;}#sk-container-id-1 div.sk-estimator {font-family: monospace;background-color: #f0f8ff;border: 1px dotted black;border-radius: 0.25em;box-sizing: border-box;margin-bottom: 0.5em;}#sk-container-id-1 div.sk-estimator:hover {background-color: #d4ebff;}#sk-container-id-1 div.sk-parallel-item::after {content: \"\";width: 100%;border-bottom: 1px solid gray;flex-grow: 1;}#sk-container-id-1 div.sk-label:hover label.sk-toggleable__label {background-color: #d4ebff;}#sk-container-id-1 div.sk-serial::before {content: \"\";position: absolute;border-left: 1px solid gray;box-sizing: border-box;top: 0;bottom: 0;left: 50%;z-index: 0;}#sk-container-id-1 div.sk-serial {display: flex;flex-direction: column;align-items: center;background-color: white;padding-right: 0.2em;padding-left: 0.2em;position: relative;}#sk-container-id-1 div.sk-item {position: relative;z-index: 1;}#sk-container-id-1 div.sk-parallel {display: flex;align-items: stretch;justify-content: center;background-color: white;position: relative;}#sk-container-id-1 div.sk-item::before, #sk-container-id-1 div.sk-parallel-item::before {content: \"\";position: absolute;border-left: 1px solid gray;box-sizing: border-box;top: 0;bottom: 0;left: 50%;z-index: -1;}#sk-container-id-1 div.sk-parallel-item {display: flex;flex-direction: column;z-index: 1;position: relative;background-color: white;}#sk-container-id-1 div.sk-parallel-item:first-child::after {align-self: flex-end;width: 50%;}#sk-container-id-1 div.sk-parallel-item:last-child::after {align-self: flex-start;width: 50%;}#sk-container-id-1 div.sk-parallel-item:only-child::after {width: 0;}#sk-container-id-1 div.sk-dashed-wrapped {border: 1px dashed gray;margin: 0 0.4em 0.5em 0.4em;box-sizing: border-box;padding-bottom: 0.4em;background-color: white;}#sk-container-id-1 div.sk-label label {font-family: monospace;font-weight: bold;display: inline-block;line-height: 1.2em;}#sk-container-id-1 div.sk-label-container {text-align: center;}#sk-container-id-1 div.sk-container {/* jupyter's `normalize.less` sets `[hidden] { display: none; }` but bootstrap.min.css set `[hidden] { display: none !important; }` so we also need the `!important` here to be able to override the default hidden behavior on the sphinx rendered scikit-learn.org. See: https://github.com/scikit-learn/scikit-learn/issues/21755 */display: inline-block !important;position: relative;}#sk-container-id-1 div.sk-text-repr-fallback {display: none;}</style><div id=\"sk-container-id-1\" class=\"sk-top-container\"><div class=\"sk-text-repr-fallback\"><pre>LinearRegression()</pre><b>In a Jupyter environment, please rerun this cell to show the HTML representation or trust the notebook. <br />On GitHub, the HTML representation is unable to render, please try loading this page with nbviewer.org.</b></div><div class=\"sk-container\" hidden><div class=\"sk-item\"><div class=\"sk-estimator sk-toggleable\"><input class=\"sk-toggleable__control sk-hidden--visually\" id=\"sk-estimator-id-1\" type=\"checkbox\" checked><label for=\"sk-estimator-id-1\" class=\"sk-toggleable__label sk-toggleable__label-arrow\">LinearRegression</label><div class=\"sk-toggleable__content\"><pre>LinearRegression()</pre></div></div></div></div></div>"
            ],
            "text/plain": [
              "LinearRegression()"
            ]
          },
          "execution_count": 27,
          "metadata": {},
          "output_type": "execute_result"
        }
      ],
      "source": [
        "# Importing 'LinearRegression' through linear_model module\n",
        "\n",
        "from sklearn.linear_model import LinearRegression  \n",
        "#performing linear regression.\n",
        "reg = LinearRegression()         # Instantiate\n",
        "reg.fit(X_train, y_train)        # Fit the train data"
      ]
    },
    {
      "cell_type": "code",
      "execution_count": null,
      "id": "056dd4e3",
      "metadata": {
        "id": "056dd4e3",
        "outputId": "5c2b79c1-a65e-4f38-ba5d-97aa8c731636"
      },
      "outputs": [
        {
          "name": "stdout",
          "output_type": "stream",
          "text": [
            "R^2 score for train dataset =  0.9546 \n",
            "\n",
            "Coefficients of Linear Model: [0.01243381 0.93434909 1.09568396] \n",
            "\n",
            "Intercept: -0.10373228541861375\n"
          ]
        }
      ],
      "source": [
        " # Calculating R^2 score for train\n",
        "r2_train_score = reg.score(X_train, y_train)  \n",
        "\n",
        "print('R^2 score for train dataset = ', round(r2_train_score, 4), '\\n')\n",
        "print('Coefficients of Linear Model:', reg.coef_, '\\n')\n",
        "print('Intercept:', reg.intercept_)"
      ]
    },
    {
      "cell_type": "code",
      "execution_count": null,
      "id": "7904b3d5",
      "metadata": {
        "id": "7904b3d5",
        "outputId": "2d5c5861-aa25-4d2a-cf6b-baead27b9672"
      },
      "outputs": [
        {
          "data": {
            "text/plain": [
              "array([0.07438993, 0.11358467, 0.11855422, 0.17717986, 0.13992661,\n",
              "       0.12150798, 0.1311244 , 0.1373178 , 0.57176874, 0.09616657,\n",
              "       0.1225303 , 0.22953099, 0.22020634, 0.10914856, 0.10212775,\n",
              "       0.08698104, 0.10900081, 0.10297422, 0.13720388, 0.09175714])"
            ]
          },
          "execution_count": 29,
          "metadata": {},
          "output_type": "execute_result"
        }
      ],
      "source": [
        "# calculating the predictions\n",
        "\n",
        "y_pred = reg.predict(X_test)\n",
        "y_pred[:20]  # show predictions of first 20 data points in test dataset"
      ]
    },
    {
      "cell_type": "code",
      "execution_count": null,
      "id": "0688507f",
      "metadata": {
        "id": "0688507f",
        "outputId": "b4cdd293-e0ee-4ffe-f85e-c49a67ef54c0"
      },
      "outputs": [
        {
          "name": "stdout",
          "output_type": "stream",
          "text": [
            "R^2 score for test dataset =  0.9179 \n",
            "\n"
          ]
        }
      ],
      "source": [
        "# calculate performance of the model for test subset and Calculating R^2 score for train\n",
        "r2_test_score = reg.score(X_test, y_test)  \n",
        "print('R^2 score for test dataset = ', round(r2_test_score, 4), '\\n')"
      ]
    },
    {
      "cell_type": "markdown",
      "id": "cJDiQqw6booV",
      "metadata": {
        "id": "cJDiQqw6booV"
      },
      "source": [
        "###### It can be infered that the model has learnt pretty well."
      ]
    },
    {
      "cell_type": "markdown",
      "id": "0ccd8a02",
      "metadata": {
        "id": "0ccd8a02"
      },
      "source": [
        "### Scatter-plot for linear regression:"
      ]
    },
    {
      "cell_type": "code",
      "execution_count": null,
      "id": "981b1613",
      "metadata": {
        "id": "981b1613",
        "outputId": "721d778f-fc7e-4c77-d18c-389f35c00114"
      },
      "outputs": [
        {
          "data": {
            "image/png": "[encoded data removed]",
            "text/plain": [
              "<Figure size 504x504 with 1 Axes>"
            ]
          },
          "metadata": {},
          "output_type": "display_data"
        }
      ],
      "source": [
        "fig, ax = plt.subplots(figsize=(7,7))\n",
        "\n",
        "ax.scatter(y_test, y_pred, edgecolors=(0.3, 0.2, 0.7))  # Scatter plot for predictions vs truth\n",
        "ax.plot([y_test.min(), y_test.max()], [y_test.min(), y_test.max()], 'k--', lw=4)  # Draw line y=x\n",
        "\n",
        "ax.set_xlabel('Real TT4 Values')\n",
        "ax.set_ylabel('Predicted TT4 Values')\n",
        "plt.title('Predicted vs Real values', fontdict=None, loc='center')\n",
        "plt.show()"
      ]
    },
    {
      "cell_type": "markdown",
      "id": "ba6e5be6",
      "metadata": {
        "id": "ba6e5be6"
      },
      "source": [
        "### Decision tree - regressor :"
      ]
    },
    {
      "cell_type": "code",
      "execution_count": null,
      "id": "6eb034b1",
      "metadata": {
        "id": "6eb034b1",
        "outputId": "d1986a88-6fd6-4252-90ba-bf2abd63f82e"
      },
      "outputs": [
        {
          "data": {
            "text/html": [
              "<style>#sk-container-id-2 {color: black;background-color: white;}#sk-container-id-2 pre{padding: 0;}#sk-container-id-2 div.sk-toggleable {background-color: white;}#sk-container-id-2 label.sk-toggleable__label {cursor: pointer;display: block;width: 100%;margin-bottom: 0;padding: 0.3em;box-sizing: border-box;text-align: center;}#sk-container-id-2 label.sk-toggleable__label-arrow:before {content: \"▸\";float: left;margin-right: 0.25em;color: #696969;}#sk-container-id-2 label.sk-toggleable__label-arrow:hover:before {color: black;}#sk-container-id-2 div.sk-estimator:hover label.sk-toggleable__label-arrow:before {color: black;}#sk-container-id-2 div.sk-toggleable__content {max-height: 0;max-width: 0;overflow: hidden;text-align: left;background-color: #f0f8ff;}#sk-container-id-2 div.sk-toggleable__content pre {margin: 0.2em;color: black;border-radius: 0.25em;background-color: #f0f8ff;}#sk-container-id-2 input.sk-toggleable__control:checked~div.sk-toggleable__content {max-height: 200px;max-width: 100%;overflow: auto;}#sk-container-id-2 input.sk-toggleable__control:checked~label.sk-toggleable__label-arrow:before {content: \"▾\";}#sk-container-id-2 div.sk-estimator input.sk-toggleable__control:checked~label.sk-toggleable__label {background-color: #d4ebff;}#sk-container-id-2 div.sk-label input.sk-toggleable__control:checked~label.sk-toggleable__label {background-color: #d4ebff;}#sk-container-id-2 input.sk-hidden--visually {border: 0;clip: rect(1px 1px 1px 1px);clip: rect(1px, 1px, 1px, 1px);height: 1px;margin: -1px;overflow: hidden;padding: 0;position: absolute;width: 1px;}#sk-container-id-2 div.sk-estimator {font-family: monospace;background-color: #f0f8ff;border: 1px dotted black;border-radius: 0.25em;box-sizing: border-box;margin-bottom: 0.5em;}#sk-container-id-2 div.sk-estimator:hover {background-color: #d4ebff;}#sk-container-id-2 div.sk-parallel-item::after {content: \"\";width: 100%;border-bottom: 1px solid gray;flex-grow: 1;}#sk-container-id-2 div.sk-label:hover label.sk-toggleable__label {background-color: #d4ebff;}#sk-container-id-2 div.sk-serial::before {content: \"\";position: absolute;border-left: 1px solid gray;box-sizing: border-box;top: 0;bottom: 0;left: 50%;z-index: 0;}#sk-container-id-2 div.sk-serial {display: flex;flex-direction: column;align-items: center;background-color: white;padding-right: 0.2em;padding-left: 0.2em;position: relative;}#sk-container-id-2 div.sk-item {position: relative;z-index: 1;}#sk-container-id-2 div.sk-parallel {display: flex;align-items: stretch;justify-content: center;background-color: white;position: relative;}#sk-container-id-2 div.sk-item::before, #sk-container-id-2 div.sk-parallel-item::before {content: \"\";position: absolute;border-left: 1px solid gray;box-sizing: border-box;top: 0;bottom: 0;left: 50%;z-index: -1;}#sk-container-id-2 div.sk-parallel-item {display: flex;flex-direction: column;z-index: 1;position: relative;background-color: white;}#sk-container-id-2 div.sk-parallel-item:first-child::after {align-self: flex-end;width: 50%;}#sk-container-id-2 div.sk-parallel-item:last-child::after {align-self: flex-start;width: 50%;}#sk-container-id-2 div.sk-parallel-item:only-child::after {width: 0;}#sk-container-id-2 div.sk-dashed-wrapped {border: 1px dashed gray;margin: 0 0.4em 0.5em 0.4em;box-sizing: border-box;padding-bottom: 0.4em;background-color: white;}#sk-container-id-2 div.sk-label label {font-family: monospace;font-weight: bold;display: inline-block;line-height: 1.2em;}#sk-container-id-2 div.sk-label-container {text-align: center;}#sk-container-id-2 div.sk-container {/* jupyter's `normalize.less` sets `[hidden] { display: none; }` but bootstrap.min.css set `[hidden] { display: none !important; }` so we also need the `!important` here to be able to override the default hidden behavior on the sphinx rendered scikit-learn.org. See: https://github.com/scikit-learn/scikit-learn/issues/21755 */display: inline-block !important;position: relative;}#sk-container-id-2 div.sk-text-repr-fallback {display: none;}</style><div id=\"sk-container-id-2\" class=\"sk-top-container\"><div class=\"sk-text-repr-fallback\"><pre>DecisionTreeRegressor()</pre><b>In a Jupyter environment, please rerun this cell to show the HTML representation or trust the notebook. <br />On GitHub, the HTML representation is unable to render, please try loading this page with nbviewer.org.</b></div><div class=\"sk-container\" hidden><div class=\"sk-item\"><div class=\"sk-estimator sk-toggleable\"><input class=\"sk-toggleable__control sk-hidden--visually\" id=\"sk-estimator-id-2\" type=\"checkbox\" checked><label for=\"sk-estimator-id-2\" class=\"sk-toggleable__label sk-toggleable__label-arrow\">DecisionTreeRegressor</label><div class=\"sk-toggleable__content\"><pre>DecisionTreeRegressor()</pre></div></div></div></div></div>"
            ],
            "text/plain": [
              "DecisionTreeRegressor()"
            ]
          },
          "execution_count": 32,
          "metadata": {},
          "output_type": "execute_result"
        }
      ],
      "source": [
        "from sklearn import tree \n",
        "\n",
        "tr_reg = tree.DecisionTreeRegressor()\n",
        "tr_reg.fit(X_train, y_train)"
      ]
    },
    {
      "cell_type": "code",
      "execution_count": null,
      "id": "7efe0d54",
      "metadata": {
        "id": "7efe0d54"
      },
      "outputs": [],
      "source": [
        "# Finding the predictions of the tree regressor for train and test subsets\n",
        "\n",
        "train_y_pred = tr_reg.predict(X_train)\n",
        "test_y_pred = tr_reg.predict(X_test)"
      ]
    },
    {
      "cell_type": "code",
      "execution_count": null,
      "id": "869dae4f",
      "metadata": {
        "id": "869dae4f",
        "outputId": "2b894d0c-8cb6-4884-b5e5-ab02da9f05fa"
      },
      "outputs": [
        {
          "name": "stdout",
          "output_type": "stream",
          "text": [
            "R^2 score for train dataset =  1.0 \n",
            "\n",
            "R^2 score for test dataset =  0.9597 \n",
            "\n"
          ]
        }
      ],
      "source": [
        "r2_train_score = tr_reg.score(X_train, y_train)   # Calculating R^2 score for train\n",
        "r2_test_score = tr_reg.score(X_test, y_test)      # Calculating R^2 score for test\n",
        "\n",
        "print('R^2 score for train dataset = ', round(r2_train_score, 4), '\\n')\n",
        "print('R^2 score for test dataset = ', round(r2_test_score, 4), '\\n')"
      ]
    },
    {
      "cell_type": "markdown",
      "id": "4d688b7f",
      "metadata": {
        "id": "4d688b7f"
      },
      "source": [
        "### Bagging Regressor"
      ]
    },
    {
      "cell_type": "code",
      "execution_count": null,
      "id": "37af6f9e",
      "metadata": {
        "id": "37af6f9e",
        "outputId": "93884d54-c498-4e1c-ee61-8acb6b3e2c08"
      },
      "outputs": [
        {
          "data": {
            "text/html": [
              "<style>#sk-container-id-3 {color: black;background-color: white;}#sk-container-id-3 pre{padding: 0;}#sk-container-id-3 div.sk-toggleable {background-color: white;}#sk-container-id-3 label.sk-toggleable__label {cursor: pointer;display: block;width: 100%;margin-bottom: 0;padding: 0.3em;box-sizing: border-box;text-align: center;}#sk-container-id-3 label.sk-toggleable__label-arrow:before {content: \"▸\";float: left;margin-right: 0.25em;color: #696969;}#sk-container-id-3 label.sk-toggleable__label-arrow:hover:before {color: black;}#sk-container-id-3 div.sk-estimator:hover label.sk-toggleable__label-arrow:before {color: black;}#sk-container-id-3 div.sk-toggleable__content {max-height: 0;max-width: 0;overflow: hidden;text-align: left;background-color: #f0f8ff;}#sk-container-id-3 div.sk-toggleable__content pre {margin: 0.2em;color: black;border-radius: 0.25em;background-color: #f0f8ff;}#sk-container-id-3 input.sk-toggleable__control:checked~div.sk-toggleable__content {max-height: 200px;max-width: 100%;overflow: auto;}#sk-container-id-3 input.sk-toggleable__control:checked~label.sk-toggleable__label-arrow:before {content: \"▾\";}#sk-container-id-3 div.sk-estimator input.sk-toggleable__control:checked~label.sk-toggleable__label {background-color: #d4ebff;}#sk-container-id-3 div.sk-label input.sk-toggleable__control:checked~label.sk-toggleable__label {background-color: #d4ebff;}#sk-container-id-3 input.sk-hidden--visually {border: 0;clip: rect(1px 1px 1px 1px);clip: rect(1px, 1px, 1px, 1px);height: 1px;margin: -1px;overflow: hidden;padding: 0;position: absolute;width: 1px;}#sk-container-id-3 div.sk-estimator {font-family: monospace;background-color: #f0f8ff;border: 1px dotted black;border-radius: 0.25em;box-sizing: border-box;margin-bottom: 0.5em;}#sk-container-id-3 div.sk-estimator:hover {background-color: #d4ebff;}#sk-container-id-3 div.sk-parallel-item::after {content: \"\";width: 100%;border-bottom: 1px solid gray;flex-grow: 1;}#sk-container-id-3 div.sk-label:hover label.sk-toggleable__label {background-color: #d4ebff;}#sk-container-id-3 div.sk-serial::before {content: \"\";position: absolute;border-left: 1px solid gray;box-sizing: border-box;top: 0;bottom: 0;left: 50%;z-index: 0;}#sk-container-id-3 div.sk-serial {display: flex;flex-direction: column;align-items: center;background-color: white;padding-right: 0.2em;padding-left: 0.2em;position: relative;}#sk-container-id-3 div.sk-item {position: relative;z-index: 1;}#sk-container-id-3 div.sk-parallel {display: flex;align-items: stretch;justify-content: center;background-color: white;position: relative;}#sk-container-id-3 div.sk-item::before, #sk-container-id-3 div.sk-parallel-item::before {content: \"\";position: absolute;border-left: 1px solid gray;box-sizing: border-box;top: 0;bottom: 0;left: 50%;z-index: -1;}#sk-container-id-3 div.sk-parallel-item {display: flex;flex-direction: column;z-index: 1;position: relative;background-color: white;}#sk-container-id-3 div.sk-parallel-item:first-child::after {align-self: flex-end;width: 50%;}#sk-container-id-3 div.sk-parallel-item:last-child::after {align-self: flex-start;width: 50%;}#sk-container-id-3 div.sk-parallel-item:only-child::after {width: 0;}#sk-container-id-3 div.sk-dashed-wrapped {border: 1px dashed gray;margin: 0 0.4em 0.5em 0.4em;box-sizing: border-box;padding-bottom: 0.4em;background-color: white;}#sk-container-id-3 div.sk-label label {font-family: monospace;font-weight: bold;display: inline-block;line-height: 1.2em;}#sk-container-id-3 div.sk-label-container {text-align: center;}#sk-container-id-3 div.sk-container {/* jupyter's `normalize.less` sets `[hidden] { display: none; }` but bootstrap.min.css set `[hidden] { display: none !important; }` so we also need the `!important` here to be able to override the default hidden behavior on the sphinx rendered scikit-learn.org. See: https://github.com/scikit-learn/scikit-learn/issues/21755 */display: inline-block !important;position: relative;}#sk-container-id-3 div.sk-text-repr-fallback {display: none;}</style><div id=\"sk-container-id-3\" class=\"sk-top-container\"><div class=\"sk-text-repr-fallback\"><pre>BaggingRegressor(base_estimator=DecisionTreeRegressor(), n_estimators=100,\n",
              "                 random_state=3)</pre><b>In a Jupyter environment, please rerun this cell to show the HTML representation or trust the notebook. <br />On GitHub, the HTML representation is unable to render, please try loading this page with nbviewer.org.</b></div><div class=\"sk-container\" hidden><div class=\"sk-item sk-dashed-wrapped\"><div class=\"sk-label-container\"><div class=\"sk-label sk-toggleable\"><input class=\"sk-toggleable__control sk-hidden--visually\" id=\"sk-estimator-id-3\" type=\"checkbox\" ><label for=\"sk-estimator-id-3\" class=\"sk-toggleable__label sk-toggleable__label-arrow\">BaggingRegressor</label><div class=\"sk-toggleable__content\"><pre>BaggingRegressor(base_estimator=DecisionTreeRegressor(), n_estimators=100,\n",
              "                 random_state=3)</pre></div></div></div><div class=\"sk-parallel\"><div class=\"sk-parallel-item\"><div class=\"sk-item\"><div class=\"sk-label-container\"><div class=\"sk-label sk-toggleable\"><input class=\"sk-toggleable__control sk-hidden--visually\" id=\"sk-estimator-id-4\" type=\"checkbox\" ><label for=\"sk-estimator-id-4\" class=\"sk-toggleable__label sk-toggleable__label-arrow\">base_estimator: DecisionTreeRegressor</label><div class=\"sk-toggleable__content\"><pre>DecisionTreeRegressor()</pre></div></div></div><div class=\"sk-serial\"><div class=\"sk-item\"><div class=\"sk-estimator sk-toggleable\"><input class=\"sk-toggleable__control sk-hidden--visually\" id=\"sk-estimator-id-5\" type=\"checkbox\" ><label for=\"sk-estimator-id-5\" class=\"sk-toggleable__label sk-toggleable__label-arrow\">DecisionTreeRegressor</label><div class=\"sk-toggleable__content\"><pre>DecisionTreeRegressor()</pre></div></div></div></div></div></div></div></div></div></div>"
            ],
            "text/plain": [
              "BaggingRegressor(base_estimator=DecisionTreeRegressor(), n_estimators=100,\n",
              "                 random_state=3)"
            ]
          },
          "execution_count": 35,
          "metadata": {},
          "output_type": "execute_result"
        }
      ],
      "source": [
        "# Importing BaggingRegressor from ensemble module\n",
        "\n",
        "from sklearn.ensemble import BaggingRegressor\n",
        "\n",
        "# Instantiating the bagged-tree regressor\n",
        "bag_reg = BaggingRegressor(base_estimator=tree.DecisionTreeRegressor(), n_estimators=100, random_state=3)\n",
        "bag_reg.fit(X_train, y_train)  # Fitting the train data"
      ]
    },
    {
      "cell_type": "code",
      "execution_count": null,
      "id": "ff72b1a9",
      "metadata": {
        "id": "ff72b1a9"
      },
      "outputs": [],
      "source": [
        "# Finding the predictions of bagged-tree regressor for train and test subsets\n",
        "\n",
        "train_y_pred = bag_reg.predict(X_train)\n",
        "test_y_pred = bag_reg.predict(X_test)"
      ]
    },
    {
      "cell_type": "code",
      "execution_count": null,
      "id": "4d08fbac",
      "metadata": {
        "id": "4d08fbac",
        "outputId": "ff6e920a-a1d1-443f-fbe2-d19ab5dd295e"
      },
      "outputs": [
        {
          "name": "stdout",
          "output_type": "stream",
          "text": [
            "R^2 score for train dataset =  0.9968 \n",
            "\n",
            "R^2 score for test dataset =  0.9819 \n",
            "\n"
          ]
        }
      ],
      "source": [
        "r2_train_score = bag_reg.score(X_train, y_train)   # Calculating R^2 score for train\n",
        "r2_test_score = bag_reg.score(X_test, y_test)      # Calculating R^2 score for test\n",
        "\n",
        "print('R^2 score for train dataset = ', round(r2_train_score, 4), '\\n')\n",
        "print('R^2 score for test dataset = ', round(r2_test_score, 4), '\\n')"
      ]
    },
    {
      "cell_type": "markdown",
      "id": "EYPPXF4tcGPK",
      "metadata": {
        "id": "EYPPXF4tcGPK"
      },
      "source": [
        "### Random Forest Regressor"
      ]
    },
    {
      "cell_type": "code",
      "execution_count": null,
      "id": "2b2c1162",
      "metadata": {
        "id": "2b2c1162",
        "outputId": "21e6230d-9827-4b5c-b3cd-d111f60bd923"
      },
      "outputs": [
        {
          "data": {
            "text/html": [
              "<style>#sk-container-id-4 {color: black;background-color: white;}#sk-container-id-4 pre{padding: 0;}#sk-container-id-4 div.sk-toggleable {background-color: white;}#sk-container-id-4 label.sk-toggleable__label {cursor: pointer;display: block;width: 100%;margin-bottom: 0;padding: 0.3em;box-sizing: border-box;text-align: center;}#sk-container-id-4 label.sk-toggleable__label-arrow:before {content: \"▸\";float: left;margin-right: 0.25em;color: #696969;}#sk-container-id-4 label.sk-toggleable__label-arrow:hover:before {color: black;}#sk-container-id-4 div.sk-estimator:hover label.sk-toggleable__label-arrow:before {color: black;}#sk-container-id-4 div.sk-toggleable__content {max-height: 0;max-width: 0;overflow: hidden;text-align: left;background-color: #f0f8ff;}#sk-container-id-4 div.sk-toggleable__content pre {margin: 0.2em;color: black;border-radius: 0.25em;background-color: #f0f8ff;}#sk-container-id-4 input.sk-toggleable__control:checked~div.sk-toggleable__content {max-height: 200px;max-width: 100%;overflow: auto;}#sk-container-id-4 input.sk-toggleable__control:checked~label.sk-toggleable__label-arrow:before {content: \"▾\";}#sk-container-id-4 div.sk-estimator input.sk-toggleable__control:checked~label.sk-toggleable__label {background-color: #d4ebff;}#sk-container-id-4 div.sk-label input.sk-toggleable__control:checked~label.sk-toggleable__label {background-color: #d4ebff;}#sk-container-id-4 input.sk-hidden--visually {border: 0;clip: rect(1px 1px 1px 1px);clip: rect(1px, 1px, 1px, 1px);height: 1px;margin: -1px;overflow: hidden;padding: 0;position: absolute;width: 1px;}#sk-container-id-4 div.sk-estimator {font-family: monospace;background-color: #f0f8ff;border: 1px dotted black;border-radius: 0.25em;box-sizing: border-box;margin-bottom: 0.5em;}#sk-container-id-4 div.sk-estimator:hover {background-color: #d4ebff;}#sk-container-id-4 div.sk-parallel-item::after {content: \"\";width: 100%;border-bottom: 1px solid gray;flex-grow: 1;}#sk-container-id-4 div.sk-label:hover label.sk-toggleable__label {background-color: #d4ebff;}#sk-container-id-4 div.sk-serial::before {content: \"\";position: absolute;border-left: 1px solid gray;box-sizing: border-box;top: 0;bottom: 0;left: 50%;z-index: 0;}#sk-container-id-4 div.sk-serial {display: flex;flex-direction: column;align-items: center;background-color: white;padding-right: 0.2em;padding-left: 0.2em;position: relative;}#sk-container-id-4 div.sk-item {position: relative;z-index: 1;}#sk-container-id-4 div.sk-parallel {display: flex;align-items: stretch;justify-content: center;background-color: white;position: relative;}#sk-container-id-4 div.sk-item::before, #sk-container-id-4 div.sk-parallel-item::before {content: \"\";position: absolute;border-left: 1px solid gray;box-sizing: border-box;top: 0;bottom: 0;left: 50%;z-index: -1;}#sk-container-id-4 div.sk-parallel-item {display: flex;flex-direction: column;z-index: 1;position: relative;background-color: white;}#sk-container-id-4 div.sk-parallel-item:first-child::after {align-self: flex-end;width: 50%;}#sk-container-id-4 div.sk-parallel-item:last-child::after {align-self: flex-start;width: 50%;}#sk-container-id-4 div.sk-parallel-item:only-child::after {width: 0;}#sk-container-id-4 div.sk-dashed-wrapped {border: 1px dashed gray;margin: 0 0.4em 0.5em 0.4em;box-sizing: border-box;padding-bottom: 0.4em;background-color: white;}#sk-container-id-4 div.sk-label label {font-family: monospace;font-weight: bold;display: inline-block;line-height: 1.2em;}#sk-container-id-4 div.sk-label-container {text-align: center;}#sk-container-id-4 div.sk-container {/* jupyter's `normalize.less` sets `[hidden] { display: none; }` but bootstrap.min.css set `[hidden] { display: none !important; }` so we also need the `!important` here to be able to override the default hidden behavior on the sphinx rendered scikit-learn.org. See: https://github.com/scikit-learn/scikit-learn/issues/21755 */display: inline-block !important;position: relative;}#sk-container-id-4 div.sk-text-repr-fallback {display: none;}</style><div id=\"sk-container-id-4\" class=\"sk-top-container\"><div class=\"sk-text-repr-fallback\"><pre>RandomForestRegressor(n_estimators=1000, random_state=3)</pre><b>In a Jupyter environment, please rerun this cell to show the HTML representation or trust the notebook. <br />On GitHub, the HTML representation is unable to render, please try loading this page with nbviewer.org.</b></div><div class=\"sk-container\" hidden><div class=\"sk-item\"><div class=\"sk-estimator sk-toggleable\"><input class=\"sk-toggleable__control sk-hidden--visually\" id=\"sk-estimator-id-6\" type=\"checkbox\" checked><label for=\"sk-estimator-id-6\" class=\"sk-toggleable__label sk-toggleable__label-arrow\">RandomForestRegressor</label><div class=\"sk-toggleable__content\"><pre>RandomForestRegressor(n_estimators=1000, random_state=3)</pre></div></div></div></div></div>"
            ],
            "text/plain": [
              "RandomForestRegressor(n_estimators=1000, random_state=3)"
            ]
          },
          "execution_count": 38,
          "metadata": {},
          "output_type": "execute_result"
        }
      ],
      "source": [
        "# Constructing a random forest regressor\n",
        "\n",
        "from sklearn.ensemble import RandomForestRegressor\n",
        "\n",
        "rf_reg = RandomForestRegressor(n_estimators=1000, random_state=3)  # Instantiating the forest\n",
        "rf_reg.fit(X_train, y_train)     "
      ]
    },
    {
      "cell_type": "code",
      "execution_count": null,
      "id": "952c1112",
      "metadata": {
        "id": "952c1112"
      },
      "outputs": [],
      "source": [
        "# Finding the predictions of the random forest regressor for train and test subsets\n",
        "\n",
        "train_y_pred = rf_reg.predict(X_train)\n",
        "test_y_pred = rf_reg.predict(X_test)"
      ]
    },
    {
      "cell_type": "code",
      "execution_count": null,
      "id": "86498ad9",
      "metadata": {
        "id": "86498ad9",
        "outputId": "93c4da70-20f0-4b31-99db-33c572174fc1"
      },
      "outputs": [
        {
          "name": "stdout",
          "output_type": "stream",
          "text": [
            "R^2 score for train dataset =  0.997 \n",
            "\n",
            "R^2 score for test dataset =  0.9825 \n",
            "\n"
          ]
        }
      ],
      "source": [
        "r2_train_score = rf_reg.score(X_train, y_train)   # Calculating R^2 score for train\n",
        "r2_test_score = rf_reg.score(X_test, y_test)      # Calculating R^2 score for test\n",
        "\n",
        "print('R^2 score for train dataset = ', round(r2_train_score, 4), '\\n')\n",
        "print('R^2 score for test dataset = ', round(r2_test_score, 4), '\\n')"
      ]
    },
    {
      "cell_type": "markdown",
      "id": "qxYzLG0wcPBc",
      "metadata": {
        "id": "qxYzLG0wcPBc"
      },
      "source": [
        "##### From all the algorithms that we used for regression analysis, it can be observed that Random Forest algorithm has given the best output"
      ]
    },
    {
      "cell_type": "markdown",
      "id": "532f2a9c",
      "metadata": {
        "id": "532f2a9c"
      },
      "source": [
        " ## TEST CLASSSIFICATION"
      ]
    },
    {
      "cell_type": "markdown",
      "id": "26da6fca",
      "metadata": {
        "id": "26da6fca",
        "outputId": "090cfd85-1f78-44f2-ffb9-bc0dc2b2dc25"
      },
      "source": [
        "### Performing Label encoding for the classes:"
      ]
    },
    {
      "cell_type": "code",
      "execution_count": null,
      "id": "f577175c",
      "metadata": {
        "id": "f577175c"
      },
      "outputs": [],
      "source": [
        "from sklearn import preprocessing\n",
        "  \n",
        "# label_encoder object knows how to un derstand word labels.\n",
        "label_encoder = preprocessing.LabelEncoder()\n",
        "df['Class']= label_encoder.fit_transform(df['Class'])"
      ]
    },
    {
      "cell_type": "code",
      "execution_count": null,
      "id": "42efe032",
      "metadata": {
        "id": "42efe032",
        "outputId": "5faa9ac6-a402-4be7-c48b-9705a9daf8f9"
      },
      "outputs": [
        {
          "name": "stdout",
          "output_type": "stream",
          "text": [
            "The number of samples with Hyper-thyroidism = 166 \n",
            "\n",
            "The number of samples with Hypo-thyroidism = 368 \n",
            "\n",
            "The number of samples with Negative case of Thyroidism = 6595\n"
          ]
        }
      ],
      "source": [
        "#check for accurate conversion after label encoding\n",
        "print('The number of samples with Hyper-thyroidism =', len(df[df['Class']==0]), '\\n')\n",
        "print('The number of samples with Hypo-thyroidism =', len(df[df['Class']==1]), '\\n')\n",
        "print('The number of samples with Negative case of Thyroidism =', len(df[df['Class']==2]))"
      ]
    },
    {
      "cell_type": "markdown",
      "id": "5a557938",
      "metadata": {
        "id": "5a557938"
      },
      "source": [
        "### Gaussian Naive Bayes Classifier:"
      ]
    },
    {
      "cell_type": "code",
      "execution_count": null,
      "id": "791392a4",
      "metadata": {
        "id": "791392a4"
      },
      "outputs": [],
      "source": [
        "from sklearn.naive_bayes import GaussianNB\n",
        "from sklearn import metrics\n",
        "from sklearn.metrics import confusion_matrix, classification_report"
      ]
    },
    {
      "cell_type": "code",
      "execution_count": null,
      "id": "85fdae33",
      "metadata": {
        "id": "85fdae33"
      },
      "outputs": [],
      "source": [
        "df2= df[['TSH','T3','TT4','T4U','FTI','Age','Class']].copy()"
      ]
    },
    {
      "cell_type": "code",
      "execution_count": null,
      "id": "dc765b27",
      "metadata": {
        "id": "dc765b27"
      },
      "outputs": [],
      "source": [
        "cont_features = ['TSH','T3','TT4','T4U','FTI','Age']\n",
        "X = df2[cont_features]\n",
        "y = df2['Class']"
      ]
    },
    {
      "cell_type": "code",
      "execution_count": null,
      "id": "2e688482",
      "metadata": {
        "id": "2e688482"
      },
      "outputs": [],
      "source": [
        "X_train, X_test, y_train, y_test = train_test_split(X, y, test_size=0.25,random_state=3)"
      ]
    },
    {
      "cell_type": "code",
      "execution_count": null,
      "id": "84059f31",
      "metadata": {
        "id": "84059f31"
      },
      "outputs": [],
      "source": [
        "gaussian_nb = GaussianNB()\n",
        "gaussian_nb.fit(X, y)\n",
        "gaussian_nb_score = gaussian_nb.score(X, y)"
      ]
    },
    {
      "cell_type": "code",
      "execution_count": null,
      "id": "8ad32456",
      "metadata": {
        "id": "8ad32456"
      },
      "outputs": [],
      "source": [
        "train_y_pred = gaussian_nb.predict(X_train)\n",
        "test_y_pred = gaussian_nb.predict(X_test)"
      ]
    },
    {
      "cell_type": "code",
      "execution_count": null,
      "id": "bd154ecb",
      "metadata": {
        "id": "bd154ecb"
      },
      "outputs": [],
      "source": [
        "train_score = metrics.accuracy_score(y_train, train_y_pred)\n",
        "test_score = metrics.accuracy_score(y_test, test_y_pred)\n",
        "train_report = classification_report(y_train, train_y_pred)\n",
        "test_report = classification_report(y_test, test_y_pred)"
      ]
    },
    {
      "cell_type": "code",
      "execution_count": null,
      "id": "62b2bc38",
      "metadata": {
        "id": "62b2bc38",
        "outputId": "92910fbe-6244-4038-e2df-85c0c292d04a"
      },
      "outputs": [
        {
          "name": "stdout",
          "output_type": "stream",
          "text": [
            "Gaussian NB Train Classification Report: \n",
            "\n",
            "               precision    recall  f1-score   support\n",
            "\n",
            "           0       0.81      0.85      0.83       133\n",
            "           1       0.67      0.30      0.42       275\n",
            "           2       0.96      0.99      0.98      4938\n",
            "\n",
            "    accuracy                           0.95      5346\n",
            "   macro avg       0.81      0.71      0.74      5346\n",
            "weighted avg       0.94      0.95      0.94      5346\n",
            " \n",
            "\n",
            "\n",
            "Gaussian NB Test Classification Report: \n",
            "\n",
            "               precision    recall  f1-score   support\n",
            "\n",
            "           0       0.84      0.82      0.83        33\n",
            "           1       0.59      0.20      0.30        93\n",
            "           2       0.95      0.99      0.97      1657\n",
            "\n",
            "    accuracy                           0.95      1783\n",
            "   macro avg       0.80      0.67      0.70      1783\n",
            "weighted avg       0.93      0.95      0.93      1783\n",
            "\n"
          ]
        }
      ],
      "source": [
        "print('Gaussian NB Train Classification Report: \\n\\n', train_report,'\\n\\n')\n",
        "print('Gaussian NB Test Classification Report: \\n\\n', test_report)"
      ]
    },
    {
      "cell_type": "markdown",
      "id": "8c51957b",
      "metadata": {
        "id": "8c51957b"
      },
      "source": [
        "### Random Forest - default parameters"
      ]
    },
    {
      "cell_type": "code",
      "execution_count": null,
      "id": "b1fa80b8",
      "metadata": {
        "id": "b1fa80b8",
        "outputId": "6176cadb-7b75-44ae-fac9-36fa002c8bfb"
      },
      "outputs": [
        {
          "data": {
            "text/html": [
              "<style>#sk-container-id-5 {color: black;background-color: white;}#sk-container-id-5 pre{padding: 0;}#sk-container-id-5 div.sk-toggleable {background-color: white;}#sk-container-id-5 label.sk-toggleable__label {cursor: pointer;display: block;width: 100%;margin-bottom: 0;padding: 0.3em;box-sizing: border-box;text-align: center;}#sk-container-id-5 label.sk-toggleable__label-arrow:before {content: \"▸\";float: left;margin-right: 0.25em;color: #696969;}#sk-container-id-5 label.sk-toggleable__label-arrow:hover:before {color: black;}#sk-container-id-5 div.sk-estimator:hover label.sk-toggleable__label-arrow:before {color: black;}#sk-container-id-5 div.sk-toggleable__content {max-height: 0;max-width: 0;overflow: hidden;text-align: left;background-color: #f0f8ff;}#sk-container-id-5 div.sk-toggleable__content pre {margin: 0.2em;color: black;border-radius: 0.25em;background-color: #f0f8ff;}#sk-container-id-5 input.sk-toggleable__control:checked~div.sk-toggleable__content {max-height: 200px;max-width: 100%;overflow: auto;}#sk-container-id-5 input.sk-toggleable__control:checked~label.sk-toggleable__label-arrow:before {content: \"▾\";}#sk-container-id-5 div.sk-estimator input.sk-toggleable__control:checked~label.sk-toggleable__label {background-color: #d4ebff;}#sk-container-id-5 div.sk-label input.sk-toggleable__control:checked~label.sk-toggleable__label {background-color: #d4ebff;}#sk-container-id-5 input.sk-hidden--visually {border: 0;clip: rect(1px 1px 1px 1px);clip: rect(1px, 1px, 1px, 1px);height: 1px;margin: -1px;overflow: hidden;padding: 0;position: absolute;width: 1px;}#sk-container-id-5 div.sk-estimator {font-family: monospace;background-color: #f0f8ff;border: 1px dotted black;border-radius: 0.25em;box-sizing: border-box;margin-bottom: 0.5em;}#sk-container-id-5 div.sk-estimator:hover {background-color: #d4ebff;}#sk-container-id-5 div.sk-parallel-item::after {content: \"\";width: 100%;border-bottom: 1px solid gray;flex-grow: 1;}#sk-container-id-5 div.sk-label:hover label.sk-toggleable__label {background-color: #d4ebff;}#sk-container-id-5 div.sk-serial::before {content: \"\";position: absolute;border-left: 1px solid gray;box-sizing: border-box;top: 0;bottom: 0;left: 50%;z-index: 0;}#sk-container-id-5 div.sk-serial {display: flex;flex-direction: column;align-items: center;background-color: white;padding-right: 0.2em;padding-left: 0.2em;position: relative;}#sk-container-id-5 div.sk-item {position: relative;z-index: 1;}#sk-container-id-5 div.sk-parallel {display: flex;align-items: stretch;justify-content: center;background-color: white;position: relative;}#sk-container-id-5 div.sk-item::before, #sk-container-id-5 div.sk-parallel-item::before {content: \"\";position: absolute;border-left: 1px solid gray;box-sizing: border-box;top: 0;bottom: 0;left: 50%;z-index: -1;}#sk-container-id-5 div.sk-parallel-item {display: flex;flex-direction: column;z-index: 1;position: relative;background-color: white;}#sk-container-id-5 div.sk-parallel-item:first-child::after {align-self: flex-end;width: 50%;}#sk-container-id-5 div.sk-parallel-item:last-child::after {align-self: flex-start;width: 50%;}#sk-container-id-5 div.sk-parallel-item:only-child::after {width: 0;}#sk-container-id-5 div.sk-dashed-wrapped {border: 1px dashed gray;margin: 0 0.4em 0.5em 0.4em;box-sizing: border-box;padding-bottom: 0.4em;background-color: white;}#sk-container-id-5 div.sk-label label {font-family: monospace;font-weight: bold;display: inline-block;line-height: 1.2em;}#sk-container-id-5 div.sk-label-container {text-align: center;}#sk-container-id-5 div.sk-container {/* jupyter's `normalize.less` sets `[hidden] { display: none; }` but bootstrap.min.css set `[hidden] { display: none !important; }` so we also need the `!important` here to be able to override the default hidden behavior on the sphinx rendered scikit-learn.org. See: https://github.com/scikit-learn/scikit-learn/issues/21755 */display: inline-block !important;position: relative;}#sk-container-id-5 div.sk-text-repr-fallback {display: none;}</style><div id=\"sk-container-id-5\" class=\"sk-top-container\"><div class=\"sk-text-repr-fallback\"><pre>RandomForestClassifier(random_state=3)</pre><b>In a Jupyter environment, please rerun this cell to show the HTML representation or trust the notebook. <br />On GitHub, the HTML representation is unable to render, please try loading this page with nbviewer.org.</b></div><div class=\"sk-container\" hidden><div class=\"sk-item\"><div class=\"sk-estimator sk-toggleable\"><input class=\"sk-toggleable__control sk-hidden--visually\" id=\"sk-estimator-id-7\" type=\"checkbox\" checked><label for=\"sk-estimator-id-7\" class=\"sk-toggleable__label sk-toggleable__label-arrow\">RandomForestClassifier</label><div class=\"sk-toggleable__content\"><pre>RandomForestClassifier(random_state=3)</pre></div></div></div></div></div>"
            ],
            "text/plain": [
              "RandomForestClassifier(random_state=3)"
            ]
          },
          "execution_count": 51,
          "metadata": {},
          "output_type": "execute_result"
        }
      ],
      "source": [
        "from sklearn.ensemble import RandomForestClassifier\n",
        "from sklearn.model_selection import train_test_split\n",
        "X_train, X_test, y_train, y_test = train_test_split(X, y, test_size=0.3,random_state=2)\n",
        "rf_clf = RandomForestClassifier(random_state=3)\n",
        "rf_clf.fit(X_train, y_train)"
      ]
    },
    {
      "cell_type": "code",
      "execution_count": null,
      "id": "aca74020",
      "metadata": {
        "id": "aca74020"
      },
      "outputs": [],
      "source": [
        "# Predict test and train subsets:\n",
        "train_y_pred = rf_clf.predict(X_train)\n",
        "test_y_pred = rf_clf.predict(X_test)"
      ]
    },
    {
      "cell_type": "code",
      "execution_count": null,
      "id": "91650f5d",
      "metadata": {
        "id": "91650f5d",
        "outputId": "d7863582-d64b-4004-8cf3-55df17dff585"
      },
      "outputs": [
        {
          "name": "stdout",
          "output_type": "stream",
          "text": [
            "Random Forest Classifier Train Classification Report: \n",
            "\n",
            "               precision    recall  f1-score   support\n",
            "\n",
            "           0       1.00      1.00      1.00       114\n",
            "           1       1.00      1.00      1.00       250\n",
            "           2       1.00      1.00      1.00      4626\n",
            "\n",
            "    accuracy                           1.00      4990\n",
            "   macro avg       1.00      1.00      1.00      4990\n",
            "weighted avg       1.00      1.00      1.00      4990\n",
            " \n",
            "\n",
            "\n",
            "Random Forest Classifier Test Classification Report: \n",
            "\n",
            "               precision    recall  f1-score   support\n",
            "\n",
            "           0       0.89      0.98      0.94        52\n",
            "           1       0.82      0.92      0.87       118\n",
            "           2       0.99      0.99      0.99      1969\n",
            "\n",
            "    accuracy                           0.98      2139\n",
            "   macro avg       0.90      0.96      0.93      2139\n",
            "weighted avg       0.98      0.98      0.98      2139\n",
            "\n"
          ]
        }
      ],
      "source": [
        "#Computing accuracy and generating test and train clasification reports\n",
        "train_score = metrics.accuracy_score(y_train, train_y_pred) \n",
        "test_score = metrics.accuracy_score(y_test, test_y_pred) \n",
        "train_report = classification_report(y_train, train_y_pred) \n",
        "test_report = classification_report(y_test, test_y_pred) \n",
        "print('Random Forest Classifier Train Classification Report: \\n\\n', train_report,'\\n\\n')\n",
        "print('Random Forest Classifier Test Classification Report: \\n\\n', test_report)"
      ]
    },
    {
      "cell_type": "code",
      "execution_count": null,
      "id": "146a9be0",
      "metadata": {
        "id": "146a9be0",
        "outputId": "63e4d5aa-172c-44ae-85b4-10dc0f5969ad"
      },
      "outputs": [
        {
          "data": {
            "image/png": "[encoded data removed]",
            "text/plain": [
              "<Figure size 288x288 with 2 Axes>"
            ]
          },
          "metadata": {},
          "output_type": "display_data"
        }
      ],
      "source": [
        "train_c_matrix = confusion_matrix(y_test, test_y_pred)  # Compute the train confusion matrix\n",
        "\n",
        "plt.figure(figsize=(4,4))\n",
        "sns.heatmap(train_c_matrix, annot=True, fmt=\".1f\", linewidths=.5, square = True, cmap = 'Pastel1');\n",
        "plt.ylabel('Actual label');\n",
        "plt.xlabel('Predicted label');\n",
        "all_sample_title = 'Test Accuracy: {0}'.format(round(test_score, 4))\n",
        "plt.title(all_sample_title, size = 15);\n",
        "plt.show()"
      ]
    },
    {
      "cell_type": "markdown",
      "id": "9c8a6634",
      "metadata": {
        "id": "9c8a6634"
      },
      "source": [
        "### Random Forests - Tuning the hyper-parameters"
      ]
    },
    {
      "cell_type": "code",
      "execution_count": null,
      "id": "9360a8e8",
      "metadata": {
        "id": "9360a8e8",
        "outputId": "35d2935c-fd3a-435d-c6b1-5425d239f416"
      },
      "outputs": [
        {
          "data": {
            "text/html": [
              "<style>#sk-container-id-6 {color: black;background-color: white;}#sk-container-id-6 pre{padding: 0;}#sk-container-id-6 div.sk-toggleable {background-color: white;}#sk-container-id-6 label.sk-toggleable__label {cursor: pointer;display: block;width: 100%;margin-bottom: 0;padding: 0.3em;box-sizing: border-box;text-align: center;}#sk-container-id-6 label.sk-toggleable__label-arrow:before {content: \"▸\";float: left;margin-right: 0.25em;color: #696969;}#sk-container-id-6 label.sk-toggleable__label-arrow:hover:before {color: black;}#sk-container-id-6 div.sk-estimator:hover label.sk-toggleable__label-arrow:before {color: black;}#sk-container-id-6 div.sk-toggleable__content {max-height: 0;max-width: 0;overflow: hidden;text-align: left;background-color: #f0f8ff;}#sk-container-id-6 div.sk-toggleable__content pre {margin: 0.2em;color: black;border-radius: 0.25em;background-color: #f0f8ff;}#sk-container-id-6 input.sk-toggleable__control:checked~div.sk-toggleable__content {max-height: 200px;max-width: 100%;overflow: auto;}#sk-container-id-6 input.sk-toggleable__control:checked~label.sk-toggleable__label-arrow:before {content: \"▾\";}#sk-container-id-6 div.sk-estimator input.sk-toggleable__control:checked~label.sk-toggleable__label {background-color: #d4ebff;}#sk-container-id-6 div.sk-label input.sk-toggleable__control:checked~label.sk-toggleable__label {background-color: #d4ebff;}#sk-container-id-6 input.sk-hidden--visually {border: 0;clip: rect(1px 1px 1px 1px);clip: rect(1px, 1px, 1px, 1px);height: 1px;margin: -1px;overflow: hidden;padding: 0;position: absolute;width: 1px;}#sk-container-id-6 div.sk-estimator {font-family: monospace;background-color: #f0f8ff;border: 1px dotted black;border-radius: 0.25em;box-sizing: border-box;margin-bottom: 0.5em;}#sk-container-id-6 div.sk-estimator:hover {background-color: #d4ebff;}#sk-container-id-6 div.sk-parallel-item::after {content: \"\";width: 100%;border-bottom: 1px solid gray;flex-grow: 1;}#sk-container-id-6 div.sk-label:hover label.sk-toggleable__label {background-color: #d4ebff;}#sk-container-id-6 div.sk-serial::before {content: \"\";position: absolute;border-left: 1px solid gray;box-sizing: border-box;top: 0;bottom: 0;left: 50%;z-index: 0;}#sk-container-id-6 div.sk-serial {display: flex;flex-direction: column;align-items: center;background-color: white;padding-right: 0.2em;padding-left: 0.2em;position: relative;}#sk-container-id-6 div.sk-item {position: relative;z-index: 1;}#sk-container-id-6 div.sk-parallel {display: flex;align-items: stretch;justify-content: center;background-color: white;position: relative;}#sk-container-id-6 div.sk-item::before, #sk-container-id-6 div.sk-parallel-item::before {content: \"\";position: absolute;border-left: 1px solid gray;box-sizing: border-box;top: 0;bottom: 0;left: 50%;z-index: -1;}#sk-container-id-6 div.sk-parallel-item {display: flex;flex-direction: column;z-index: 1;position: relative;background-color: white;}#sk-container-id-6 div.sk-parallel-item:first-child::after {align-self: flex-end;width: 50%;}#sk-container-id-6 div.sk-parallel-item:last-child::after {align-self: flex-start;width: 50%;}#sk-container-id-6 div.sk-parallel-item:only-child::after {width: 0;}#sk-container-id-6 div.sk-dashed-wrapped {border: 1px dashed gray;margin: 0 0.4em 0.5em 0.4em;box-sizing: border-box;padding-bottom: 0.4em;background-color: white;}#sk-container-id-6 div.sk-label label {font-family: monospace;font-weight: bold;display: inline-block;line-height: 1.2em;}#sk-container-id-6 div.sk-label-container {text-align: center;}#sk-container-id-6 div.sk-container {/* jupyter's `normalize.less` sets `[hidden] { display: none; }` but bootstrap.min.css set `[hidden] { display: none !important; }` so we also need the `!important` here to be able to override the default hidden behavior on the sphinx rendered scikit-learn.org. See: https://github.com/scikit-learn/scikit-learn/issues/21755 */display: inline-block !important;position: relative;}#sk-container-id-6 div.sk-text-repr-fallback {display: none;}</style><div id=\"sk-container-id-6\" class=\"sk-top-container\"><div class=\"sk-text-repr-fallback\"><pre>RandomForestClassifier(max_depth=6, min_samples_leaf=5, random_state=3)</pre><b>In a Jupyter environment, please rerun this cell to show the HTML representation or trust the notebook. <br />On GitHub, the HTML representation is unable to render, please try loading this page with nbviewer.org.</b></div><div class=\"sk-container\" hidden><div class=\"sk-item\"><div class=\"sk-estimator sk-toggleable\"><input class=\"sk-toggleable__control sk-hidden--visually\" id=\"sk-estimator-id-8\" type=\"checkbox\" checked><label for=\"sk-estimator-id-8\" class=\"sk-toggleable__label sk-toggleable__label-arrow\">RandomForestClassifier</label><div class=\"sk-toggleable__content\"><pre>RandomForestClassifier(max_depth=6, min_samples_leaf=5, random_state=3)</pre></div></div></div></div></div>"
            ],
            "text/plain": [
              "RandomForestClassifier(max_depth=6, min_samples_leaf=5, random_state=3)"
            ]
          },
          "execution_count": 55,
          "metadata": {},
          "output_type": "execute_result"
        }
      ],
      "source": [
        "# Constuct: Random Forest Classifier - tuning HP:\n",
        "from sklearn.ensemble import RandomForestClassifier\n",
        "rf_clf = RandomForestClassifier(max_depth=6, random_state=3, min_samples_leaf = 5)\n",
        "rf_clf.fit(X_train, y_train)"
      ]
    },
    {
      "cell_type": "code",
      "execution_count": null,
      "id": "90c5d812",
      "metadata": {
        "id": "90c5d812"
      },
      "outputs": [],
      "source": [
        "# Predict test and train subsets:\n",
        "train_y_pred = rf_clf.predict(X_train)\n",
        "test_y_pred = rf_clf.predict(X_test)"
      ]
    },
    {
      "cell_type": "code",
      "execution_count": null,
      "id": "e063633a",
      "metadata": {
        "id": "e063633a",
        "outputId": "d756212b-a888-4cce-8b32-79fd8f22adda"
      },
      "outputs": [
        {
          "name": "stdout",
          "output_type": "stream",
          "text": [
            "Random Forest Classifier Train Classification Report: \n",
            "\n",
            "               precision    recall  f1-score   support\n",
            "\n",
            "           0       0.97      0.99      0.98       114\n",
            "           1       0.83      0.98      0.90       250\n",
            "           2       1.00      0.99      0.99      4626\n",
            "\n",
            "    accuracy                           0.99      4990\n",
            "   macro avg       0.93      0.99      0.96      4990\n",
            "weighted avg       0.99      0.99      0.99      4990\n",
            " \n",
            "\n",
            "\n",
            "Random Forest Classifier Test Classification Report: \n",
            "\n",
            "               precision    recall  f1-score   support\n",
            "\n",
            "           0       0.89      0.94      0.92        52\n",
            "           1       0.82      0.99      0.90       118\n",
            "           2       1.00      0.99      0.99      1969\n",
            "\n",
            "    accuracy                           0.98      2139\n",
            "   macro avg       0.90      0.97      0.94      2139\n",
            "weighted avg       0.99      0.98      0.99      2139\n",
            "\n"
          ]
        }
      ],
      "source": [
        "#Computing accuracy and generating test and train clasification reports\n",
        "train_score = metrics.accuracy_score(y_train, train_y_pred) \n",
        "test_score = metrics.accuracy_score(y_test, test_y_pred) \n",
        "train_report = classification_report(y_train, train_y_pred) \n",
        "test_report = classification_report(y_test, test_y_pred) \n",
        "print('Random Forest Classifier Train Classification Report: \\n\\n', train_report,'\\n\\n')\n",
        "print('Random Forest Classifier Test Classification Report: \\n\\n', test_report)"
      ]
    },
    {
      "cell_type": "code",
      "execution_count": null,
      "id": "6f89bb98",
      "metadata": {
        "id": "6f89bb98",
        "outputId": "2d5a6f5b-ccb6-4cf7-f947-0316679eebb6"
      },
      "outputs": [
        {
          "data": {
            "image/png": "[encoded data removed]",
            "text/plain": [
              "<Figure size 288x288 with 2 Axes>"
            ]
          },
          "metadata": {},
          "output_type": "display_data"
        }
      ],
      "source": [
        "train_c_matrix = confusion_matrix(y_test, test_y_pred)  # Compute the train confusion matrix\n",
        "\n",
        "plt.figure(figsize=(4,4))\n",
        "sns.heatmap(train_c_matrix, annot=True, fmt=\".1f\", linewidths=.5, square = True, cmap = 'Pastel1');\n",
        "plt.ylabel('Actual label');\n",
        "plt.xlabel('Predicted label');\n",
        "all_sample_title = 'Test Accuracy: {0}'.format(round(test_score, 4))\n",
        "plt.title(all_sample_title, size = 15);\n",
        "plt.show()"
      ]
    },
    {
      "cell_type": "markdown",
      "id": "0be5ec02",
      "metadata": {
        "id": "0be5ec02"
      },
      "source": [
        "### Finding the most important features to use in classification :"
      ]
    },
    {
      "cell_type": "code",
      "execution_count": null,
      "id": "a99165db",
      "metadata": {
        "id": "a99165db",
        "outputId": "626ef903-a301-42ca-929b-6f57c553f82d"
      },
      "outputs": [
        {
          "data": {
            "image/png": "[encoded data removed]",
            "text/plain": [
              "<Figure size 360x360 with 1 Axes>"
            ]
          },
          "metadata": {},
          "output_type": "display_data"
        }
      ],
      "source": [
        "#Finding the feature importance :\n",
        "feature_importance = rf_clf.feature_importances_\n",
        "feature_importance = 100.0*(feature_importance/np.sum(feature_importance))\n",
        "\n",
        "sorted_idx = np.argsort(feature_importance)\n",
        "pos=np.arange(sorted_idx.shape[0])+0.5\n",
        "plt.figure(figsize=(5, 5))\n",
        "plt.title(\"Feature Importance\")\n",
        "plt.xlabel('Relative Importance')\n",
        "plt.barh(pos, feature_importance[sorted_idx], color='green', align=\"center\")\n",
        "plt.yticks(pos,df2.columns[:-1][sorted_idx])\n",
        "plt.show()"
      ]
    },
    {
      "cell_type": "markdown",
      "id": "9a40f200",
      "metadata": {
        "id": "9a40f200"
      },
      "source": [
        "### Therefore the features \"TSH\", \"FTI\" and \"TT4\" are used for further classification algorithms"
      ]
    },
    {
      "cell_type": "markdown",
      "id": "b17e1058",
      "metadata": {
        "id": "b17e1058"
      },
      "source": [
        "### Random Forest with only important features. "
      ]
    },
    {
      "cell_type": "code",
      "execution_count": null,
      "id": "468e52d8",
      "metadata": {
        "id": "468e52d8"
      },
      "outputs": [],
      "source": [
        "cont_features = ['TSH','T3','TT4','T4U','FTI','Age']\n",
        "imp_features = ['TSH','FTI','TT4']\n",
        "X = df2[imp_features]\n",
        "y = df2['Class']"
      ]
    },
    {
      "cell_type": "code",
      "execution_count": null,
      "id": "a806f95e",
      "metadata": {
        "id": "a806f95e"
      },
      "outputs": [],
      "source": [
        "X_train, X_test, y_train, y_test = train_test_split(X, y, test_size=0.3,random_state=2)"
      ]
    },
    {
      "cell_type": "code",
      "execution_count": null,
      "id": "d2bbcbb6",
      "metadata": {
        "id": "d2bbcbb6",
        "outputId": "dbfe4030-7480-460a-a9a3-7cc06be2f084"
      },
      "outputs": [
        {
          "data": {
            "text/html": [
              "<style>#sk-container-id-7 {color: black;background-color: white;}#sk-container-id-7 pre{padding: 0;}#sk-container-id-7 div.sk-toggleable {background-color: white;}#sk-container-id-7 label.sk-toggleable__label {cursor: pointer;display: block;width: 100%;margin-bottom: 0;padding: 0.3em;box-sizing: border-box;text-align: center;}#sk-container-id-7 label.sk-toggleable__label-arrow:before {content: \"▸\";float: left;margin-right: 0.25em;color: #696969;}#sk-container-id-7 label.sk-toggleable__label-arrow:hover:before {color: black;}#sk-container-id-7 div.sk-estimator:hover label.sk-toggleable__label-arrow:before {color: black;}#sk-container-id-7 div.sk-toggleable__content {max-height: 0;max-width: 0;overflow: hidden;text-align: left;background-color: #f0f8ff;}#sk-container-id-7 div.sk-toggleable__content pre {margin: 0.2em;color: black;border-radius: 0.25em;background-color: #f0f8ff;}#sk-container-id-7 input.sk-toggleable__control:checked~div.sk-toggleable__content {max-height: 200px;max-width: 100%;overflow: auto;}#sk-container-id-7 input.sk-toggleable__control:checked~label.sk-toggleable__label-arrow:before {content: \"▾\";}#sk-container-id-7 div.sk-estimator input.sk-toggleable__control:checked~label.sk-toggleable__label {background-color: #d4ebff;}#sk-container-id-7 div.sk-label input.sk-toggleable__control:checked~label.sk-toggleable__label {background-color: #d4ebff;}#sk-container-id-7 input.sk-hidden--visually {border: 0;clip: rect(1px 1px 1px 1px);clip: rect(1px, 1px, 1px, 1px);height: 1px;margin: -1px;overflow: hidden;padding: 0;position: absolute;width: 1px;}#sk-container-id-7 div.sk-estimator {font-family: monospace;background-color: #f0f8ff;border: 1px dotted black;border-radius: 0.25em;box-sizing: border-box;margin-bottom: 0.5em;}#sk-container-id-7 div.sk-estimator:hover {background-color: #d4ebff;}#sk-container-id-7 div.sk-parallel-item::after {content: \"\";width: 100%;border-bottom: 1px solid gray;flex-grow: 1;}#sk-container-id-7 div.sk-label:hover label.sk-toggleable__label {background-color: #d4ebff;}#sk-container-id-7 div.sk-serial::before {content: \"\";position: absolute;border-left: 1px solid gray;box-sizing: border-box;top: 0;bottom: 0;left: 50%;z-index: 0;}#sk-container-id-7 div.sk-serial {display: flex;flex-direction: column;align-items: center;background-color: white;padding-right: 0.2em;padding-left: 0.2em;position: relative;}#sk-container-id-7 div.sk-item {position: relative;z-index: 1;}#sk-container-id-7 div.sk-parallel {display: flex;align-items: stretch;justify-content: center;background-color: white;position: relative;}#sk-container-id-7 div.sk-item::before, #sk-container-id-7 div.sk-parallel-item::before {content: \"\";position: absolute;border-left: 1px solid gray;box-sizing: border-box;top: 0;bottom: 0;left: 50%;z-index: -1;}#sk-container-id-7 div.sk-parallel-item {display: flex;flex-direction: column;z-index: 1;position: relative;background-color: white;}#sk-container-id-7 div.sk-parallel-item:first-child::after {align-self: flex-end;width: 50%;}#sk-container-id-7 div.sk-parallel-item:last-child::after {align-self: flex-start;width: 50%;}#sk-container-id-7 div.sk-parallel-item:only-child::after {width: 0;}#sk-container-id-7 div.sk-dashed-wrapped {border: 1px dashed gray;margin: 0 0.4em 0.5em 0.4em;box-sizing: border-box;padding-bottom: 0.4em;background-color: white;}#sk-container-id-7 div.sk-label label {font-family: monospace;font-weight: bold;display: inline-block;line-height: 1.2em;}#sk-container-id-7 div.sk-label-container {text-align: center;}#sk-container-id-7 div.sk-container {/* jupyter's `normalize.less` sets `[hidden] { display: none; }` but bootstrap.min.css set `[hidden] { display: none !important; }` so we also need the `!important` here to be able to override the default hidden behavior on the sphinx rendered scikit-learn.org. See: https://github.com/scikit-learn/scikit-learn/issues/21755 */display: inline-block !important;position: relative;}#sk-container-id-7 div.sk-text-repr-fallback {display: none;}</style><div id=\"sk-container-id-7\" class=\"sk-top-container\"><div class=\"sk-text-repr-fallback\"><pre>RandomForestClassifier(max_depth=65, max_features=2, min_samples_leaf=3,\n",
              "                       min_samples_split=10, n_estimators=200, random_state=3)</pre><b>In a Jupyter environment, please rerun this cell to show the HTML representation or trust the notebook. <br />On GitHub, the HTML representation is unable to render, please try loading this page with nbviewer.org.</b></div><div class=\"sk-container\" hidden><div class=\"sk-item\"><div class=\"sk-estimator sk-toggleable\"><input class=\"sk-toggleable__control sk-hidden--visually\" id=\"sk-estimator-id-9\" type=\"checkbox\" checked><label for=\"sk-estimator-id-9\" class=\"sk-toggleable__label sk-toggleable__label-arrow\">RandomForestClassifier</label><div class=\"sk-toggleable__content\"><pre>RandomForestClassifier(max_depth=65, max_features=2, min_samples_leaf=3,\n",
              "                       min_samples_split=10, n_estimators=200, random_state=3)</pre></div></div></div></div></div>"
            ],
            "text/plain": [
              "RandomForestClassifier(max_depth=65, max_features=2, min_samples_leaf=3,\n",
              "                       min_samples_split=10, n_estimators=200, random_state=3)"
            ]
          },
          "execution_count": 62,
          "metadata": {},
          "output_type": "execute_result"
        }
      ],
      "source": [
        "# Constuct: Random Forest Classifier :\n",
        "from sklearn.ensemble import RandomForestClassifier\n",
        "rf_clf = RandomForestClassifier(max_depth=65, max_features=2, min_samples_leaf=3,min_samples_split=10, n_estimators=200, random_state=3)\n",
        "rf_clf.fit(X_train, y_train) "
      ]
    },
    {
      "cell_type": "code",
      "execution_count": null,
      "id": "d1d5f5f6",
      "metadata": {
        "id": "d1d5f5f6"
      },
      "outputs": [],
      "source": [
        "# Predict test and train subsets:\n",
        "train_y_pred = rf_clf.predict(X_train)\n",
        "test_y_pred = rf_clf.predict(X_test)"
      ]
    },
    {
      "cell_type": "code",
      "execution_count": null,
      "id": "97197499",
      "metadata": {
        "id": "97197499",
        "outputId": "956d06d1-db0e-4208-ae57-ffe2ff2202ef"
      },
      "outputs": [
        {
          "name": "stdout",
          "output_type": "stream",
          "text": [
            "Random Forest Classifier Train Classification Report: \n",
            "\n",
            "               precision    recall  f1-score   support\n",
            "\n",
            "           0       0.92      1.00      0.96       114\n",
            "           1       0.84      0.99      0.91       250\n",
            "           2       1.00      0.99      0.99      4626\n",
            "\n",
            "    accuracy                           0.99      4990\n",
            "   macro avg       0.92      0.99      0.95      4990\n",
            "weighted avg       0.99      0.99      0.99      4990\n",
            " \n",
            "\n",
            "\n",
            "Random Forest Classifier Test Classification Report: \n",
            "\n",
            "               precision    recall  f1-score   support\n",
            "\n",
            "           0       0.90      1.00      0.95        52\n",
            "           1       0.74      0.92      0.82       118\n",
            "           2       0.99      0.98      0.99      1969\n",
            "\n",
            "    accuracy                           0.98      2139\n",
            "   macro avg       0.88      0.96      0.92      2139\n",
            "weighted avg       0.98      0.98      0.98      2139\n",
            "\n"
          ]
        }
      ],
      "source": [
        "#Computing accuracy and generating test and train clasification reports\n",
        "train_score = metrics.accuracy_score(y_train, train_y_pred) \n",
        "test_score = metrics.accuracy_score(y_test, test_y_pred) \n",
        "train_report = classification_report(y_train, train_y_pred) \n",
        "test_report = classification_report(y_test, test_y_pred) \n",
        "print('Random Forest Classifier Train Classification Report: \\n\\n', train_report,'\\n\\n')\n",
        "print('Random Forest Classifier Test Classification Report: \\n\\n', test_report)"
      ]
    },
    {
      "cell_type": "markdown",
      "id": "0601d61b",
      "metadata": {
        "id": "0601d61b"
      },
      "source": [
        "## LDA and QDA for Classification :"
      ]
    },
    {
      "cell_type": "code",
      "execution_count": null,
      "id": "586a9b18",
      "metadata": {
        "id": "586a9b18",
        "outputId": "e8808ee7-1b91-4955-e10c-1e2a3e5ba5d0"
      },
      "outputs": [
        {
          "data": {
            "text/html": [
              "<style>#sk-container-id-8 {color: black;background-color: white;}#sk-container-id-8 pre{padding: 0;}#sk-container-id-8 div.sk-toggleable {background-color: white;}#sk-container-id-8 label.sk-toggleable__label {cursor: pointer;display: block;width: 100%;margin-bottom: 0;padding: 0.3em;box-sizing: border-box;text-align: center;}#sk-container-id-8 label.sk-toggleable__label-arrow:before {content: \"▸\";float: left;margin-right: 0.25em;color: #696969;}#sk-container-id-8 label.sk-toggleable__label-arrow:hover:before {color: black;}#sk-container-id-8 div.sk-estimator:hover label.sk-toggleable__label-arrow:before {color: black;}#sk-container-id-8 div.sk-toggleable__content {max-height: 0;max-width: 0;overflow: hidden;text-align: left;background-color: #f0f8ff;}#sk-container-id-8 div.sk-toggleable__content pre {margin: 0.2em;color: black;border-radius: 0.25em;background-color: #f0f8ff;}#sk-container-id-8 input.sk-toggleable__control:checked~div.sk-toggleable__content {max-height: 200px;max-width: 100%;overflow: auto;}#sk-container-id-8 input.sk-toggleable__control:checked~label.sk-toggleable__label-arrow:before {content: \"▾\";}#sk-container-id-8 div.sk-estimator input.sk-toggleable__control:checked~label.sk-toggleable__label {background-color: #d4ebff;}#sk-container-id-8 div.sk-label input.sk-toggleable__control:checked~label.sk-toggleable__label {background-color: #d4ebff;}#sk-container-id-8 input.sk-hidden--visually {border: 0;clip: rect(1px 1px 1px 1px);clip: rect(1px, 1px, 1px, 1px);height: 1px;margin: -1px;overflow: hidden;padding: 0;position: absolute;width: 1px;}#sk-container-id-8 div.sk-estimator {font-family: monospace;background-color: #f0f8ff;border: 1px dotted black;border-radius: 0.25em;box-sizing: border-box;margin-bottom: 0.5em;}#sk-container-id-8 div.sk-estimator:hover {background-color: #d4ebff;}#sk-container-id-8 div.sk-parallel-item::after {content: \"\";width: 100%;border-bottom: 1px solid gray;flex-grow: 1;}#sk-container-id-8 div.sk-label:hover label.sk-toggleable__label {background-color: #d4ebff;}#sk-container-id-8 div.sk-serial::before {content: \"\";position: absolute;border-left: 1px solid gray;box-sizing: border-box;top: 0;bottom: 0;left: 50%;z-index: 0;}#sk-container-id-8 div.sk-serial {display: flex;flex-direction: column;align-items: center;background-color: white;padding-right: 0.2em;padding-left: 0.2em;position: relative;}#sk-container-id-8 div.sk-item {position: relative;z-index: 1;}#sk-container-id-8 div.sk-parallel {display: flex;align-items: stretch;justify-content: center;background-color: white;position: relative;}#sk-container-id-8 div.sk-item::before, #sk-container-id-8 div.sk-parallel-item::before {content: \"\";position: absolute;border-left: 1px solid gray;box-sizing: border-box;top: 0;bottom: 0;left: 50%;z-index: -1;}#sk-container-id-8 div.sk-parallel-item {display: flex;flex-direction: column;z-index: 1;position: relative;background-color: white;}#sk-container-id-8 div.sk-parallel-item:first-child::after {align-self: flex-end;width: 50%;}#sk-container-id-8 div.sk-parallel-item:last-child::after {align-self: flex-start;width: 50%;}#sk-container-id-8 div.sk-parallel-item:only-child::after {width: 0;}#sk-container-id-8 div.sk-dashed-wrapped {border: 1px dashed gray;margin: 0 0.4em 0.5em 0.4em;box-sizing: border-box;padding-bottom: 0.4em;background-color: white;}#sk-container-id-8 div.sk-label label {font-family: monospace;font-weight: bold;display: inline-block;line-height: 1.2em;}#sk-container-id-8 div.sk-label-container {text-align: center;}#sk-container-id-8 div.sk-container {/* jupyter's `normalize.less` sets `[hidden] { display: none; }` but bootstrap.min.css set `[hidden] { display: none !important; }` so we also need the `!important` here to be able to override the default hidden behavior on the sphinx rendered scikit-learn.org. See: https://github.com/scikit-learn/scikit-learn/issues/21755 */display: inline-block !important;position: relative;}#sk-container-id-8 div.sk-text-repr-fallback {display: none;}</style><div id=\"sk-container-id-8\" class=\"sk-top-container\"><div class=\"sk-text-repr-fallback\"><pre>LinearDiscriminantAnalysis()</pre><b>In a Jupyter environment, please rerun this cell to show the HTML representation or trust the notebook. <br />On GitHub, the HTML representation is unable to render, please try loading this page with nbviewer.org.</b></div><div class=\"sk-container\" hidden><div class=\"sk-item\"><div class=\"sk-estimator sk-toggleable\"><input class=\"sk-toggleable__control sk-hidden--visually\" id=\"sk-estimator-id-10\" type=\"checkbox\" checked><label for=\"sk-estimator-id-10\" class=\"sk-toggleable__label sk-toggleable__label-arrow\">LinearDiscriminantAnalysis</label><div class=\"sk-toggleable__content\"><pre>LinearDiscriminantAnalysis()</pre></div></div></div></div></div>"
            ],
            "text/plain": [
              "LinearDiscriminantAnalysis()"
            ]
          },
          "execution_count": 65,
          "metadata": {},
          "output_type": "execute_result"
        }
      ],
      "source": [
        "# Loading 'LinearDiscriminantAnalysis' from 'discriminant_analysis' module\n",
        "from sklearn.discriminant_analysis import LinearDiscriminantAnalysis\n",
        "lda_clf = LinearDiscriminantAnalysis() # Instantiating the lda classifier\n",
        "lda_clf.fit(X_train, y_train) # Fitting the train data"
      ]
    },
    {
      "cell_type": "code",
      "execution_count": null,
      "id": "a9f1e3e1",
      "metadata": {
        "id": "a9f1e3e1"
      },
      "outputs": [],
      "source": [
        "# Finding the predictions of the lda classifier for train and test subsets\n",
        "lda_train_y_pred = lda_clf.predict(X_train)\n",
        "lda_test_y_pred = lda_clf.predict(X_test)"
      ]
    },
    {
      "cell_type": "code",
      "execution_count": null,
      "id": "e53706e3",
      "metadata": {
        "id": "e53706e3",
        "outputId": "8b86d099-c411-4d41-b7fd-92fbb3a577a4"
      },
      "outputs": [
        {
          "name": "stdout",
          "output_type": "stream",
          "text": [
            "The predictions for LDA Classifier for test subset are:\n"
          ]
        },
        {
          "data": {
            "text/plain": [
              "array([2, 2, 2, ..., 2, 2, 2], dtype=int64)"
            ]
          },
          "execution_count": 67,
          "metadata": {},
          "output_type": "execute_result"
        }
      ],
      "source": [
        "print(\"The predictions for LDA Classifier for test subset are:\")\n",
        "lda_test_y_pred"
      ]
    },
    {
      "cell_type": "code",
      "execution_count": null,
      "id": "bd89804d",
      "metadata": {
        "id": "bd89804d",
        "outputId": "90f0dbfe-3ada-47ee-a008-7c4d74fc1c8c"
      },
      "outputs": [
        {
          "data": {
            "text/html": [
              "<style>#sk-container-id-9 {color: black;background-color: white;}#sk-container-id-9 pre{padding: 0;}#sk-container-id-9 div.sk-toggleable {background-color: white;}#sk-container-id-9 label.sk-toggleable__label {cursor: pointer;display: block;width: 100%;margin-bottom: 0;padding: 0.3em;box-sizing: border-box;text-align: center;}#sk-container-id-9 label.sk-toggleable__label-arrow:before {content: \"▸\";float: left;margin-right: 0.25em;color: #696969;}#sk-container-id-9 label.sk-toggleable__label-arrow:hover:before {color: black;}#sk-container-id-9 div.sk-estimator:hover label.sk-toggleable__label-arrow:before {color: black;}#sk-container-id-9 div.sk-toggleable__content {max-height: 0;max-width: 0;overflow: hidden;text-align: left;background-color: #f0f8ff;}#sk-container-id-9 div.sk-toggleable__content pre {margin: 0.2em;color: black;border-radius: 0.25em;background-color: #f0f8ff;}#sk-container-id-9 input.sk-toggleable__control:checked~div.sk-toggleable__content {max-height: 200px;max-width: 100%;overflow: auto;}#sk-container-id-9 input.sk-toggleable__control:checked~label.sk-toggleable__label-arrow:before {content: \"▾\";}#sk-container-id-9 div.sk-estimator input.sk-toggleable__control:checked~label.sk-toggleable__label {background-color: #d4ebff;}#sk-container-id-9 div.sk-label input.sk-toggleable__control:checked~label.sk-toggleable__label {background-color: #d4ebff;}#sk-container-id-9 input.sk-hidden--visually {border: 0;clip: rect(1px 1px 1px 1px);clip: rect(1px, 1px, 1px, 1px);height: 1px;margin: -1px;overflow: hidden;padding: 0;position: absolute;width: 1px;}#sk-container-id-9 div.sk-estimator {font-family: monospace;background-color: #f0f8ff;border: 1px dotted black;border-radius: 0.25em;box-sizing: border-box;margin-bottom: 0.5em;}#sk-container-id-9 div.sk-estimator:hover {background-color: #d4ebff;}#sk-container-id-9 div.sk-parallel-item::after {content: \"\";width: 100%;border-bottom: 1px solid gray;flex-grow: 1;}#sk-container-id-9 div.sk-label:hover label.sk-toggleable__label {background-color: #d4ebff;}#sk-container-id-9 div.sk-serial::before {content: \"\";position: absolute;border-left: 1px solid gray;box-sizing: border-box;top: 0;bottom: 0;left: 50%;z-index: 0;}#sk-container-id-9 div.sk-serial {display: flex;flex-direction: column;align-items: center;background-color: white;padding-right: 0.2em;padding-left: 0.2em;position: relative;}#sk-container-id-9 div.sk-item {position: relative;z-index: 1;}#sk-container-id-9 div.sk-parallel {display: flex;align-items: stretch;justify-content: center;background-color: white;position: relative;}#sk-container-id-9 div.sk-item::before, #sk-container-id-9 div.sk-parallel-item::before {content: \"\";position: absolute;border-left: 1px solid gray;box-sizing: border-box;top: 0;bottom: 0;left: 50%;z-index: -1;}#sk-container-id-9 div.sk-parallel-item {display: flex;flex-direction: column;z-index: 1;position: relative;background-color: white;}#sk-container-id-9 div.sk-parallel-item:first-child::after {align-self: flex-end;width: 50%;}#sk-container-id-9 div.sk-parallel-item:last-child::after {align-self: flex-start;width: 50%;}#sk-container-id-9 div.sk-parallel-item:only-child::after {width: 0;}#sk-container-id-9 div.sk-dashed-wrapped {border: 1px dashed gray;margin: 0 0.4em 0.5em 0.4em;box-sizing: border-box;padding-bottom: 0.4em;background-color: white;}#sk-container-id-9 div.sk-label label {font-family: monospace;font-weight: bold;display: inline-block;line-height: 1.2em;}#sk-container-id-9 div.sk-label-container {text-align: center;}#sk-container-id-9 div.sk-container {/* jupyter's `normalize.less` sets `[hidden] { display: none; }` but bootstrap.min.css set `[hidden] { display: none !important; }` so we also need the `!important` here to be able to override the default hidden behavior on the sphinx rendered scikit-learn.org. See: https://github.com/scikit-learn/scikit-learn/issues/21755 */display: inline-block !important;position: relative;}#sk-container-id-9 div.sk-text-repr-fallback {display: none;}</style><div id=\"sk-container-id-9\" class=\"sk-top-container\"><div class=\"sk-text-repr-fallback\"><pre>QuadraticDiscriminantAnalysis()</pre><b>In a Jupyter environment, please rerun this cell to show the HTML representation or trust the notebook. <br />On GitHub, the HTML representation is unable to render, please try loading this page with nbviewer.org.</b></div><div class=\"sk-container\" hidden><div class=\"sk-item\"><div class=\"sk-estimator sk-toggleable\"><input class=\"sk-toggleable__control sk-hidden--visually\" id=\"sk-estimator-id-11\" type=\"checkbox\" checked><label for=\"sk-estimator-id-11\" class=\"sk-toggleable__label sk-toggleable__label-arrow\">QuadraticDiscriminantAnalysis</label><div class=\"sk-toggleable__content\"><pre>QuadraticDiscriminantAnalysis()</pre></div></div></div></div></div>"
            ],
            "text/plain": [
              "QuadraticDiscriminantAnalysis()"
            ]
          },
          "execution_count": 68,
          "metadata": {},
          "output_type": "execute_result"
        }
      ],
      "source": [
        "# Loading 'QuadraticDiscriminantAnalysis' from 'discriminant_analysis' module\n",
        "from sklearn.discriminant_analysis import QuadraticDiscriminantAnalysis\n",
        "qda_clf = QuadraticDiscriminantAnalysis() # Instantiating the QDA classifier\n",
        "qda_clf.fit(X_train, y_train) # Fitting the training data"
      ]
    },
    {
      "cell_type": "code",
      "execution_count": null,
      "id": "978a28fc",
      "metadata": {
        "id": "978a28fc"
      },
      "outputs": [],
      "source": [
        "# Finding predictions of qda classifier for the train and test subsets\n",
        "qda_train_y_pred = qda_clf.predict(X_train)\n",
        "qda_test_y_pred = qda_clf.predict(X_test)"
      ]
    },
    {
      "cell_type": "code",
      "execution_count": null,
      "id": "14b5ba34",
      "metadata": {
        "id": "14b5ba34",
        "outputId": "afe1a9c1-3f43-4e03-a035-999b9afa65bf"
      },
      "outputs": [
        {
          "name": "stdout",
          "output_type": "stream",
          "text": [
            "The predictions for QDA Classifier for test subset are:\n"
          ]
        },
        {
          "data": {
            "text/plain": [
              "array([2, 2, 2, ..., 2, 2, 2], dtype=int64)"
            ]
          },
          "execution_count": 70,
          "metadata": {},
          "output_type": "execute_result"
        }
      ],
      "source": [
        "print(\"The predictions for QDA Classifier for test subset are:\")\n",
        "qda_test_y_pred"
      ]
    },
    {
      "cell_type": "code",
      "execution_count": null,
      "id": "62ed33bd",
      "metadata": {
        "id": "62ed33bd",
        "outputId": "180cf9b7-f0df-4804-bbbb-0a7f8096d54f"
      },
      "outputs": [
        {
          "name": "stdout",
          "output_type": "stream",
          "text": [
            "LDA Train Classification Report: \n",
            "\n",
            "               precision    recall  f1-score   support\n",
            "\n",
            "           0       0.90      0.53      0.66       114\n",
            "           1       0.00      0.00      0.00       250\n",
            "           2       0.94      1.00      0.97      4626\n",
            "\n",
            "    accuracy                           0.94      4990\n",
            "   macro avg       0.61      0.51      0.54      4990\n",
            "weighted avg       0.89      0.94      0.91      4990\n",
            " \n",
            "\n",
            "\n",
            "LDA Test Classification Report: \n",
            "\n",
            "               precision    recall  f1-score   support\n",
            "\n",
            "           0       0.82      0.54      0.65        52\n",
            "           1       0.00      0.00      0.00       118\n",
            "           2       0.93      1.00      0.96      1969\n",
            "\n",
            "    accuracy                           0.93      2139\n",
            "   macro avg       0.59      0.51      0.54      2139\n",
            "weighted avg       0.88      0.93      0.90      2139\n",
            "\n"
          ]
        },
        {
          "name": "stderr",
          "output_type": "stream",
          "text": [
            "C:\\Users\\rapto\\anaconda3\\lib\\site-packages\\sklearn\\metrics\\_classification.py:1334: UndefinedMetricWarning: Precision and F-score are ill-defined and being set to 0.0 in labels with no predicted samples. Use `zero_division` parameter to control this behavior.\n",
            "  _warn_prf(average, modifier, msg_start, len(result))\n",
            "C:\\Users\\rapto\\anaconda3\\lib\\site-packages\\sklearn\\metrics\\_classification.py:1334: UndefinedMetricWarning: Precision and F-score are ill-defined and being set to 0.0 in labels with no predicted samples. Use `zero_division` parameter to control this behavior.\n",
            "  _warn_prf(average, modifier, msg_start, len(result))\n",
            "C:\\Users\\rapto\\anaconda3\\lib\\site-packages\\sklearn\\metrics\\_classification.py:1334: UndefinedMetricWarning: Precision and F-score are ill-defined and being set to 0.0 in labels with no predicted samples. Use `zero_division` parameter to control this behavior.\n",
            "  _warn_prf(average, modifier, msg_start, len(result))\n",
            "C:\\Users\\rapto\\anaconda3\\lib\\site-packages\\sklearn\\metrics\\_classification.py:1334: UndefinedMetricWarning: Precision and F-score are ill-defined and being set to 0.0 in labels with no predicted samples. Use `zero_division` parameter to control this behavior.\n",
            "  _warn_prf(average, modifier, msg_start, len(result))\n",
            "C:\\Users\\rapto\\anaconda3\\lib\\site-packages\\sklearn\\metrics\\_classification.py:1334: UndefinedMetricWarning: Precision and F-score are ill-defined and being set to 0.0 in labels with no predicted samples. Use `zero_division` parameter to control this behavior.\n",
            "  _warn_prf(average, modifier, msg_start, len(result))\n",
            "C:\\Users\\rapto\\anaconda3\\lib\\site-packages\\sklearn\\metrics\\_classification.py:1334: UndefinedMetricWarning: Precision and F-score are ill-defined and being set to 0.0 in labels with no predicted samples. Use `zero_division` parameter to control this behavior.\n",
            "  _warn_prf(average, modifier, msg_start, len(result))\n"
          ]
        }
      ],
      "source": [
        "#LDA Classification_Report \n",
        "\n",
        "lda_train_score = metrics.accuracy_score(y_train, lda_train_y_pred) # Compute train accuracy\n",
        "lda_test_score = metrics.accuracy_score(y_test, lda_test_y_pred) # Compute test accuracy\n",
        "lda_train_report = classification_report(y_train, lda_train_y_pred) # Generate classification report for train data\n",
        "lda_test_report = classification_report(y_test, lda_test_y_pred) # Generate classification report for test data\n",
        "print('LDA Train Classification Report: \\n\\n', lda_train_report,'\\n\\n')\n",
        "print('LDA Test Classification Report: \\n\\n', lda_test_report)"
      ]
    },
    {
      "cell_type": "code",
      "execution_count": null,
      "id": "98a22857",
      "metadata": {
        "id": "98a22857",
        "outputId": "f6a607c3-2dc7-4ca9-98d8-e1f1da89d45b"
      },
      "outputs": [
        {
          "name": "stdout",
          "output_type": "stream",
          "text": [
            "QDA Train Classification Report: \n",
            "\n",
            "               precision    recall  f1-score   support\n",
            "\n",
            "           0       0.89      0.75      0.82       114\n",
            "           1       0.59      0.24      0.34       250\n",
            "           2       0.96      0.99      0.98      4626\n",
            "\n",
            "    accuracy                           0.95      4990\n",
            "   macro avg       0.81      0.66      0.71      4990\n",
            "weighted avg       0.94      0.95      0.94      4990\n",
            " \n",
            "\n",
            "\n",
            "QDA Test Classification Report: \n",
            "\n",
            "               precision    recall  f1-score   support\n",
            "\n",
            "           0       0.76      0.75      0.76        52\n",
            "           1       0.58      0.32      0.42       118\n",
            "           2       0.96      0.99      0.97      1969\n",
            "\n",
            "    accuracy                           0.94      2139\n",
            "   macro avg       0.77      0.69      0.72      2139\n",
            "weighted avg       0.93      0.94      0.94      2139\n",
            "\n"
          ]
        }
      ],
      "source": [
        "    # QDA Classification Report:\n",
        "\n",
        "    qda_train_score = metrics.accuracy_score(y_train, qda_train_y_pred) # Compute train accuracy\n",
        "    qda_test_score = metrics.accuracy_score(y_test, qda_test_y_pred) # Compute test accuracy\n",
        "    qda_train_report = classification_report(y_train, qda_train_y_pred) # Generat classification report for train data\n",
        "    qda_test_report = classification_report(y_test, qda_test_y_pred) # Generate classification report for test data\n",
        "    print('QDA Train Classification Report: \\n\\n', qda_train_report,'\\n\\n')\n",
        "    print('QDA Test Classification Report: \\n\\n', qda_test_report)"
      ]
    },
    {
      "cell_type": "markdown",
      "id": "1dd490cb",
      "metadata": {
        "id": "1dd490cb"
      },
      "source": [
        "### Logistic Regression"
      ]
    },
    {
      "cell_type": "code",
      "execution_count": null,
      "id": "e0fb3b02",
      "metadata": {
        "id": "e0fb3b02",
        "outputId": "e4264f01-9e87-4e9a-ad03-58a453c981c9"
      },
      "outputs": [
        {
          "data": {
            "text/html": [
              "<style>#sk-container-id-10 {color: black;background-color: white;}#sk-container-id-10 pre{padding: 0;}#sk-container-id-10 div.sk-toggleable {background-color: white;}#sk-container-id-10 label.sk-toggleable__label {cursor: pointer;display: block;width: 100%;margin-bottom: 0;padding: 0.3em;box-sizing: border-box;text-align: center;}#sk-container-id-10 label.sk-toggleable__label-arrow:before {content: \"▸\";float: left;margin-right: 0.25em;color: #696969;}#sk-container-id-10 label.sk-toggleable__label-arrow:hover:before {color: black;}#sk-container-id-10 div.sk-estimator:hover label.sk-toggleable__label-arrow:before {color: black;}#sk-container-id-10 div.sk-toggleable__content {max-height: 0;max-width: 0;overflow: hidden;text-align: left;background-color: #f0f8ff;}#sk-container-id-10 div.sk-toggleable__content pre {margin: 0.2em;color: black;border-radius: 0.25em;background-color: #f0f8ff;}#sk-container-id-10 input.sk-toggleable__control:checked~div.sk-toggleable__content {max-height: 200px;max-width: 100%;overflow: auto;}#sk-container-id-10 input.sk-toggleable__control:checked~label.sk-toggleable__label-arrow:before {content: \"▾\";}#sk-container-id-10 div.sk-estimator input.sk-toggleable__control:checked~label.sk-toggleable__label {background-color: #d4ebff;}#sk-container-id-10 div.sk-label input.sk-toggleable__control:checked~label.sk-toggleable__label {background-color: #d4ebff;}#sk-container-id-10 input.sk-hidden--visually {border: 0;clip: rect(1px 1px 1px 1px);clip: rect(1px, 1px, 1px, 1px);height: 1px;margin: -1px;overflow: hidden;padding: 0;position: absolute;width: 1px;}#sk-container-id-10 div.sk-estimator {font-family: monospace;background-color: #f0f8ff;border: 1px dotted black;border-radius: 0.25em;box-sizing: border-box;margin-bottom: 0.5em;}#sk-container-id-10 div.sk-estimator:hover {background-color: #d4ebff;}#sk-container-id-10 div.sk-parallel-item::after {content: \"\";width: 100%;border-bottom: 1px solid gray;flex-grow: 1;}#sk-container-id-10 div.sk-label:hover label.sk-toggleable__label {background-color: #d4ebff;}#sk-container-id-10 div.sk-serial::before {content: \"\";position: absolute;border-left: 1px solid gray;box-sizing: border-box;top: 0;bottom: 0;left: 50%;z-index: 0;}#sk-container-id-10 div.sk-serial {display: flex;flex-direction: column;align-items: center;background-color: white;padding-right: 0.2em;padding-left: 0.2em;position: relative;}#sk-container-id-10 div.sk-item {position: relative;z-index: 1;}#sk-container-id-10 div.sk-parallel {display: flex;align-items: stretch;justify-content: center;background-color: white;position: relative;}#sk-container-id-10 div.sk-item::before, #sk-container-id-10 div.sk-parallel-item::before {content: \"\";position: absolute;border-left: 1px solid gray;box-sizing: border-box;top: 0;bottom: 0;left: 50%;z-index: -1;}#sk-container-id-10 div.sk-parallel-item {display: flex;flex-direction: column;z-index: 1;position: relative;background-color: white;}#sk-container-id-10 div.sk-parallel-item:first-child::after {align-self: flex-end;width: 50%;}#sk-container-id-10 div.sk-parallel-item:last-child::after {align-self: flex-start;width: 50%;}#sk-container-id-10 div.sk-parallel-item:only-child::after {width: 0;}#sk-container-id-10 div.sk-dashed-wrapped {border: 1px dashed gray;margin: 0 0.4em 0.5em 0.4em;box-sizing: border-box;padding-bottom: 0.4em;background-color: white;}#sk-container-id-10 div.sk-label label {font-family: monospace;font-weight: bold;display: inline-block;line-height: 1.2em;}#sk-container-id-10 div.sk-label-container {text-align: center;}#sk-container-id-10 div.sk-container {/* jupyter's `normalize.less` sets `[hidden] { display: none; }` but bootstrap.min.css set `[hidden] { display: none !important; }` so we also need the `!important` here to be able to override the default hidden behavior on the sphinx rendered scikit-learn.org. See: https://github.com/scikit-learn/scikit-learn/issues/21755 */display: inline-block !important;position: relative;}#sk-container-id-10 div.sk-text-repr-fallback {display: none;}</style><div id=\"sk-container-id-10\" class=\"sk-top-container\"><div class=\"sk-text-repr-fallback\"><pre>LogisticRegression(max_iter=10000, penalty=&#x27;none&#x27;)</pre><b>In a Jupyter environment, please rerun this cell to show the HTML representation or trust the notebook. <br />On GitHub, the HTML representation is unable to render, please try loading this page with nbviewer.org.</b></div><div class=\"sk-container\" hidden><div class=\"sk-item\"><div class=\"sk-estimator sk-toggleable\"><input class=\"sk-toggleable__control sk-hidden--visually\" id=\"sk-estimator-id-12\" type=\"checkbox\" checked><label for=\"sk-estimator-id-12\" class=\"sk-toggleable__label sk-toggleable__label-arrow\">LogisticRegression</label><div class=\"sk-toggleable__content\"><pre>LogisticRegression(max_iter=10000, penalty=&#x27;none&#x27;)</pre></div></div></div></div></div>"
            ],
            "text/plain": [
              "LogisticRegression(max_iter=10000, penalty='none')"
            ]
          },
          "execution_count": 73,
          "metadata": {},
          "output_type": "execute_result"
        }
      ],
      "source": [
        "from sklearn.linear_model import LogisticRegression   \n",
        "\n",
        "logreg = LogisticRegression(penalty = 'none', max_iter = 10000) \n",
        "\n",
        "logreg.fit(X_train, y_train) "
      ]
    },
    {
      "cell_type": "code",
      "execution_count": null,
      "id": "dcda9428",
      "metadata": {
        "id": "dcda9428",
        "outputId": "854271a4-476e-48b9-9b60-0659b1861a96"
      },
      "outputs": [
        {
          "name": "stdout",
          "output_type": "stream",
          "text": [
            "Train predictions for probabilities:\n",
            "\n",
            " [[3.23849293e-05 2.23976045e-02 9.77570011e-01]\n",
            " [6.77345222e-04 3.70726329e-02 9.62250022e-01]\n",
            " [1.28894749e-04 2.46287220e-02 9.75242383e-01]\n",
            " [2.83996996e-04 2.77747985e-02 9.71941205e-01]\n",
            " [1.43675265e-06 1.20503843e-02 9.87948179e-01]\n",
            " [4.85412725e-04 4.58675547e-02 9.53647033e-01]\n",
            " [5.87944827e-04 3.02172469e-02 9.69194808e-01]\n",
            " [9.21538618e-04 3.27578341e-02 9.66320627e-01]\n",
            " [7.47433296e-05 3.21685638e-02 9.67756693e-01]\n",
            " [1.85090904e-05 1.76209570e-02 9.82360534e-01]] \n",
            "\n",
            "Test predictions for probabilities:\n",
            "\n",
            " [[6.07787094e-04 2.52536919e-02 9.74138521e-01]\n",
            " [4.38524453e-05 1.56698850e-02 9.84286263e-01]\n",
            " [3.70663093e-05 1.78668660e-02 9.82096068e-01]\n",
            " [3.43975508e-06 6.95257232e-03 9.93043988e-01]\n",
            " [1.10473589e-05 1.49852398e-02 9.85003713e-01]\n",
            " [1.39286097e-04 1.49770748e-02 9.84883639e-01]\n",
            " [2.85149940e-03 5.28605627e-01 4.68542873e-01]\n",
            " [1.15913563e-06 1.01227662e-02 9.89876075e-01]\n",
            " [1.80362841e-27 1.05642377e-04 9.99894358e-01]\n",
            " [2.09308966e-04 5.60614521e-02 9.43729239e-01]]\n"
          ]
        }
      ],
      "source": [
        "# Predict probabilities for first 10 instances in train and test subsets :\n",
        "\n",
        "y_train_pred_prob = logreg.predict_proba(X_train)  \n",
        "y_test_pred_prob = logreg.predict_proba(X_test)    \n",
        "print('Train predictions for probabilities:\\n\\n', y_train_pred_prob[:10],'\\n')\n",
        "print('Test predictions for probabilities:\\n\\n', y_test_pred_prob[:10])"
      ]
    },
    {
      "cell_type": "code",
      "execution_count": null,
      "id": "b9e5138e",
      "metadata": {
        "id": "b9e5138e",
        "outputId": "572937e9-8529-422a-aeb1-d72bbaed6201"
      },
      "outputs": [
        {
          "name": "stdout",
          "output_type": "stream",
          "text": [
            "Predicted class for train:  [2 2 2 2 2 2 2 2 2 2] \n",
            "\n",
            "Predicted class for test:  [2 2 2 2 2 2 1 2 2 2]\n"
          ]
        }
      ],
      "source": [
        "y_train_pred = y_train_pred_prob.argmax(axis=1)  \n",
        "y_test_pred = y_test_pred_prob.argmax(axis=1)  \n",
        "print('Predicted class for train: ', y_train_pred[:10],'\\n')     \n",
        "print('Predicted class for test: ', y_test_pred[:10])\n"
      ]
    },
    {
      "cell_type": "code",
      "execution_count": null,
      "id": "89c97fe0",
      "metadata": {
        "id": "89c97fe0",
        "outputId": "91cf052b-d6f1-4d45-dbf7-bd7018a6cc21"
      },
      "outputs": [
        {
          "name": "stdout",
          "output_type": "stream",
          "text": [
            "Train accuracy score of the model is  0.9503 \n",
            "\n",
            "Test accuracy score of the model is  0.94203\n"
          ]
        }
      ],
      "source": [
        "# Calculating accuracy of model\n",
        "\n",
        "from sklearn import metrics  \n",
        "\n",
        "train_score = metrics.accuracy_score(y_train, y_train_pred) \n",
        "\n",
        "test_score = metrics.accuracy_score(y_test, y_test_pred)   \n",
        "\n",
        "print('Train accuracy score of the model is ', round(train_score, 5),'\\n')\n",
        "print('Test accuracy score of the model is ', round(test_score, 5))"
      ]
    },
    {
      "cell_type": "code",
      "execution_count": null,
      "id": "95c17965",
      "metadata": {
        "id": "95c17965",
        "outputId": "5ba30f50-0036-4666-9227-30eeb94a4126"
      },
      "outputs": [
        {
          "data": {
            "image/png": "[encoded data removed]",
            "text/plain": [
              "<Figure size 288x288 with 2 Axes>"
            ]
          },
          "metadata": {},
          "output_type": "display_data"
        },
        {
          "name": "stdout",
          "output_type": "stream",
          "text": [
            "Classification Report for the Test Subset: \n",
            "\n",
            "               precision    recall  f1-score   support\n",
            "\n",
            "           0       0.83      0.77      0.80        52\n",
            "           1       0.55      0.31      0.39       118\n",
            "           2       0.96      0.98      0.97      1969\n",
            "\n",
            "    accuracy                           0.94      2139\n",
            "   macro avg       0.78      0.69      0.72      2139\n",
            "weighted avg       0.93      0.94      0.93      2139\n",
            "\n"
          ]
        }
      ],
      "source": [
        "# Confusion Matrix\n",
        "from sklearn.metrics import confusion_matrix, classification_report\n",
        "\n",
        "train_c_matrix = confusion_matrix(y_test, y_test_pred)  # Compute the train confusion matrix\n",
        "\n",
        "plt.figure(figsize=(4,4))\n",
        "sns.heatmap(train_c_matrix, annot=True, fmt=\".1f\", linewidths=.5, square = True, cmap = 'Pastel1');\n",
        "plt.ylabel('Actual label');\n",
        "plt.xlabel('Predicted label');\n",
        "all_sample_title = 'Train Accuracy: {0}'.format(round(train_score, 4))\n",
        "plt.title(all_sample_title, size = 15);\n",
        "plt.show()\n",
        "\n",
        "# Classification Report\n",
        "\n",
        "print('Classification Report for the Test Subset: \\n\\n', classification_report(y_test, y_test_pred))"
      ]
    },
    {
      "cell_type": "markdown",
      "id": "e43682b9",
      "metadata": {
        "id": "e43682b9"
      },
      "source": [
        "## SVC and SVM for Classification.\n",
        "### SVM with default parameters"
      ]
    },
    {
      "cell_type": "code",
      "execution_count": null,
      "id": "2b1cbc2e",
      "metadata": {
        "id": "2b1cbc2e",
        "outputId": "67b5b5d6-fd89-4be0-b95f-9d13eba11e24"
      },
      "outputs": [
        {
          "data": {
            "text/html": [
              "<style>#sk-container-id-11 {color: black;background-color: white;}#sk-container-id-11 pre{padding: 0;}#sk-container-id-11 div.sk-toggleable {background-color: white;}#sk-container-id-11 label.sk-toggleable__label {cursor: pointer;display: block;width: 100%;margin-bottom: 0;padding: 0.3em;box-sizing: border-box;text-align: center;}#sk-container-id-11 label.sk-toggleable__label-arrow:before {content: \"▸\";float: left;margin-right: 0.25em;color: #696969;}#sk-container-id-11 label.sk-toggleable__label-arrow:hover:before {color: black;}#sk-container-id-11 div.sk-estimator:hover label.sk-toggleable__label-arrow:before {color: black;}#sk-container-id-11 div.sk-toggleable__content {max-height: 0;max-width: 0;overflow: hidden;text-align: left;background-color: #f0f8ff;}#sk-container-id-11 div.sk-toggleable__content pre {margin: 0.2em;color: black;border-radius: 0.25em;background-color: #f0f8ff;}#sk-container-id-11 input.sk-toggleable__control:checked~div.sk-toggleable__content {max-height: 200px;max-width: 100%;overflow: auto;}#sk-container-id-11 input.sk-toggleable__control:checked~label.sk-toggleable__label-arrow:before {content: \"▾\";}#sk-container-id-11 div.sk-estimator input.sk-toggleable__control:checked~label.sk-toggleable__label {background-color: #d4ebff;}#sk-container-id-11 div.sk-label input.sk-toggleable__control:checked~label.sk-toggleable__label {background-color: #d4ebff;}#sk-container-id-11 input.sk-hidden--visually {border: 0;clip: rect(1px 1px 1px 1px);clip: rect(1px, 1px, 1px, 1px);height: 1px;margin: -1px;overflow: hidden;padding: 0;position: absolute;width: 1px;}#sk-container-id-11 div.sk-estimator {font-family: monospace;background-color: #f0f8ff;border: 1px dotted black;border-radius: 0.25em;box-sizing: border-box;margin-bottom: 0.5em;}#sk-container-id-11 div.sk-estimator:hover {background-color: #d4ebff;}#sk-container-id-11 div.sk-parallel-item::after {content: \"\";width: 100%;border-bottom: 1px solid gray;flex-grow: 1;}#sk-container-id-11 div.sk-label:hover label.sk-toggleable__label {background-color: #d4ebff;}#sk-container-id-11 div.sk-serial::before {content: \"\";position: absolute;border-left: 1px solid gray;box-sizing: border-box;top: 0;bottom: 0;left: 50%;z-index: 0;}#sk-container-id-11 div.sk-serial {display: flex;flex-direction: column;align-items: center;background-color: white;padding-right: 0.2em;padding-left: 0.2em;position: relative;}#sk-container-id-11 div.sk-item {position: relative;z-index: 1;}#sk-container-id-11 div.sk-parallel {display: flex;align-items: stretch;justify-content: center;background-color: white;position: relative;}#sk-container-id-11 div.sk-item::before, #sk-container-id-11 div.sk-parallel-item::before {content: \"\";position: absolute;border-left: 1px solid gray;box-sizing: border-box;top: 0;bottom: 0;left: 50%;z-index: -1;}#sk-container-id-11 div.sk-parallel-item {display: flex;flex-direction: column;z-index: 1;position: relative;background-color: white;}#sk-container-id-11 div.sk-parallel-item:first-child::after {align-self: flex-end;width: 50%;}#sk-container-id-11 div.sk-parallel-item:last-child::after {align-self: flex-start;width: 50%;}#sk-container-id-11 div.sk-parallel-item:only-child::after {width: 0;}#sk-container-id-11 div.sk-dashed-wrapped {border: 1px dashed gray;margin: 0 0.4em 0.5em 0.4em;box-sizing: border-box;padding-bottom: 0.4em;background-color: white;}#sk-container-id-11 div.sk-label label {font-family: monospace;font-weight: bold;display: inline-block;line-height: 1.2em;}#sk-container-id-11 div.sk-label-container {text-align: center;}#sk-container-id-11 div.sk-container {/* jupyter's `normalize.less` sets `[hidden] { display: none; }` but bootstrap.min.css set `[hidden] { display: none !important; }` so we also need the `!important` here to be able to override the default hidden behavior on the sphinx rendered scikit-learn.org. See: https://github.com/scikit-learn/scikit-learn/issues/21755 */display: inline-block !important;position: relative;}#sk-container-id-11 div.sk-text-repr-fallback {display: none;}</style><div id=\"sk-container-id-11\" class=\"sk-top-container\"><div class=\"sk-text-repr-fallback\"><pre>SVC(C=0.01, gamma=&#x27;auto&#x27;, kernel=&#x27;poly&#x27;)</pre><b>In a Jupyter environment, please rerun this cell to show the HTML representation or trust the notebook. <br />On GitHub, the HTML representation is unable to render, please try loading this page with nbviewer.org.</b></div><div class=\"sk-container\" hidden><div class=\"sk-item\"><div class=\"sk-estimator sk-toggleable\"><input class=\"sk-toggleable__control sk-hidden--visually\" id=\"sk-estimator-id-13\" type=\"checkbox\" checked><label for=\"sk-estimator-id-13\" class=\"sk-toggleable__label sk-toggleable__label-arrow\">SVC</label><div class=\"sk-toggleable__content\"><pre>SVC(C=0.01, gamma=&#x27;auto&#x27;, kernel=&#x27;poly&#x27;)</pre></div></div></div></div></div>"
            ],
            "text/plain": [
              "SVC(C=0.01, gamma='auto', kernel='poly')"
            ]
          },
          "execution_count": 78,
          "metadata": {},
          "output_type": "execute_result"
        }
      ],
      "source": [
        "from sklearn import svm # Importing 'svm' module from 'sklearn'\n",
        "\n",
        "linear_svc = svm.SVC(kernel='poly', gamma='auto', C=0.01)\n",
        "linear_svc.fit(X_train, y_train) "
      ]
    },
    {
      "cell_type": "code",
      "execution_count": null,
      "id": "71c893b7",
      "metadata": {
        "id": "71c893b7"
      },
      "outputs": [],
      "source": [
        " y_pred = linear_svc.predict(X_test) "
      ]
    },
    {
      "cell_type": "code",
      "execution_count": null,
      "id": "8cd6fdea",
      "metadata": {
        "id": "8cd6fdea",
        "outputId": "f2c9e481-9ec5-498a-eefc-238fd70f5ce7"
      },
      "outputs": [
        {
          "name": "stdout",
          "output_type": "stream",
          "text": [
            "Test accuracy score of the model is  0.92052\n"
          ]
        }
      ],
      "source": [
        "\n",
        "from sklearn import metrics\n",
        "from sklearn.metrics import confusion_matrix, classification_report\n",
        "score = metrics.accuracy_score(y_test, y_pred)\n",
        "print('Test accuracy score of the model is ', round(score, 5))"
      ]
    },
    {
      "cell_type": "code",
      "execution_count": null,
      "id": "cfb3a831",
      "metadata": {
        "id": "cfb3a831",
        "outputId": "6e6c075b-ccb5-4774-d521-c209f5063d3a"
      },
      "outputs": [
        {
          "data": {
            "image/png": "[encoded data removed]",
            "text/plain": [
              "<Figure size 288x288 with 2 Axes>"
            ]
          },
          "metadata": {},
          "output_type": "display_data"
        }
      ],
      "source": [
        "# Confusion matrix\n",
        "svc_c_matrix = confusion_matrix(y_test, y_pred)\n",
        "plt.figure(figsize=(4,4))\n",
        "sns.heatmap(svc_c_matrix, annot=True, fmt=\".0f\", linewidths=.5, square = True, cmap = 'Pastel1');\n",
        "plt.ylabel('Actual label');\n",
        "plt.xlabel('Predicted label');\n",
        "all_sample_title = 'Accuracy Score: {0}'.format(round(score, 4))\n",
        "plt.title(all_sample_title, size = 15);\n",
        "plt.show()"
      ]
    },
    {
      "cell_type": "code",
      "execution_count": null,
      "id": "b84345bd",
      "metadata": {
        "id": "b84345bd",
        "outputId": "5d2d2014-526a-4729-ba8d-9d4f89a09405"
      },
      "outputs": [
        {
          "name": "stdout",
          "output_type": "stream",
          "text": [
            "Test Classification Report: \n",
            "\n",
            "               precision    recall  f1-score   support\n",
            "\n",
            "           0       0.00      0.00      0.00        52\n",
            "           1       0.00      0.00      0.00       118\n",
            "           2       0.92      1.00      0.96      1969\n",
            "\n",
            "    accuracy                           0.92      2139\n",
            "   macro avg       0.31      0.33      0.32      2139\n",
            "weighted avg       0.85      0.92      0.88      2139\n",
            "\n"
          ]
        },
        {
          "name": "stderr",
          "output_type": "stream",
          "text": [
            "C:\\Users\\rapto\\anaconda3\\lib\\site-packages\\sklearn\\metrics\\_classification.py:1334: UndefinedMetricWarning: Precision and F-score are ill-defined and being set to 0.0 in labels with no predicted samples. Use `zero_division` parameter to control this behavior.\n",
            "  _warn_prf(average, modifier, msg_start, len(result))\n",
            "C:\\Users\\rapto\\anaconda3\\lib\\site-packages\\sklearn\\metrics\\_classification.py:1334: UndefinedMetricWarning: Precision and F-score are ill-defined and being set to 0.0 in labels with no predicted samples. Use `zero_division` parameter to control this behavior.\n",
            "  _warn_prf(average, modifier, msg_start, len(result))\n",
            "C:\\Users\\rapto\\anaconda3\\lib\\site-packages\\sklearn\\metrics\\_classification.py:1334: UndefinedMetricWarning: Precision and F-score are ill-defined and being set to 0.0 in labels with no predicted samples. Use `zero_division` parameter to control this behavior.\n",
            "  _warn_prf(average, modifier, msg_start, len(result))\n"
          ]
        }
      ],
      "source": [
        "# Classification Report\n",
        "print('Test Classification Report: \\n\\n', classification_report(y_test, y_pred))"
      ]
    },
    {
      "cell_type": "markdown",
      "id": "v-ZNUJEIcy0B",
      "metadata": {
        "id": "v-ZNUJEIcy0B"
      },
      "source": [
        "##### Here, the output for thos model is '0'because of which we implemented SVM with kernel"
      ]
    },
    {
      "cell_type": "markdown",
      "id": "f5048fa0",
      "metadata": {
        "id": "f5048fa0"
      },
      "source": [
        "### SVM with kernel :"
      ]
    },
    {
      "cell_type": "code",
      "execution_count": null,
      "id": "a5de6a64",
      "metadata": {
        "id": "a5de6a64"
      },
      "outputs": [],
      "source": [
        "from sklearn import metrics\n",
        "from sklearn.metrics import confusion_matrix, classification_report\n",
        "from sklearn import svm\n",
        "def svm_clf(X_tr, X_ts, y_tr, y_ts, ker, C, gamma='auto', r=0, deg=1):\n",
        "    clf = svm.SVC(kernel=ker, gamma=gamma, C=C, coef0=r, degree=deg)\n",
        "    clf.fit(X_tr, y_tr) \n",
        "    y_tr_pred = clf.predict(X_tr)\n",
        "    y_ts_pred = clf.predict(X_ts) \n",
        "    tr_score = metrics.accuracy_score(y_tr, y_tr_pred) \n",
        "    ts_score = metrics.accuracy_score(y_ts, y_ts_pred) \n",
        "    tr_report = classification_report(y_tr, y_tr_pred) \n",
        "    ts_report = classification_report(y_ts, y_ts_pred) \n",
        "    print('Train Classification Report: \\n\\n', tr_report,'\\n\\n')\n",
        "    print('Test Classification Report: \\n\\n', ts_report)\n",
        "    return"
      ]
    },
    {
      "cell_type": "code",
      "execution_count": null,
      "id": "73e6c4bf",
      "metadata": {
        "id": "73e6c4bf",
        "outputId": "62149a1b-074e-4680-a297-176627efb8b6"
      },
      "outputs": [
        {
          "name": "stdout",
          "output_type": "stream",
          "text": [
            "Train Classification Report: \n",
            "\n",
            "               precision    recall  f1-score   support\n",
            "\n",
            "           0       0.00      0.00      0.00       114\n",
            "           1       0.00      0.00      0.00       250\n",
            "           2       0.93      1.00      0.96      4626\n",
            "\n",
            "    accuracy                           0.93      4990\n",
            "   macro avg       0.31      0.33      0.32      4990\n",
            "weighted avg       0.86      0.93      0.89      4990\n",
            " \n",
            "\n",
            "\n",
            "Test Classification Report: \n",
            "\n",
            "               precision    recall  f1-score   support\n",
            "\n",
            "           0       0.00      0.00      0.00        52\n",
            "           1       0.00      0.00      0.00       118\n",
            "           2       0.92      1.00      0.96      1969\n",
            "\n",
            "    accuracy                           0.92      2139\n",
            "   macro avg       0.31      0.33      0.32      2139\n",
            "weighted avg       0.85      0.92      0.88      2139\n",
            "\n"
          ]
        },
        {
          "name": "stderr",
          "output_type": "stream",
          "text": [
            "C:\\Users\\rapto\\anaconda3\\lib\\site-packages\\sklearn\\metrics\\_classification.py:1334: UndefinedMetricWarning: Precision and F-score are ill-defined and being set to 0.0 in labels with no predicted samples. Use `zero_division` parameter to control this behavior.\n",
            "  _warn_prf(average, modifier, msg_start, len(result))\n",
            "C:\\Users\\rapto\\anaconda3\\lib\\site-packages\\sklearn\\metrics\\_classification.py:1334: UndefinedMetricWarning: Precision and F-score are ill-defined and being set to 0.0 in labels with no predicted samples. Use `zero_division` parameter to control this behavior.\n",
            "  _warn_prf(average, modifier, msg_start, len(result))\n",
            "C:\\Users\\rapto\\anaconda3\\lib\\site-packages\\sklearn\\metrics\\_classification.py:1334: UndefinedMetricWarning: Precision and F-score are ill-defined and being set to 0.0 in labels with no predicted samples. Use `zero_division` parameter to control this behavior.\n",
            "  _warn_prf(average, modifier, msg_start, len(result))\n",
            "C:\\Users\\rapto\\anaconda3\\lib\\site-packages\\sklearn\\metrics\\_classification.py:1334: UndefinedMetricWarning: Precision and F-score are ill-defined and being set to 0.0 in labels with no predicted samples. Use `zero_division` parameter to control this behavior.\n",
            "  _warn_prf(average, modifier, msg_start, len(result))\n",
            "C:\\Users\\rapto\\anaconda3\\lib\\site-packages\\sklearn\\metrics\\_classification.py:1334: UndefinedMetricWarning: Precision and F-score are ill-defined and being set to 0.0 in labels with no predicted samples. Use `zero_division` parameter to control this behavior.\n",
            "  _warn_prf(average, modifier, msg_start, len(result))\n",
            "C:\\Users\\rapto\\anaconda3\\lib\\site-packages\\sklearn\\metrics\\_classification.py:1334: UndefinedMetricWarning: Precision and F-score are ill-defined and being set to 0.0 in labels with no predicted samples. Use `zero_division` parameter to control this behavior.\n",
            "  _warn_prf(average, modifier, msg_start, len(result))\n"
          ]
        }
      ],
      "source": [
        "# Apply linear SVM - Low budget for margin violation\n",
        "svm_clf(X_train, X_test, y_train, y_test, ker='linear', C=0.01)"
      ]
    },
    {
      "cell_type": "code",
      "execution_count": null,
      "id": "0f15ddc2",
      "metadata": {
        "id": "0f15ddc2",
        "outputId": "99d08e0e-491c-4a2a-deb7-b812415fc37d"
      },
      "outputs": [
        {
          "name": "stdout",
          "output_type": "stream",
          "text": [
            "Train Classification Report: \n",
            "\n",
            "               precision    recall  f1-score   support\n",
            "\n",
            "           0       0.92      0.60      0.72       114\n",
            "           1       0.00      0.00      0.00       250\n",
            "           2       0.94      1.00      0.97      4626\n",
            "\n",
            "    accuracy                           0.94      4990\n",
            "   macro avg       0.62      0.53      0.56      4990\n",
            "weighted avg       0.89      0.94      0.91      4990\n",
            " \n",
            "\n",
            "\n",
            "Test Classification Report: \n",
            "\n",
            "               precision    recall  f1-score   support\n",
            "\n",
            "           0       0.91      0.62      0.74        52\n",
            "           1       0.00      0.00      0.00       118\n",
            "           2       0.93      1.00      0.97      1969\n",
            "\n",
            "    accuracy                           0.93      2139\n",
            "   macro avg       0.62      0.54      0.57      2139\n",
            "weighted avg       0.88      0.93      0.91      2139\n",
            "\n"
          ]
        },
        {
          "name": "stderr",
          "output_type": "stream",
          "text": [
            "C:\\Users\\rapto\\anaconda3\\lib\\site-packages\\sklearn\\metrics\\_classification.py:1334: UndefinedMetricWarning: Precision and F-score are ill-defined and being set to 0.0 in labels with no predicted samples. Use `zero_division` parameter to control this behavior.\n",
            "  _warn_prf(average, modifier, msg_start, len(result))\n",
            "C:\\Users\\rapto\\anaconda3\\lib\\site-packages\\sklearn\\metrics\\_classification.py:1334: UndefinedMetricWarning: Precision and F-score are ill-defined and being set to 0.0 in labels with no predicted samples. Use `zero_division` parameter to control this behavior.\n",
            "  _warn_prf(average, modifier, msg_start, len(result))\n",
            "C:\\Users\\rapto\\anaconda3\\lib\\site-packages\\sklearn\\metrics\\_classification.py:1334: UndefinedMetricWarning: Precision and F-score are ill-defined and being set to 0.0 in labels with no predicted samples. Use `zero_division` parameter to control this behavior.\n",
            "  _warn_prf(average, modifier, msg_start, len(result))\n",
            "C:\\Users\\rapto\\anaconda3\\lib\\site-packages\\sklearn\\metrics\\_classification.py:1334: UndefinedMetricWarning: Precision and F-score are ill-defined and being set to 0.0 in labels with no predicted samples. Use `zero_division` parameter to control this behavior.\n",
            "  _warn_prf(average, modifier, msg_start, len(result))\n",
            "C:\\Users\\rapto\\anaconda3\\lib\\site-packages\\sklearn\\metrics\\_classification.py:1334: UndefinedMetricWarning: Precision and F-score are ill-defined and being set to 0.0 in labels with no predicted samples. Use `zero_division` parameter to control this behavior.\n",
            "  _warn_prf(average, modifier, msg_start, len(result))\n",
            "C:\\Users\\rapto\\anaconda3\\lib\\site-packages\\sklearn\\metrics\\_classification.py:1334: UndefinedMetricWarning: Precision and F-score are ill-defined and being set to 0.0 in labels with no predicted samples. Use `zero_division` parameter to control this behavior.\n",
            "  _warn_prf(average, modifier, msg_start, len(result))\n"
          ]
        }
      ],
      "source": [
        "# Apply radial SVM : high budget for margin violation\n",
        "svm_clf(X_train, X_test, y_train, y_test, ker='rbf', C=10)"
      ]
    },
    {
      "cell_type": "code",
      "execution_count": null,
      "id": "e283af15",
      "metadata": {
        "id": "e283af15",
        "outputId": "75a95d02-dca5-4a92-b01d-ee0bca655ff9"
      },
      "outputs": [
        {
          "name": "stdout",
          "output_type": "stream",
          "text": [
            "Train Classification Report: \n",
            "\n",
            "               precision    recall  f1-score   support\n",
            "\n",
            "           0       0.00      0.00      0.00       114\n",
            "           1       0.00      0.00      0.00       250\n",
            "           2       0.93      1.00      0.96      4626\n",
            "\n",
            "    accuracy                           0.93      4990\n",
            "   macro avg       0.31      0.33      0.32      4990\n",
            "weighted avg       0.86      0.93      0.89      4990\n",
            " \n",
            "\n",
            "\n",
            "Test Classification Report: \n",
            "\n",
            "               precision    recall  f1-score   support\n",
            "\n",
            "           0       0.00      0.00      0.00        52\n",
            "           1       0.00      0.00      0.00       118\n",
            "           2       0.92      1.00      0.96      1969\n",
            "\n",
            "    accuracy                           0.92      2139\n",
            "   macro avg       0.31      0.33      0.32      2139\n",
            "weighted avg       0.85      0.92      0.88      2139\n",
            "\n"
          ]
        },
        {
          "name": "stderr",
          "output_type": "stream",
          "text": [
            "C:\\Users\\rapto\\anaconda3\\lib\\site-packages\\sklearn\\metrics\\_classification.py:1334: UndefinedMetricWarning: Precision and F-score are ill-defined and being set to 0.0 in labels with no predicted samples. Use `zero_division` parameter to control this behavior.\n",
            "  _warn_prf(average, modifier, msg_start, len(result))\n",
            "C:\\Users\\rapto\\anaconda3\\lib\\site-packages\\sklearn\\metrics\\_classification.py:1334: UndefinedMetricWarning: Precision and F-score are ill-defined and being set to 0.0 in labels with no predicted samples. Use `zero_division` parameter to control this behavior.\n",
            "  _warn_prf(average, modifier, msg_start, len(result))\n",
            "C:\\Users\\rapto\\anaconda3\\lib\\site-packages\\sklearn\\metrics\\_classification.py:1334: UndefinedMetricWarning: Precision and F-score are ill-defined and being set to 0.0 in labels with no predicted samples. Use `zero_division` parameter to control this behavior.\n",
            "  _warn_prf(average, modifier, msg_start, len(result))\n",
            "C:\\Users\\rapto\\anaconda3\\lib\\site-packages\\sklearn\\metrics\\_classification.py:1334: UndefinedMetricWarning: Precision and F-score are ill-defined and being set to 0.0 in labels with no predicted samples. Use `zero_division` parameter to control this behavior.\n",
            "  _warn_prf(average, modifier, msg_start, len(result))\n",
            "C:\\Users\\rapto\\anaconda3\\lib\\site-packages\\sklearn\\metrics\\_classification.py:1334: UndefinedMetricWarning: Precision and F-score are ill-defined and being set to 0.0 in labels with no predicted samples. Use `zero_division` parameter to control this behavior.\n",
            "  _warn_prf(average, modifier, msg_start, len(result))\n",
            "C:\\Users\\rapto\\anaconda3\\lib\\site-packages\\sklearn\\metrics\\_classification.py:1334: UndefinedMetricWarning: Precision and F-score are ill-defined and being set to 0.0 in labels with no predicted samples. Use `zero_division` parameter to control this behavior.\n",
            "  _warn_prf(average, modifier, msg_start, len(result))\n"
          ]
        }
      ],
      "source": [
        "# Apply polynomial SVM (with degree 3 and r=1) : very low budget for margin violation\n",
        "svm_clf(X_train, X_test, y_train, y_test, ker='poly', C=0.001, r=1, deg=3)"
      ]
    },
    {
      "cell_type": "markdown",
      "id": "ORHFUExhdJZX",
      "metadata": {
        "id": "ORHFUExhdJZX"
      },
      "source": [
        "##### It can be observed that even with all the improvements that we tried making to this model, the minority classes are still not being able to be classified properly. After analysis we can understand that SVM works better only for 2 class classification - without proper hyper-parameter tuning."
      ]
    },
    {
      "cell_type": "markdown",
      "id": "ed5edc07",
      "metadata": {
        "id": "ed5edc07"
      },
      "source": [
        "## Using GridSearchCV to find best fit models hyper-parameters "
      ]
    },
    {
      "cell_type": "code",
      "execution_count": null,
      "id": "1b4ac64a",
      "metadata": {
        "id": "1b4ac64a",
        "outputId": "378f48cb-8ed5-47ca-b3de-90422b03e46c"
      },
      "outputs": [
        {
          "name": "stdout",
          "output_type": "stream",
          "text": [
            "Fitting 5 folds for each of 20 candidates, totalling 100 fits\n",
            "\n",
            " Best choices for hyperparameters:\n",
            " {'C': 100, 'gamma': 'scale', 'kernel': 'rbf'}\n",
            "\n",
            " Test Classification Report:\n",
            "\n",
            "               precision    recall  f1-score   support\n",
            "\n",
            "           0       0.89      0.92      0.91        52\n",
            "           1       0.76      0.64      0.70       118\n",
            "           2       0.98      0.99      0.98      1969\n",
            "\n",
            "    accuracy                           0.96      2139\n",
            "   macro avg       0.88      0.85      0.86      2139\n",
            "weighted avg       0.96      0.96      0.96      2139\n",
            "\n"
          ]
        }
      ],
      "source": [
        "# Importing 'GridSearchCV' from 'sklearn'\n",
        "\n",
        "from sklearn.model_selection import GridSearchCV\n",
        "param_grid = {'C': [0.01, 0.1, 1, 10, 100],'gamma': [1, 0.1, 0.01, 0.001, 0.0001], 'gamma':['scale', 'auto'], 'kernel': ['linear', 'rbf']}\n",
        "\n",
        "grid = GridSearchCV(svm.SVC(), param_grid, refit = True, verbose = 3, n_jobs=-1)\n",
        "\n",
        "grid.fit(X_train, y_train)\n",
        "print('\\n Best choices for hyperparameters:\\n', grid.best_params_) \n",
        "grid_predictions = grid.predict(X_test) \n",
        "print('\\n Test Classification Report:\\n\\n', classification_report(y_test, grid_predictions))"
      ]
    },
    {
      "cell_type": "markdown",
      "id": "dc8038c8",
      "metadata": {
        "id": "dc8038c8"
      },
      "source": [
        "## Using Grid search result parameters for SVM Classifier"
      ]
    },
    {
      "cell_type": "code",
      "execution_count": null,
      "id": "8075ca97",
      "metadata": {
        "id": "8075ca97",
        "outputId": "ded7f0ff-43c1-4fe1-9b1d-70fd66897f64"
      },
      "outputs": [
        {
          "name": "stdout",
          "output_type": "stream",
          "text": [
            "Train Classification Report: \n",
            "\n",
            "               precision    recall  f1-score   support\n",
            "\n",
            "           0       0.94      0.93      0.93       114\n",
            "           1       0.78      0.62      0.69       250\n",
            "           2       0.98      0.99      0.98      4626\n",
            "\n",
            "    accuracy                           0.97      4990\n",
            "   macro avg       0.90      0.85      0.87      4990\n",
            "weighted avg       0.97      0.97      0.97      4990\n",
            " \n",
            "\n",
            "\n",
            "Test Classification Report: \n",
            "\n",
            "               precision    recall  f1-score   support\n",
            "\n",
            "           0       0.89      0.92      0.91        52\n",
            "           1       0.76      0.64      0.70       118\n",
            "           2       0.98      0.99      0.98      1969\n",
            "\n",
            "    accuracy                           0.96      2139\n",
            "   macro avg       0.88      0.85      0.86      2139\n",
            "weighted avg       0.96      0.96      0.96      2139\n",
            "\n"
          ]
        }
      ],
      "source": [
        "#SVM Classifier after GRID Search :\n",
        "svm_clf(X_train, X_test, y_train, y_test, ker='rbf', C=100, r=1, deg=3, gamma = 'scale')"
      ]
    },
    {
      "cell_type": "markdown",
      "id": "s8Uls5Hvdj2d",
      "metadata": {
        "id": "s8Uls5Hvdj2d"
      },
      "source": [
        "##### Interestingly, Grid Search has worked wonders in finding the best features to evaluate and we can observe that there has been a drastic improvement in the results regarding the minority class as well."
      ]
    },
    {
      "cell_type": "markdown",
      "id": "e173bb3d",
      "metadata": {
        "id": "e173bb3d"
      },
      "source": [
        "## Gradient Boosting Classifier "
      ]
    },
    {
      "cell_type": "code",
      "execution_count": null,
      "id": "74d83bb1",
      "metadata": {
        "id": "74d83bb1"
      },
      "outputs": [],
      "source": [
        "from sklearn.ensemble import GradientBoostingClassifier\n",
        "X_train, X_test, y_train, y_test = train_test_split(X, y, test_size=0.35, random_state=3)"
      ]
    },
    {
      "cell_type": "code",
      "execution_count": null,
      "id": "15aa178b",
      "metadata": {
        "id": "15aa178b",
        "outputId": "22807d11-6d3e-4e1a-89e2-ab3a9f54bd8f"
      },
      "outputs": [
        {
          "data": {
            "text/html": [
              "<style>#sk-container-id-12 {color: black;background-color: white;}#sk-container-id-12 pre{padding: 0;}#sk-container-id-12 div.sk-toggleable {background-color: white;}#sk-container-id-12 label.sk-toggleable__label {cursor: pointer;display: block;width: 100%;margin-bottom: 0;padding: 0.3em;box-sizing: border-box;text-align: center;}#sk-container-id-12 label.sk-toggleable__label-arrow:before {content: \"▸\";float: left;margin-right: 0.25em;color: #696969;}#sk-container-id-12 label.sk-toggleable__label-arrow:hover:before {color: black;}#sk-container-id-12 div.sk-estimator:hover label.sk-toggleable__label-arrow:before {color: black;}#sk-container-id-12 div.sk-toggleable__content {max-height: 0;max-width: 0;overflow: hidden;text-align: left;background-color: #f0f8ff;}#sk-container-id-12 div.sk-toggleable__content pre {margin: 0.2em;color: black;border-radius: 0.25em;background-color: #f0f8ff;}#sk-container-id-12 input.sk-toggleable__control:checked~div.sk-toggleable__content {max-height: 200px;max-width: 100%;overflow: auto;}#sk-container-id-12 input.sk-toggleable__control:checked~label.sk-toggleable__label-arrow:before {content: \"▾\";}#sk-container-id-12 div.sk-estimator input.sk-toggleable__control:checked~label.sk-toggleable__label {background-color: #d4ebff;}#sk-container-id-12 div.sk-label input.sk-toggleable__control:checked~label.sk-toggleable__label {background-color: #d4ebff;}#sk-container-id-12 input.sk-hidden--visually {border: 0;clip: rect(1px 1px 1px 1px);clip: rect(1px, 1px, 1px, 1px);height: 1px;margin: -1px;overflow: hidden;padding: 0;position: absolute;width: 1px;}#sk-container-id-12 div.sk-estimator {font-family: monospace;background-color: #f0f8ff;border: 1px dotted black;border-radius: 0.25em;box-sizing: border-box;margin-bottom: 0.5em;}#sk-container-id-12 div.sk-estimator:hover {background-color: #d4ebff;}#sk-container-id-12 div.sk-parallel-item::after {content: \"\";width: 100%;border-bottom: 1px solid gray;flex-grow: 1;}#sk-container-id-12 div.sk-label:hover label.sk-toggleable__label {background-color: #d4ebff;}#sk-container-id-12 div.sk-serial::before {content: \"\";position: absolute;border-left: 1px solid gray;box-sizing: border-box;top: 0;bottom: 0;left: 50%;z-index: 0;}#sk-container-id-12 div.sk-serial {display: flex;flex-direction: column;align-items: center;background-color: white;padding-right: 0.2em;padding-left: 0.2em;position: relative;}#sk-container-id-12 div.sk-item {position: relative;z-index: 1;}#sk-container-id-12 div.sk-parallel {display: flex;align-items: stretch;justify-content: center;background-color: white;position: relative;}#sk-container-id-12 div.sk-item::before, #sk-container-id-12 div.sk-parallel-item::before {content: \"\";position: absolute;border-left: 1px solid gray;box-sizing: border-box;top: 0;bottom: 0;left: 50%;z-index: -1;}#sk-container-id-12 div.sk-parallel-item {display: flex;flex-direction: column;z-index: 1;position: relative;background-color: white;}#sk-container-id-12 div.sk-parallel-item:first-child::after {align-self: flex-end;width: 50%;}#sk-container-id-12 div.sk-parallel-item:last-child::after {align-self: flex-start;width: 50%;}#sk-container-id-12 div.sk-parallel-item:only-child::after {width: 0;}#sk-container-id-12 div.sk-dashed-wrapped {border: 1px dashed gray;margin: 0 0.4em 0.5em 0.4em;box-sizing: border-box;padding-bottom: 0.4em;background-color: white;}#sk-container-id-12 div.sk-label label {font-family: monospace;font-weight: bold;display: inline-block;line-height: 1.2em;}#sk-container-id-12 div.sk-label-container {text-align: center;}#sk-container-id-12 div.sk-container {/* jupyter's `normalize.less` sets `[hidden] { display: none; }` but bootstrap.min.css set `[hidden] { display: none !important; }` so we also need the `!important` here to be able to override the default hidden behavior on the sphinx rendered scikit-learn.org. See: https://github.com/scikit-learn/scikit-learn/issues/21755 */display: inline-block !important;position: relative;}#sk-container-id-12 div.sk-text-repr-fallback {display: none;}</style><div id=\"sk-container-id-12\" class=\"sk-top-container\"><div class=\"sk-text-repr-fallback\"><pre>GradientBoostingClassifier(max_depth=4, n_estimators=30, random_state=2)</pre><b>In a Jupyter environment, please rerun this cell to show the HTML representation or trust the notebook. <br />On GitHub, the HTML representation is unable to render, please try loading this page with nbviewer.org.</b></div><div class=\"sk-container\" hidden><div class=\"sk-item\"><div class=\"sk-estimator sk-toggleable\"><input class=\"sk-toggleable__control sk-hidden--visually\" id=\"sk-estimator-id-14\" type=\"checkbox\" checked><label for=\"sk-estimator-id-14\" class=\"sk-toggleable__label sk-toggleable__label-arrow\">GradientBoostingClassifier</label><div class=\"sk-toggleable__content\"><pre>GradientBoostingClassifier(max_depth=4, n_estimators=30, random_state=2)</pre></div></div></div></div></div>"
            ],
            "text/plain": [
              "GradientBoostingClassifier(max_depth=4, n_estimators=30, random_state=2)"
            ]
          },
          "execution_count": 90,
          "metadata": {},
          "output_type": "execute_result"
        }
      ],
      "source": [
        "gb_clf = GradientBoostingClassifier(n_estimators=30, learning_rate=0.1,max_depth=4, random_state=2)\n",
        "#gb_clf = GradientBoostingClassifier()\n",
        "gb_clf.fit(X_train, y_train)"
      ]
    },
    {
      "cell_type": "code",
      "execution_count": null,
      "id": "23cf0ac6",
      "metadata": {
        "id": "23cf0ac6"
      },
      "outputs": [],
      "source": [
        "\n",
        "train_y_pred = gb_clf.predict(X_train)\n",
        "test_y_pred = gb_clf.predict(X_test)"
      ]
    },
    {
      "cell_type": "code",
      "execution_count": null,
      "id": "bce72d71",
      "metadata": {
        "id": "bce72d71",
        "outputId": "6553ad82-d50e-4a28-acd8-29f1c88e7117"
      },
      "outputs": [
        {
          "name": "stdout",
          "output_type": "stream",
          "text": [
            "Gradient Boost Classifier Train Classification Report: \n",
            "\n",
            "               precision    recall  f1-score   support\n",
            "\n",
            "           0       0.97      1.00      0.98       114\n",
            "           1       0.81      1.00      0.90       245\n",
            "           2       1.00      0.99      0.99      4274\n",
            "\n",
            "    accuracy                           0.99      4633\n",
            "   macro avg       0.93      1.00      0.96      4633\n",
            "weighted avg       0.99      0.99      0.99      4633\n",
            " \n",
            "\n",
            "\n",
            "Gradient Boost Classifier Test Classification Report: \n",
            "\n",
            "               precision    recall  f1-score   support\n",
            "\n",
            "           0       0.93      0.98      0.95        52\n",
            "           1       0.74      0.90      0.81       123\n",
            "           2       0.99      0.98      0.99      2321\n",
            "\n",
            "    accuracy                           0.98      2496\n",
            "   macro avg       0.89      0.95      0.92      2496\n",
            "weighted avg       0.98      0.98      0.98      2496\n",
            "\n"
          ]
        }
      ],
      "source": [
        "train_score = metrics.accuracy_score(y_train, train_y_pred)\n",
        "test_score = metrics.accuracy_score(y_test, test_y_pred) \n",
        "train_report = classification_report(y_train, train_y_pred) \n",
        "test_report = classification_report(y_test, test_y_pred) \n",
        "print('Gradient Boost Classifier Train Classification Report: \\n\\n', train_report,'\\n\\n')\n",
        "print('Gradient Boost Classifier Test Classification Report: \\n\\n', test_report)"
      ]
    },
    {
      "cell_type": "code",
      "execution_count": null,
      "id": "8cf01bf2",
      "metadata": {
        "id": "8cf01bf2",
        "outputId": "0ebb050f-269a-48d3-9263-6eb4e2b727cd"
      },
      "outputs": [
        {
          "data": {
            "image/png": "[encoded data removed]",
            "text/plain": [
              "<Figure size 288x288 with 2 Axes>"
            ]
          },
          "metadata": {},
          "output_type": "display_data"
        }
      ],
      "source": [
        "train_c_matrix = confusion_matrix(y_test, test_y_pred)  # Compute the train confusion matrix\n",
        "\n",
        "plt.figure(figsize=(4,4))\n",
        "sns.heatmap(train_c_matrix, annot=True, fmt=\".1f\", linewidths=.5, square = True, cmap = 'Pastel1');\n",
        "plt.ylabel('Actual label');\n",
        "plt.xlabel('Predicted label');\n",
        "all_sample_title = 'Test Accuracy: {0}'.format(round(test_score, 4))\n",
        "plt.title(all_sample_title, size = 15);\n",
        "plt.show()"
      ]
    },
    {
      "cell_type": "markdown",
      "id": "76cf6806",
      "metadata": {
        "id": "76cf6806"
      },
      "source": [
        "## Decision Tree Classifier\n",
        "### Decision tree with default parameters:|"
      ]
    },
    {
      "cell_type": "code",
      "execution_count": null,
      "id": "8c69215d",
      "metadata": {
        "id": "8c69215d",
        "outputId": "04bf99d0-b85e-4ac4-912e-e4fdc74b67c4"
      },
      "outputs": [
        {
          "data": {
            "text/html": [
              "<style>#sk-container-id-13 {color: black;background-color: white;}#sk-container-id-13 pre{padding: 0;}#sk-container-id-13 div.sk-toggleable {background-color: white;}#sk-container-id-13 label.sk-toggleable__label {cursor: pointer;display: block;width: 100%;margin-bottom: 0;padding: 0.3em;box-sizing: border-box;text-align: center;}#sk-container-id-13 label.sk-toggleable__label-arrow:before {content: \"▸\";float: left;margin-right: 0.25em;color: #696969;}#sk-container-id-13 label.sk-toggleable__label-arrow:hover:before {color: black;}#sk-container-id-13 div.sk-estimator:hover label.sk-toggleable__label-arrow:before {color: black;}#sk-container-id-13 div.sk-toggleable__content {max-height: 0;max-width: 0;overflow: hidden;text-align: left;background-color: #f0f8ff;}#sk-container-id-13 div.sk-toggleable__content pre {margin: 0.2em;color: black;border-radius: 0.25em;background-color: #f0f8ff;}#sk-container-id-13 input.sk-toggleable__control:checked~div.sk-toggleable__content {max-height: 200px;max-width: 100%;overflow: auto;}#sk-container-id-13 input.sk-toggleable__control:checked~label.sk-toggleable__label-arrow:before {content: \"▾\";}#sk-container-id-13 div.sk-estimator input.sk-toggleable__control:checked~label.sk-toggleable__label {background-color: #d4ebff;}#sk-container-id-13 div.sk-label input.sk-toggleable__control:checked~label.sk-toggleable__label {background-color: #d4ebff;}#sk-container-id-13 input.sk-hidden--visually {border: 0;clip: rect(1px 1px 1px 1px);clip: rect(1px, 1px, 1px, 1px);height: 1px;margin: -1px;overflow: hidden;padding: 0;position: absolute;width: 1px;}#sk-container-id-13 div.sk-estimator {font-family: monospace;background-color: #f0f8ff;border: 1px dotted black;border-radius: 0.25em;box-sizing: border-box;margin-bottom: 0.5em;}#sk-container-id-13 div.sk-estimator:hover {background-color: #d4ebff;}#sk-container-id-13 div.sk-parallel-item::after {content: \"\";width: 100%;border-bottom: 1px solid gray;flex-grow: 1;}#sk-container-id-13 div.sk-label:hover label.sk-toggleable__label {background-color: #d4ebff;}#sk-container-id-13 div.sk-serial::before {content: \"\";position: absolute;border-left: 1px solid gray;box-sizing: border-box;top: 0;bottom: 0;left: 50%;z-index: 0;}#sk-container-id-13 div.sk-serial {display: flex;flex-direction: column;align-items: center;background-color: white;padding-right: 0.2em;padding-left: 0.2em;position: relative;}#sk-container-id-13 div.sk-item {position: relative;z-index: 1;}#sk-container-id-13 div.sk-parallel {display: flex;align-items: stretch;justify-content: center;background-color: white;position: relative;}#sk-container-id-13 div.sk-item::before, #sk-container-id-13 div.sk-parallel-item::before {content: \"\";position: absolute;border-left: 1px solid gray;box-sizing: border-box;top: 0;bottom: 0;left: 50%;z-index: -1;}#sk-container-id-13 div.sk-parallel-item {display: flex;flex-direction: column;z-index: 1;position: relative;background-color: white;}#sk-container-id-13 div.sk-parallel-item:first-child::after {align-self: flex-end;width: 50%;}#sk-container-id-13 div.sk-parallel-item:last-child::after {align-self: flex-start;width: 50%;}#sk-container-id-13 div.sk-parallel-item:only-child::after {width: 0;}#sk-container-id-13 div.sk-dashed-wrapped {border: 1px dashed gray;margin: 0 0.4em 0.5em 0.4em;box-sizing: border-box;padding-bottom: 0.4em;background-color: white;}#sk-container-id-13 div.sk-label label {font-family: monospace;font-weight: bold;display: inline-block;line-height: 1.2em;}#sk-container-id-13 div.sk-label-container {text-align: center;}#sk-container-id-13 div.sk-container {/* jupyter's `normalize.less` sets `[hidden] { display: none; }` but bootstrap.min.css set `[hidden] { display: none !important; }` so we also need the `!important` here to be able to override the default hidden behavior on the sphinx rendered scikit-learn.org. See: https://github.com/scikit-learn/scikit-learn/issues/21755 */display: inline-block !important;position: relative;}#sk-container-id-13 div.sk-text-repr-fallback {display: none;}</style><div id=\"sk-container-id-13\" class=\"sk-top-container\"><div class=\"sk-text-repr-fallback\"><pre>DecisionTreeClassifier()</pre><b>In a Jupyter environment, please rerun this cell to show the HTML representation or trust the notebook. <br />On GitHub, the HTML representation is unable to render, please try loading this page with nbviewer.org.</b></div><div class=\"sk-container\" hidden><div class=\"sk-item\"><div class=\"sk-estimator sk-toggleable\"><input class=\"sk-toggleable__control sk-hidden--visually\" id=\"sk-estimator-id-15\" type=\"checkbox\" checked><label for=\"sk-estimator-id-15\" class=\"sk-toggleable__label sk-toggleable__label-arrow\">DecisionTreeClassifier</label><div class=\"sk-toggleable__content\"><pre>DecisionTreeClassifier()</pre></div></div></div></div></div>"
            ],
            "text/plain": [
              "DecisionTreeClassifier()"
            ]
          },
          "execution_count": 94,
          "metadata": {},
          "output_type": "execute_result"
        }
      ],
      "source": [
        "from sklearn import tree # Importing 'tree' module from sklearn\n",
        "tr_clf = tree.DecisionTreeClassifier()\n",
        "tr_clf.fit(X_train, y_train)"
      ]
    },
    {
      "cell_type": "code",
      "execution_count": null,
      "id": "43ac196d",
      "metadata": {
        "id": "43ac196d"
      },
      "outputs": [],
      "source": [
        "train_y_pred = tr_clf.predict(X_train)\n",
        "test_y_pred = tr_clf.predict(X_test)"
      ]
    },
    {
      "cell_type": "code",
      "execution_count": null,
      "id": "282520fe",
      "metadata": {
        "id": "282520fe",
        "outputId": "afd816cf-ce46-4838-e051-1c03e927e2d1"
      },
      "outputs": [
        {
          "name": "stdout",
          "output_type": "stream",
          "text": [
            "Decision Tree Train Classification Report: \n",
            "\n",
            "               precision    recall  f1-score   support\n",
            "\n",
            "           0       1.00      1.00      1.00       114\n",
            "           1       1.00      1.00      1.00       245\n",
            "           2       1.00      1.00      1.00      4274\n",
            "\n",
            "    accuracy                           1.00      4633\n",
            "   macro avg       1.00      1.00      1.00      4633\n",
            "weighted avg       1.00      1.00      1.00      4633\n",
            " \n",
            "\n",
            "\n",
            "Decision Tree Test Classification Report: \n",
            "\n",
            "               precision    recall  f1-score   support\n",
            "\n",
            "           0       0.92      0.94      0.93        52\n",
            "           1       0.74      0.67      0.71       123\n",
            "           2       0.98      0.99      0.98      2321\n",
            "\n",
            "    accuracy                           0.97      2496\n",
            "   macro avg       0.88      0.87      0.87      2496\n",
            "weighted avg       0.97      0.97      0.97      2496\n",
            "\n"
          ]
        }
      ],
      "source": [
        "train_score = metrics.accuracy_score(y_train, train_y_pred) # Compute train␣ , →accuracy\n",
        "test_score = metrics.accuracy_score(y_test, test_y_pred) # Compute test␣ , →accuracy\n",
        "train_report = classification_report(y_train, train_y_pred) # Generate␣ , →classification report for train data\n",
        "test_report = classification_report(y_test, test_y_pred) # Generate␣ , →classification report for test data\n",
        "print('Decision Tree Train Classification Report: \\n\\n', train_report,'\\n\\n')\n",
        "print('Decision Tree Test Classification Report: \\n\\n', test_report)"
      ]
    },
    {
      "cell_type": "code",
      "execution_count": null,
      "id": "547957be",
      "metadata": {
        "id": "547957be",
        "outputId": "befd28ac-3f53-485e-dbc5-510b9354ee85"
      },
      "outputs": [
        {
          "data": {
            "image/png": "[encoded data removed]",
            "text/plain": [
              "<Figure size 288x288 with 2 Axes>"
            ]
          },
          "metadata": {},
          "output_type": "display_data"
        }
      ],
      "source": [
        "train_c_matrix = confusion_matrix(y_test, test_y_pred)  # Compute the train confusion matrix\n",
        "\n",
        "plt.figure(figsize=(4,4))\n",
        "sns.heatmap(train_c_matrix, annot=True, fmt=\".1f\", linewidths=.5, square = True, cmap = 'Pastel1');\n",
        "plt.ylabel('Actual label');\n",
        "plt.xlabel('Predicted label');\n",
        "all_sample_title = 'Test Accuracy: {0}'.format(round(test_score, 4))\n",
        "plt.title(all_sample_title, size = 15);\n",
        "plt.show()"
      ]
    },
    {
      "cell_type": "markdown",
      "id": "e5c6610b",
      "metadata": {
        "id": "e5c6610b"
      },
      "source": [
        "### Using GridSearchCV to find hyperparameters for ideal fitting Decision tree"
      ]
    },
    {
      "cell_type": "code",
      "execution_count": null,
      "id": "a650ac07",
      "metadata": {
        "id": "a650ac07",
        "outputId": "66bcc1b0-0df3-45ab-ee67-01b6481e6f41"
      },
      "outputs": [
        {
          "name": "stdout",
          "output_type": "stream",
          "text": [
            "Fitting 3 folds for each of 294 candidates, totalling 882 fits\n"
          ]
        },
        {
          "data": {
            "text/html": [
              "<style>#sk-container-id-14 {color: black;background-color: white;}#sk-container-id-14 pre{padding: 0;}#sk-container-id-14 div.sk-toggleable {background-color: white;}#sk-container-id-14 label.sk-toggleable__label {cursor: pointer;display: block;width: 100%;margin-bottom: 0;padding: 0.3em;box-sizing: border-box;text-align: center;}#sk-container-id-14 label.sk-toggleable__label-arrow:before {content: \"▸\";float: left;margin-right: 0.25em;color: #696969;}#sk-container-id-14 label.sk-toggleable__label-arrow:hover:before {color: black;}#sk-container-id-14 div.sk-estimator:hover label.sk-toggleable__label-arrow:before {color: black;}#sk-container-id-14 div.sk-toggleable__content {max-height: 0;max-width: 0;overflow: hidden;text-align: left;background-color: #f0f8ff;}#sk-container-id-14 div.sk-toggleable__content pre {margin: 0.2em;color: black;border-radius: 0.25em;background-color: #f0f8ff;}#sk-container-id-14 input.sk-toggleable__control:checked~div.sk-toggleable__content {max-height: 200px;max-width: 100%;overflow: auto;}#sk-container-id-14 input.sk-toggleable__control:checked~label.sk-toggleable__label-arrow:before {content: \"▾\";}#sk-container-id-14 div.sk-estimator input.sk-toggleable__control:checked~label.sk-toggleable__label {background-color: #d4ebff;}#sk-container-id-14 div.sk-label input.sk-toggleable__control:checked~label.sk-toggleable__label {background-color: #d4ebff;}#sk-container-id-14 input.sk-hidden--visually {border: 0;clip: rect(1px 1px 1px 1px);clip: rect(1px, 1px, 1px, 1px);height: 1px;margin: -1px;overflow: hidden;padding: 0;position: absolute;width: 1px;}#sk-container-id-14 div.sk-estimator {font-family: monospace;background-color: #f0f8ff;border: 1px dotted black;border-radius: 0.25em;box-sizing: border-box;margin-bottom: 0.5em;}#sk-container-id-14 div.sk-estimator:hover {background-color: #d4ebff;}#sk-container-id-14 div.sk-parallel-item::after {content: \"\";width: 100%;border-bottom: 1px solid gray;flex-grow: 1;}#sk-container-id-14 div.sk-label:hover label.sk-toggleable__label {background-color: #d4ebff;}#sk-container-id-14 div.sk-serial::before {content: \"\";position: absolute;border-left: 1px solid gray;box-sizing: border-box;top: 0;bottom: 0;left: 50%;z-index: 0;}#sk-container-id-14 div.sk-serial {display: flex;flex-direction: column;align-items: center;background-color: white;padding-right: 0.2em;padding-left: 0.2em;position: relative;}#sk-container-id-14 div.sk-item {position: relative;z-index: 1;}#sk-container-id-14 div.sk-parallel {display: flex;align-items: stretch;justify-content: center;background-color: white;position: relative;}#sk-container-id-14 div.sk-item::before, #sk-container-id-14 div.sk-parallel-item::before {content: \"\";position: absolute;border-left: 1px solid gray;box-sizing: border-box;top: 0;bottom: 0;left: 50%;z-index: -1;}#sk-container-id-14 div.sk-parallel-item {display: flex;flex-direction: column;z-index: 1;position: relative;background-color: white;}#sk-container-id-14 div.sk-parallel-item:first-child::after {align-self: flex-end;width: 50%;}#sk-container-id-14 div.sk-parallel-item:last-child::after {align-self: flex-start;width: 50%;}#sk-container-id-14 div.sk-parallel-item:only-child::after {width: 0;}#sk-container-id-14 div.sk-dashed-wrapped {border: 1px dashed gray;margin: 0 0.4em 0.5em 0.4em;box-sizing: border-box;padding-bottom: 0.4em;background-color: white;}#sk-container-id-14 div.sk-label label {font-family: monospace;font-weight: bold;display: inline-block;line-height: 1.2em;}#sk-container-id-14 div.sk-label-container {text-align: center;}#sk-container-id-14 div.sk-container {/* jupyter's `normalize.less` sets `[hidden] { display: none; }` but bootstrap.min.css set `[hidden] { display: none !important; }` so we also need the `!important` here to be able to override the default hidden behavior on the sphinx rendered scikit-learn.org. See: https://github.com/scikit-learn/scikit-learn/issues/21755 */display: inline-block !important;position: relative;}#sk-container-id-14 div.sk-text-repr-fallback {display: none;}</style><div id=\"sk-container-id-14\" class=\"sk-top-container\"><div class=\"sk-text-repr-fallback\"><pre>DecisionTreeClassifier(max_leaf_nodes=7, random_state=3)</pre><b>In a Jupyter environment, please rerun this cell to show the HTML representation or trust the notebook. <br />On GitHub, the HTML representation is unable to render, please try loading this page with nbviewer.org.</b></div><div class=\"sk-container\" hidden><div class=\"sk-item\"><div class=\"sk-estimator sk-toggleable\"><input class=\"sk-toggleable__control sk-hidden--visually\" id=\"sk-estimator-id-16\" type=\"checkbox\" checked><label for=\"sk-estimator-id-16\" class=\"sk-toggleable__label sk-toggleable__label-arrow\">DecisionTreeClassifier</label><div class=\"sk-toggleable__content\"><pre>DecisionTreeClassifier(max_leaf_nodes=7, random_state=3)</pre></div></div></div></div></div>"
            ],
            "text/plain": [
              "DecisionTreeClassifier(max_leaf_nodes=7, random_state=3)"
            ]
          },
          "execution_count": 98,
          "metadata": {},
          "output_type": "execute_result"
        }
      ],
      "source": [
        "# Using GridSearchCV to figure out the best values of the tree hyperparameters\n",
        "from sklearn.model_selection import GridSearchCV\n",
        "params = {'max_leaf_nodes': list(range(2, 100)), 'min_samples_split': [2, 3, 4]}\n",
        "grid_search_cv = GridSearchCV(tree.DecisionTreeClassifier(random_state=3),params, verbose=1, cv=3)\n",
        "grid_search_cv.fit(X_train, y_train)\n",
        "# Displaying the best hyperparameters from 'params'\n",
        "grid_search_cv.best_estimator_"
      ]
    },
    {
      "cell_type": "code",
      "execution_count": null,
      "id": "09867674",
      "metadata": {
        "id": "09867674",
        "outputId": "e2bb99a0-5d5d-4f79-b325-464e39f50c86"
      },
      "outputs": [
        {
          "data": {
            "text/html": [
              "<style>#sk-container-id-15 {color: black;background-color: white;}#sk-container-id-15 pre{padding: 0;}#sk-container-id-15 div.sk-toggleable {background-color: white;}#sk-container-id-15 label.sk-toggleable__label {cursor: pointer;display: block;width: 100%;margin-bottom: 0;padding: 0.3em;box-sizing: border-box;text-align: center;}#sk-container-id-15 label.sk-toggleable__label-arrow:before {content: \"▸\";float: left;margin-right: 0.25em;color: #696969;}#sk-container-id-15 label.sk-toggleable__label-arrow:hover:before {color: black;}#sk-container-id-15 div.sk-estimator:hover label.sk-toggleable__label-arrow:before {color: black;}#sk-container-id-15 div.sk-toggleable__content {max-height: 0;max-width: 0;overflow: hidden;text-align: left;background-color: #f0f8ff;}#sk-container-id-15 div.sk-toggleable__content pre {margin: 0.2em;color: black;border-radius: 0.25em;background-color: #f0f8ff;}#sk-container-id-15 input.sk-toggleable__control:checked~div.sk-toggleable__content {max-height: 200px;max-width: 100%;overflow: auto;}#sk-container-id-15 input.sk-toggleable__control:checked~label.sk-toggleable__label-arrow:before {content: \"▾\";}#sk-container-id-15 div.sk-estimator input.sk-toggleable__control:checked~label.sk-toggleable__label {background-color: #d4ebff;}#sk-container-id-15 div.sk-label input.sk-toggleable__control:checked~label.sk-toggleable__label {background-color: #d4ebff;}#sk-container-id-15 input.sk-hidden--visually {border: 0;clip: rect(1px 1px 1px 1px);clip: rect(1px, 1px, 1px, 1px);height: 1px;margin: -1px;overflow: hidden;padding: 0;position: absolute;width: 1px;}#sk-container-id-15 div.sk-estimator {font-family: monospace;background-color: #f0f8ff;border: 1px dotted black;border-radius: 0.25em;box-sizing: border-box;margin-bottom: 0.5em;}#sk-container-id-15 div.sk-estimator:hover {background-color: #d4ebff;}#sk-container-id-15 div.sk-parallel-item::after {content: \"\";width: 100%;border-bottom: 1px solid gray;flex-grow: 1;}#sk-container-id-15 div.sk-label:hover label.sk-toggleable__label {background-color: #d4ebff;}#sk-container-id-15 div.sk-serial::before {content: \"\";position: absolute;border-left: 1px solid gray;box-sizing: border-box;top: 0;bottom: 0;left: 50%;z-index: 0;}#sk-container-id-15 div.sk-serial {display: flex;flex-direction: column;align-items: center;background-color: white;padding-right: 0.2em;padding-left: 0.2em;position: relative;}#sk-container-id-15 div.sk-item {position: relative;z-index: 1;}#sk-container-id-15 div.sk-parallel {display: flex;align-items: stretch;justify-content: center;background-color: white;position: relative;}#sk-container-id-15 div.sk-item::before, #sk-container-id-15 div.sk-parallel-item::before {content: \"\";position: absolute;border-left: 1px solid gray;box-sizing: border-box;top: 0;bottom: 0;left: 50%;z-index: -1;}#sk-container-id-15 div.sk-parallel-item {display: flex;flex-direction: column;z-index: 1;position: relative;background-color: white;}#sk-container-id-15 div.sk-parallel-item:first-child::after {align-self: flex-end;width: 50%;}#sk-container-id-15 div.sk-parallel-item:last-child::after {align-self: flex-start;width: 50%;}#sk-container-id-15 div.sk-parallel-item:only-child::after {width: 0;}#sk-container-id-15 div.sk-dashed-wrapped {border: 1px dashed gray;margin: 0 0.4em 0.5em 0.4em;box-sizing: border-box;padding-bottom: 0.4em;background-color: white;}#sk-container-id-15 div.sk-label label {font-family: monospace;font-weight: bold;display: inline-block;line-height: 1.2em;}#sk-container-id-15 div.sk-label-container {text-align: center;}#sk-container-id-15 div.sk-container {/* jupyter's `normalize.less` sets `[hidden] { display: none; }` but bootstrap.min.css set `[hidden] { display: none !important; }` so we also need the `!important` here to be able to override the default hidden behavior on the sphinx rendered scikit-learn.org. See: https://github.com/scikit-learn/scikit-learn/issues/21755 */display: inline-block !important;position: relative;}#sk-container-id-15 div.sk-text-repr-fallback {display: none;}</style><div id=\"sk-container-id-15\" class=\"sk-top-container\"><div class=\"sk-text-repr-fallback\"><pre>DecisionTreeClassifier(max_leaf_nodes=7, random_state=3)</pre><b>In a Jupyter environment, please rerun this cell to show the HTML representation or trust the notebook. <br />On GitHub, the HTML representation is unable to render, please try loading this page with nbviewer.org.</b></div><div class=\"sk-container\" hidden><div class=\"sk-item\"><div class=\"sk-estimator sk-toggleable\"><input class=\"sk-toggleable__control sk-hidden--visually\" id=\"sk-estimator-id-17\" type=\"checkbox\" checked><label for=\"sk-estimator-id-17\" class=\"sk-toggleable__label sk-toggleable__label-arrow\">DecisionTreeClassifier</label><div class=\"sk-toggleable__content\"><pre>DecisionTreeClassifier(max_leaf_nodes=7, random_state=3)</pre></div></div></div></div></div>"
            ],
            "text/plain": [
              "DecisionTreeClassifier(max_leaf_nodes=7, random_state=3)"
            ]
          },
          "execution_count": 99,
          "metadata": {},
          "output_type": "execute_result"
        }
      ],
      "source": [
        " # Retraining the tree classifier (this time with best hyperparameters found␣ , →above)\n",
        "tr_clf = tree.DecisionTreeClassifier(max_leaf_nodes=7, random_state=3)\n",
        "tr_clf.fit(X_train, y_train)"
      ]
    },
    {
      "cell_type": "code",
      "execution_count": null,
      "id": "2ee1d7be",
      "metadata": {
        "id": "2ee1d7be"
      },
      "outputs": [],
      "source": [
        "# Finding the predictions of tree classifier for train and test subsets\n",
        "train_y_pred = tr_clf.predict(X_train)\n",
        "test_y_pred = tr_clf.predict(X_test)"
      ]
    },
    {
      "cell_type": "code",
      "execution_count": null,
      "id": "560afb3d",
      "metadata": {
        "id": "560afb3d",
        "outputId": "dbe86a58-acf6-43c2-e19e-b34f34b167df"
      },
      "outputs": [
        {
          "name": "stdout",
          "output_type": "stream",
          "text": [
            "Decision Tree Train Classification Report: \n",
            "\n",
            "               precision    recall  f1-score   support\n",
            "\n",
            "           0       0.91      1.00      0.95       114\n",
            "           1       0.77      1.00      0.87       245\n",
            "           2       1.00      0.98      0.99      4274\n",
            "\n",
            "    accuracy                           0.98      4633\n",
            "   macro avg       0.89      0.99      0.94      4633\n",
            "weighted avg       0.99      0.98      0.98      4633\n",
            " \n",
            "\n",
            "\n",
            "Decision Tree Test Classification Report: \n",
            "\n",
            "               precision    recall  f1-score   support\n",
            "\n",
            "           0       0.91      1.00      0.95        52\n",
            "           1       0.74      0.96      0.83       123\n",
            "           2       1.00      0.98      0.99      2321\n",
            "\n",
            "    accuracy                           0.98      2496\n",
            "   macro avg       0.88      0.98      0.93      2496\n",
            "weighted avg       0.98      0.98      0.98      2496\n",
            "\n"
          ]
        }
      ],
      "source": [
        "train_score = metrics.accuracy_score(y_train, train_y_pred) # Compute train␣ , →accuracy\n",
        "test_score = metrics.accuracy_score(y_test, test_y_pred) # Compute test␣ , →accuracy\n",
        "train_report = classification_report(y_train, train_y_pred) # Generate␣ , →classification report for train data\n",
        "test_report = classification_report(y_test, test_y_pred) # Generate␣ , →classification report for test data\n",
        "print('Decision Tree Train Classification Report: \\n\\n', train_report,'\\n\\n')\n",
        "print('Decision Tree Test Classification Report: \\n\\n', test_report)"
      ]
    },
    {
      "cell_type": "code",
      "execution_count": null,
      "id": "c0e47a4d",
      "metadata": {
        "id": "c0e47a4d",
        "outputId": "699d82c2-9185-4cc7-c34d-f3fd5c905a3c"
      },
      "outputs": [
        {
          "data": {
            "image/png": "[encoded data removed]",
            "text/plain": [
              "<Figure size 288x288 with 2 Axes>"
            ]
          },
          "metadata": {},
          "output_type": "display_data"
        }
      ],
      "source": [
        "train_c_matrix = confusion_matrix(y_test, test_y_pred)  # Compute the train confusion matrix\n",
        "\n",
        "plt.figure(figsize=(4,4))\n",
        "sns.heatmap(train_c_matrix, annot=True, fmt=\".1f\", linewidths=.5, square = True, cmap = 'Pastel1');\n",
        "plt.ylabel('Actual label');\n",
        "plt.xlabel('Predicted label');\n",
        "all_sample_title = 'Test Accuracy: {0}'.format(round(test_score, 4))\n",
        "plt.title(all_sample_title, size = 15);\n",
        "plt.show()"
      ]
    },
    {
      "cell_type": "markdown",
      "id": "baddc323",
      "metadata": {
        "id": "baddc323"
      },
      "source": [
        "##### Using GridSearch and tuning the hyper-parameters, we are able to generate a model with minimal variance and higher accuracy, specifically in case of the minority class."
      ]
    },
    {
      "cell_type": "markdown",
      "id": "4ec91979",
      "metadata": {
        "id": "4ec91979"
      },
      "source": [
        "## Bagged Decision Tree Classifier"
      ]
    },
    {
      "cell_type": "code",
      "execution_count": null,
      "id": "bc0ec131",
      "metadata": {
        "id": "bc0ec131",
        "outputId": "52f60d44-7459-4a79-cf54-3f6e11fe9deb"
      },
      "outputs": [
        {
          "data": {
            "text/html": [
              "<style>#sk-container-id-16 {color: black;background-color: white;}#sk-container-id-16 pre{padding: 0;}#sk-container-id-16 div.sk-toggleable {background-color: white;}#sk-container-id-16 label.sk-toggleable__label {cursor: pointer;display: block;width: 100%;margin-bottom: 0;padding: 0.3em;box-sizing: border-box;text-align: center;}#sk-container-id-16 label.sk-toggleable__label-arrow:before {content: \"▸\";float: left;margin-right: 0.25em;color: #696969;}#sk-container-id-16 label.sk-toggleable__label-arrow:hover:before {color: black;}#sk-container-id-16 div.sk-estimator:hover label.sk-toggleable__label-arrow:before {color: black;}#sk-container-id-16 div.sk-toggleable__content {max-height: 0;max-width: 0;overflow: hidden;text-align: left;background-color: #f0f8ff;}#sk-container-id-16 div.sk-toggleable__content pre {margin: 0.2em;color: black;border-radius: 0.25em;background-color: #f0f8ff;}#sk-container-id-16 input.sk-toggleable__control:checked~div.sk-toggleable__content {max-height: 200px;max-width: 100%;overflow: auto;}#sk-container-id-16 input.sk-toggleable__control:checked~label.sk-toggleable__label-arrow:before {content: \"▾\";}#sk-container-id-16 div.sk-estimator input.sk-toggleable__control:checked~label.sk-toggleable__label {background-color: #d4ebff;}#sk-container-id-16 div.sk-label input.sk-toggleable__control:checked~label.sk-toggleable__label {background-color: #d4ebff;}#sk-container-id-16 input.sk-hidden--visually {border: 0;clip: rect(1px 1px 1px 1px);clip: rect(1px, 1px, 1px, 1px);height: 1px;margin: -1px;overflow: hidden;padding: 0;position: absolute;width: 1px;}#sk-container-id-16 div.sk-estimator {font-family: monospace;background-color: #f0f8ff;border: 1px dotted black;border-radius: 0.25em;box-sizing: border-box;margin-bottom: 0.5em;}#sk-container-id-16 div.sk-estimator:hover {background-color: #d4ebff;}#sk-container-id-16 div.sk-parallel-item::after {content: \"\";width: 100%;border-bottom: 1px solid gray;flex-grow: 1;}#sk-container-id-16 div.sk-label:hover label.sk-toggleable__label {background-color: #d4ebff;}#sk-container-id-16 div.sk-serial::before {content: \"\";position: absolute;border-left: 1px solid gray;box-sizing: border-box;top: 0;bottom: 0;left: 50%;z-index: 0;}#sk-container-id-16 div.sk-serial {display: flex;flex-direction: column;align-items: center;background-color: white;padding-right: 0.2em;padding-left: 0.2em;position: relative;}#sk-container-id-16 div.sk-item {position: relative;z-index: 1;}#sk-container-id-16 div.sk-parallel {display: flex;align-items: stretch;justify-content: center;background-color: white;position: relative;}#sk-container-id-16 div.sk-item::before, #sk-container-id-16 div.sk-parallel-item::before {content: \"\";position: absolute;border-left: 1px solid gray;box-sizing: border-box;top: 0;bottom: 0;left: 50%;z-index: -1;}#sk-container-id-16 div.sk-parallel-item {display: flex;flex-direction: column;z-index: 1;position: relative;background-color: white;}#sk-container-id-16 div.sk-parallel-item:first-child::after {align-self: flex-end;width: 50%;}#sk-container-id-16 div.sk-parallel-item:last-child::after {align-self: flex-start;width: 50%;}#sk-container-id-16 div.sk-parallel-item:only-child::after {width: 0;}#sk-container-id-16 div.sk-dashed-wrapped {border: 1px dashed gray;margin: 0 0.4em 0.5em 0.4em;box-sizing: border-box;padding-bottom: 0.4em;background-color: white;}#sk-container-id-16 div.sk-label label {font-family: monospace;font-weight: bold;display: inline-block;line-height: 1.2em;}#sk-container-id-16 div.sk-label-container {text-align: center;}#sk-container-id-16 div.sk-container {/* jupyter's `normalize.less` sets `[hidden] { display: none; }` but bootstrap.min.css set `[hidden] { display: none !important; }` so we also need the `!important` here to be able to override the default hidden behavior on the sphinx rendered scikit-learn.org. See: https://github.com/scikit-learn/scikit-learn/issues/21755 */display: inline-block !important;position: relative;}#sk-container-id-16 div.sk-text-repr-fallback {display: none;}</style><div id=\"sk-container-id-16\" class=\"sk-top-container\"><div class=\"sk-text-repr-fallback\"><pre>BaggingClassifier(base_estimator=DecisionTreeClassifier())</pre><b>In a Jupyter environment, please rerun this cell to show the HTML representation or trust the notebook. <br />On GitHub, the HTML representation is unable to render, please try loading this page with nbviewer.org.</b></div><div class=\"sk-container\" hidden><div class=\"sk-item sk-dashed-wrapped\"><div class=\"sk-label-container\"><div class=\"sk-label sk-toggleable\"><input class=\"sk-toggleable__control sk-hidden--visually\" id=\"sk-estimator-id-18\" type=\"checkbox\" ><label for=\"sk-estimator-id-18\" class=\"sk-toggleable__label sk-toggleable__label-arrow\">BaggingClassifier</label><div class=\"sk-toggleable__content\"><pre>BaggingClassifier(base_estimator=DecisionTreeClassifier())</pre></div></div></div><div class=\"sk-parallel\"><div class=\"sk-parallel-item\"><div class=\"sk-item\"><div class=\"sk-label-container\"><div class=\"sk-label sk-toggleable\"><input class=\"sk-toggleable__control sk-hidden--visually\" id=\"sk-estimator-id-19\" type=\"checkbox\" ><label for=\"sk-estimator-id-19\" class=\"sk-toggleable__label sk-toggleable__label-arrow\">base_estimator: DecisionTreeClassifier</label><div class=\"sk-toggleable__content\"><pre>DecisionTreeClassifier()</pre></div></div></div><div class=\"sk-serial\"><div class=\"sk-item\"><div class=\"sk-estimator sk-toggleable\"><input class=\"sk-toggleable__control sk-hidden--visually\" id=\"sk-estimator-id-20\" type=\"checkbox\" ><label for=\"sk-estimator-id-20\" class=\"sk-toggleable__label sk-toggleable__label-arrow\">DecisionTreeClassifier</label><div class=\"sk-toggleable__content\"><pre>DecisionTreeClassifier()</pre></div></div></div></div></div></div></div></div></div></div>"
            ],
            "text/plain": [
              "BaggingClassifier(base_estimator=DecisionTreeClassifier())"
            ]
          },
          "execution_count": 103,
          "metadata": {},
          "output_type": "execute_result"
        }
      ],
      "source": [
        "# Constructing a bagged-tree classifier\n",
        "\n",
        "from sklearn.ensemble import BaggingClassifier\n",
        "\n",
        "#bag_clf = BaggingClassifier(base_estimator=tree.DecisionTreeClassifier(), n_estimators=18, random_state=3).95\n",
        "bag_clf = BaggingClassifier(base_estimator=tree.DecisionTreeClassifier())\n",
        "bag_clf.fit(X_train, y_train)"
      ]
    },
    {
      "cell_type": "code",
      "execution_count": null,
      "id": "d7f7ee66",
      "metadata": {
        "id": "d7f7ee66"
      },
      "outputs": [],
      "source": [
        "# Finding the predictions of the bagged-tree classifier for train and test subsets\n",
        "\n",
        "train_y_pred = bag_clf.predict(X_train)\n",
        "test_y_pred = bag_clf.predict(X_test)"
      ]
    },
    {
      "cell_type": "code",
      "execution_count": null,
      "id": "fc20a9b2",
      "metadata": {
        "id": "fc20a9b2",
        "outputId": "6495095f-d1ab-4af9-cd6f-8ea2e960f7b4"
      },
      "outputs": [
        {
          "name": "stdout",
          "output_type": "stream",
          "text": [
            "Bagged Trees Classifier Train Classification Report: \n",
            "\n",
            "               precision    recall  f1-score   support\n",
            "\n",
            "           0       1.00      0.99      1.00       114\n",
            "           1       0.98      1.00      0.99       245\n",
            "           2       1.00      1.00      1.00      4274\n",
            "\n",
            "    accuracy                           1.00      4633\n",
            "   macro avg       0.99      1.00      0.99      4633\n",
            "weighted avg       1.00      1.00      1.00      4633\n",
            " \n",
            "\n",
            "\n",
            "Bagged Trees Classifier Test Classification Report: \n",
            "\n",
            "               precision    recall  f1-score   support\n",
            "\n",
            "           0       0.92      0.92      0.92        52\n",
            "           1       0.74      0.89      0.81       123\n",
            "           2       0.99      0.98      0.99      2321\n",
            "\n",
            "    accuracy                           0.98      2496\n",
            "   macro avg       0.88      0.93      0.91      2496\n",
            "weighted avg       0.98      0.98      0.98      2496\n",
            "\n"
          ]
        }
      ],
      "source": [
        "train_score = metrics.accuracy_score(y_train, train_y_pred)   # Compute train accuracy\n",
        "test_score = metrics.accuracy_score(y_test, test_y_pred)      # Compute test accuracy\n",
        "train_report = classification_report(y_train, train_y_pred)   # Generate classification report for train data\n",
        "test_report = classification_report(y_test, test_y_pred)      # Generate classification report for test data\n",
        "\n",
        "print('Bagged Trees Classifier Train Classification Report: \\n\\n', train_report,'\\n\\n')\n",
        "print('Bagged Trees Classifier Test Classification Report: \\n\\n', test_report)"
      ]
    },
    {
      "cell_type": "markdown",
      "id": "87595b95",
      "metadata": {
        "id": "87595b95"
      },
      "source": [
        "### Bagged SVC Classifier"
      ]
    },
    {
      "cell_type": "code",
      "execution_count": null,
      "id": "6ed11eea",
      "metadata": {
        "id": "6ed11eea",
        "outputId": "1450a86f-5057-4ff9-ab40-cc1f14e4a754"
      },
      "outputs": [
        {
          "data": {
            "text/html": [
              "<style>#sk-container-id-17 {color: black;background-color: white;}#sk-container-id-17 pre{padding: 0;}#sk-container-id-17 div.sk-toggleable {background-color: white;}#sk-container-id-17 label.sk-toggleable__label {cursor: pointer;display: block;width: 100%;margin-bottom: 0;padding: 0.3em;box-sizing: border-box;text-align: center;}#sk-container-id-17 label.sk-toggleable__label-arrow:before {content: \"▸\";float: left;margin-right: 0.25em;color: #696969;}#sk-container-id-17 label.sk-toggleable__label-arrow:hover:before {color: black;}#sk-container-id-17 div.sk-estimator:hover label.sk-toggleable__label-arrow:before {color: black;}#sk-container-id-17 div.sk-toggleable__content {max-height: 0;max-width: 0;overflow: hidden;text-align: left;background-color: #f0f8ff;}#sk-container-id-17 div.sk-toggleable__content pre {margin: 0.2em;color: black;border-radius: 0.25em;background-color: #f0f8ff;}#sk-container-id-17 input.sk-toggleable__control:checked~div.sk-toggleable__content {max-height: 200px;max-width: 100%;overflow: auto;}#sk-container-id-17 input.sk-toggleable__control:checked~label.sk-toggleable__label-arrow:before {content: \"▾\";}#sk-container-id-17 div.sk-estimator input.sk-toggleable__control:checked~label.sk-toggleable__label {background-color: #d4ebff;}#sk-container-id-17 div.sk-label input.sk-toggleable__control:checked~label.sk-toggleable__label {background-color: #d4ebff;}#sk-container-id-17 input.sk-hidden--visually {border: 0;clip: rect(1px 1px 1px 1px);clip: rect(1px, 1px, 1px, 1px);height: 1px;margin: -1px;overflow: hidden;padding: 0;position: absolute;width: 1px;}#sk-container-id-17 div.sk-estimator {font-family: monospace;background-color: #f0f8ff;border: 1px dotted black;border-radius: 0.25em;box-sizing: border-box;margin-bottom: 0.5em;}#sk-container-id-17 div.sk-estimator:hover {background-color: #d4ebff;}#sk-container-id-17 div.sk-parallel-item::after {content: \"\";width: 100%;border-bottom: 1px solid gray;flex-grow: 1;}#sk-container-id-17 div.sk-label:hover label.sk-toggleable__label {background-color: #d4ebff;}#sk-container-id-17 div.sk-serial::before {content: \"\";position: absolute;border-left: 1px solid gray;box-sizing: border-box;top: 0;bottom: 0;left: 50%;z-index: 0;}#sk-container-id-17 div.sk-serial {display: flex;flex-direction: column;align-items: center;background-color: white;padding-right: 0.2em;padding-left: 0.2em;position: relative;}#sk-container-id-17 div.sk-item {position: relative;z-index: 1;}#sk-container-id-17 div.sk-parallel {display: flex;align-items: stretch;justify-content: center;background-color: white;position: relative;}#sk-container-id-17 div.sk-item::before, #sk-container-id-17 div.sk-parallel-item::before {content: \"\";position: absolute;border-left: 1px solid gray;box-sizing: border-box;top: 0;bottom: 0;left: 50%;z-index: -1;}#sk-container-id-17 div.sk-parallel-item {display: flex;flex-direction: column;z-index: 1;position: relative;background-color: white;}#sk-container-id-17 div.sk-parallel-item:first-child::after {align-self: flex-end;width: 50%;}#sk-container-id-17 div.sk-parallel-item:last-child::after {align-self: flex-start;width: 50%;}#sk-container-id-17 div.sk-parallel-item:only-child::after {width: 0;}#sk-container-id-17 div.sk-dashed-wrapped {border: 1px dashed gray;margin: 0 0.4em 0.5em 0.4em;box-sizing: border-box;padding-bottom: 0.4em;background-color: white;}#sk-container-id-17 div.sk-label label {font-family: monospace;font-weight: bold;display: inline-block;line-height: 1.2em;}#sk-container-id-17 div.sk-label-container {text-align: center;}#sk-container-id-17 div.sk-container {/* jupyter's `normalize.less` sets `[hidden] { display: none; }` but bootstrap.min.css set `[hidden] { display: none !important; }` so we also need the `!important` here to be able to override the default hidden behavior on the sphinx rendered scikit-learn.org. See: https://github.com/scikit-learn/scikit-learn/issues/21755 */display: inline-block !important;position: relative;}#sk-container-id-17 div.sk-text-repr-fallback {display: none;}</style><div id=\"sk-container-id-17\" class=\"sk-top-container\"><div class=\"sk-text-repr-fallback\"><pre>SVC()</pre><b>In a Jupyter environment, please rerun this cell to show the HTML representation or trust the notebook. <br />On GitHub, the HTML representation is unable to render, please try loading this page with nbviewer.org.</b></div><div class=\"sk-container\" hidden><div class=\"sk-item\"><div class=\"sk-estimator sk-toggleable\"><input class=\"sk-toggleable__control sk-hidden--visually\" id=\"sk-estimator-id-21\" type=\"checkbox\" checked><label for=\"sk-estimator-id-21\" class=\"sk-toggleable__label sk-toggleable__label-arrow\">SVC</label><div class=\"sk-toggleable__content\"><pre>SVC()</pre></div></div></div></div></div>"
            ],
            "text/plain": [
              "SVC()"
            ]
          },
          "execution_count": 106,
          "metadata": {},
          "output_type": "execute_result"
        }
      ],
      "source": [
        "# We start by training an SVC\n",
        "\n",
        "from sklearn.svm import SVC\n",
        "\n",
        "svc_clf = SVC()\n",
        "svc_clf.fit(X_train, y_train)"
      ]
    },
    {
      "cell_type": "code",
      "execution_count": null,
      "id": "37eaedd1",
      "metadata": {
        "id": "37eaedd1"
      },
      "outputs": [],
      "source": [
        "# Finding the predictions of SVC classifier for train and test subsets\n",
        "\n",
        "train_y_pred = svc_clf.predict(X_train)\n",
        "test_y_pred = svc_clf.predict(X_test)"
      ]
    },
    {
      "cell_type": "code",
      "execution_count": null,
      "id": "325ec47e",
      "metadata": {
        "id": "325ec47e",
        "outputId": "de5d59c7-dd1e-4d5f-be2a-39cfcae8adaa"
      },
      "outputs": [
        {
          "name": "stdout",
          "output_type": "stream",
          "text": [
            "SVC Classifier Train Classification Report: \n",
            "\n",
            "               precision    recall  f1-score   support\n",
            "\n",
            "           0       0.92      0.86      0.89       114\n",
            "           1       0.72      0.24      0.36       245\n",
            "           2       0.96      0.99      0.97      4274\n",
            "\n",
            "    accuracy                           0.95      4633\n",
            "   macro avg       0.86      0.70      0.74      4633\n",
            "weighted avg       0.94      0.95      0.94      4633\n",
            " \n",
            "\n",
            "\n",
            "SVC Classifier Test Classification Report: \n",
            "\n",
            "               precision    recall  f1-score   support\n",
            "\n",
            "           0       0.91      0.83      0.87        52\n",
            "           1       0.62      0.17      0.27       123\n",
            "           2       0.95      0.99      0.97      2321\n",
            "\n",
            "    accuracy                           0.95      2496\n",
            "   macro avg       0.83      0.66      0.70      2496\n",
            "weighted avg       0.94      0.95      0.94      2496\n",
            "\n"
          ]
        }
      ],
      "source": [
        "train_score = metrics.accuracy_score(y_train, train_y_pred)   # Compute train accuracy\n",
        "test_score = metrics.accuracy_score(y_test, test_y_pred)      # Compute test accuracy\n",
        "train_report = classification_report(y_train, train_y_pred)   # Generate classification report for train data\n",
        "test_report = classification_report(y_test, test_y_pred)      # Generate classification report for test data\n",
        "\n",
        "print('SVC Classifier Train Classification Report: \\n\\n', train_report,'\\n\\n')\n",
        "print('SVC Classifier Test Classification Report: \\n\\n', test_report)"
      ]
    },
    {
      "cell_type": "code",
      "execution_count": null,
      "id": "4db9a621",
      "metadata": {
        "id": "4db9a621",
        "outputId": "d481ae6a-74f1-4450-a265-a0110f6645e8"
      },
      "outputs": [
        {
          "data": {
            "text/html": [
              "<style>#sk-container-id-18 {color: black;background-color: white;}#sk-container-id-18 pre{padding: 0;}#sk-container-id-18 div.sk-toggleable {background-color: white;}#sk-container-id-18 label.sk-toggleable__label {cursor: pointer;display: block;width: 100%;margin-bottom: 0;padding: 0.3em;box-sizing: border-box;text-align: center;}#sk-container-id-18 label.sk-toggleable__label-arrow:before {content: \"▸\";float: left;margin-right: 0.25em;color: #696969;}#sk-container-id-18 label.sk-toggleable__label-arrow:hover:before {color: black;}#sk-container-id-18 div.sk-estimator:hover label.sk-toggleable__label-arrow:before {color: black;}#sk-container-id-18 div.sk-toggleable__content {max-height: 0;max-width: 0;overflow: hidden;text-align: left;background-color: #f0f8ff;}#sk-container-id-18 div.sk-toggleable__content pre {margin: 0.2em;color: black;border-radius: 0.25em;background-color: #f0f8ff;}#sk-container-id-18 input.sk-toggleable__control:checked~div.sk-toggleable__content {max-height: 200px;max-width: 100%;overflow: auto;}#sk-container-id-18 input.sk-toggleable__control:checked~label.sk-toggleable__label-arrow:before {content: \"▾\";}#sk-container-id-18 div.sk-estimator input.sk-toggleable__control:checked~label.sk-toggleable__label {background-color: #d4ebff;}#sk-container-id-18 div.sk-label input.sk-toggleable__control:checked~label.sk-toggleable__label {background-color: #d4ebff;}#sk-container-id-18 input.sk-hidden--visually {border: 0;clip: rect(1px 1px 1px 1px);clip: rect(1px, 1px, 1px, 1px);height: 1px;margin: -1px;overflow: hidden;padding: 0;position: absolute;width: 1px;}#sk-container-id-18 div.sk-estimator {font-family: monospace;background-color: #f0f8ff;border: 1px dotted black;border-radius: 0.25em;box-sizing: border-box;margin-bottom: 0.5em;}#sk-container-id-18 div.sk-estimator:hover {background-color: #d4ebff;}#sk-container-id-18 div.sk-parallel-item::after {content: \"\";width: 100%;border-bottom: 1px solid gray;flex-grow: 1;}#sk-container-id-18 div.sk-label:hover label.sk-toggleable__label {background-color: #d4ebff;}#sk-container-id-18 div.sk-serial::before {content: \"\";position: absolute;border-left: 1px solid gray;box-sizing: border-box;top: 0;bottom: 0;left: 50%;z-index: 0;}#sk-container-id-18 div.sk-serial {display: flex;flex-direction: column;align-items: center;background-color: white;padding-right: 0.2em;padding-left: 0.2em;position: relative;}#sk-container-id-18 div.sk-item {position: relative;z-index: 1;}#sk-container-id-18 div.sk-parallel {display: flex;align-items: stretch;justify-content: center;background-color: white;position: relative;}#sk-container-id-18 div.sk-item::before, #sk-container-id-18 div.sk-parallel-item::before {content: \"\";position: absolute;border-left: 1px solid gray;box-sizing: border-box;top: 0;bottom: 0;left: 50%;z-index: -1;}#sk-container-id-18 div.sk-parallel-item {display: flex;flex-direction: column;z-index: 1;position: relative;background-color: white;}#sk-container-id-18 div.sk-parallel-item:first-child::after {align-self: flex-end;width: 50%;}#sk-container-id-18 div.sk-parallel-item:last-child::after {align-self: flex-start;width: 50%;}#sk-container-id-18 div.sk-parallel-item:only-child::after {width: 0;}#sk-container-id-18 div.sk-dashed-wrapped {border: 1px dashed gray;margin: 0 0.4em 0.5em 0.4em;box-sizing: border-box;padding-bottom: 0.4em;background-color: white;}#sk-container-id-18 div.sk-label label {font-family: monospace;font-weight: bold;display: inline-block;line-height: 1.2em;}#sk-container-id-18 div.sk-label-container {text-align: center;}#sk-container-id-18 div.sk-container {/* jupyter's `normalize.less` sets `[hidden] { display: none; }` but bootstrap.min.css set `[hidden] { display: none !important; }` so we also need the `!important` here to be able to override the default hidden behavior on the sphinx rendered scikit-learn.org. See: https://github.com/scikit-learn/scikit-learn/issues/21755 */display: inline-block !important;position: relative;}#sk-container-id-18 div.sk-text-repr-fallback {display: none;}</style><div id=\"sk-container-id-18\" class=\"sk-top-container\"><div class=\"sk-text-repr-fallback\"><pre>BaggingClassifier(base_estimator=SVC())</pre><b>In a Jupyter environment, please rerun this cell to show the HTML representation or trust the notebook. <br />On GitHub, the HTML representation is unable to render, please try loading this page with nbviewer.org.</b></div><div class=\"sk-container\" hidden><div class=\"sk-item sk-dashed-wrapped\"><div class=\"sk-label-container\"><div class=\"sk-label sk-toggleable\"><input class=\"sk-toggleable__control sk-hidden--visually\" id=\"sk-estimator-id-22\" type=\"checkbox\" ><label for=\"sk-estimator-id-22\" class=\"sk-toggleable__label sk-toggleable__label-arrow\">BaggingClassifier</label><div class=\"sk-toggleable__content\"><pre>BaggingClassifier(base_estimator=SVC())</pre></div></div></div><div class=\"sk-parallel\"><div class=\"sk-parallel-item\"><div class=\"sk-item\"><div class=\"sk-label-container\"><div class=\"sk-label sk-toggleable\"><input class=\"sk-toggleable__control sk-hidden--visually\" id=\"sk-estimator-id-23\" type=\"checkbox\" ><label for=\"sk-estimator-id-23\" class=\"sk-toggleable__label sk-toggleable__label-arrow\">base_estimator: SVC</label><div class=\"sk-toggleable__content\"><pre>SVC()</pre></div></div></div><div class=\"sk-serial\"><div class=\"sk-item\"><div class=\"sk-estimator sk-toggleable\"><input class=\"sk-toggleable__control sk-hidden--visually\" id=\"sk-estimator-id-24\" type=\"checkbox\" ><label for=\"sk-estimator-id-24\" class=\"sk-toggleable__label sk-toggleable__label-arrow\">SVC</label><div class=\"sk-toggleable__content\"><pre>SVC()</pre></div></div></div></div></div></div></div></div></div></div>"
            ],
            "text/plain": [
              "BaggingClassifier(base_estimator=SVC())"
            ]
          },
          "execution_count": 109,
          "metadata": {},
          "output_type": "execute_result"
        }
      ],
      "source": [
        " #Bagged-SVC classifier\n",
        "bag_clf = BaggingClassifier(base_estimator=SVC())\n",
        "bag_clf.fit(X_train, y_train)"
      ]
    },
    {
      "cell_type": "code",
      "execution_count": null,
      "id": "0a50d044",
      "metadata": {
        "id": "0a50d044"
      },
      "outputs": [],
      "source": [
        "# Finding the predictions of the bagged-SVC classifier for train and test subsets\n",
        "\n",
        "train_y_pred = bag_clf.predict(X_train)\n",
        "test_y_pred = bag_clf.predict(X_test)"
      ]
    },
    {
      "cell_type": "code",
      "execution_count": null,
      "id": "30002476",
      "metadata": {
        "id": "30002476",
        "outputId": "bf362997-9ca4-4eee-be6f-d050e917a1d9"
      },
      "outputs": [
        {
          "name": "stdout",
          "output_type": "stream",
          "text": [
            "Bagged SVC Classifier Train Classification Report: \n",
            "\n",
            "               precision    recall  f1-score   support\n",
            "\n",
            "           0       0.92      0.88      0.90       114\n",
            "           1       0.71      0.25      0.37       245\n",
            "           2       0.96      0.99      0.97      4274\n",
            "\n",
            "    accuracy                           0.95      4633\n",
            "   macro avg       0.86      0.71      0.75      4633\n",
            "weighted avg       0.94      0.95      0.94      4633\n",
            " \n",
            "\n",
            "\n",
            "Bagged SVC Classifier Test Classification Report: \n",
            "\n",
            "               precision    recall  f1-score   support\n",
            "\n",
            "           0       0.92      0.85      0.88        52\n",
            "           1       0.62      0.17      0.27       123\n",
            "           2       0.95      0.99      0.97      2321\n",
            "\n",
            "    accuracy                           0.95      2496\n",
            "   macro avg       0.83      0.67      0.71      2496\n",
            "weighted avg       0.94      0.95      0.94      2496\n",
            "\n"
          ]
        }
      ],
      "source": [
        "train_score = metrics.accuracy_score(y_train, train_y_pred)   # Compute train accuracy\n",
        "test_score = metrics.accuracy_score(y_test, test_y_pred)      # Compute test accuracy\n",
        "train_report = classification_report(y_train, train_y_pred)   # Generate classification report for train data\n",
        "test_report = classification_report(y_test, test_y_pred)      # Generate classification report for test data\n",
        "\n",
        "print('Bagged SVC Classifier Train Classification Report: \\n\\n', train_report,'\\n\\n')\n",
        "print('Bagged SVC Classifier Test Classification Report: \\n\\n', test_report)"
      ]
    },
    {
      "cell_type": "markdown",
      "id": "28a72c4f",
      "metadata": {
        "id": "28a72c4f"
      },
      "source": [
        "### We can see hardly 2 or 3 % upgrade in the f1-score. using bagged SVC classifier, the f-1 score of the minority class is still very low. Bagged SVC performance is below par"
      ]
    },
    {
      "cell_type": "markdown",
      "id": "e4e3d1f0",
      "metadata": {
        "id": "e4e3d1f0"
      },
      "source": [
        "## Adaboost classifier"
      ]
    },
    {
      "cell_type": "code",
      "execution_count": null,
      "id": "cbdc7adb",
      "metadata": {
        "id": "cbdc7adb",
        "outputId": "89f2037e-0704-4ab9-eddb-7ca689f79ed2"
      },
      "outputs": [
        {
          "data": {
            "text/html": [
              "<style>#sk-container-id-19 {color: black;background-color: white;}#sk-container-id-19 pre{padding: 0;}#sk-container-id-19 div.sk-toggleable {background-color: white;}#sk-container-id-19 label.sk-toggleable__label {cursor: pointer;display: block;width: 100%;margin-bottom: 0;padding: 0.3em;box-sizing: border-box;text-align: center;}#sk-container-id-19 label.sk-toggleable__label-arrow:before {content: \"▸\";float: left;margin-right: 0.25em;color: #696969;}#sk-container-id-19 label.sk-toggleable__label-arrow:hover:before {color: black;}#sk-container-id-19 div.sk-estimator:hover label.sk-toggleable__label-arrow:before {color: black;}#sk-container-id-19 div.sk-toggleable__content {max-height: 0;max-width: 0;overflow: hidden;text-align: left;background-color: #f0f8ff;}#sk-container-id-19 div.sk-toggleable__content pre {margin: 0.2em;color: black;border-radius: 0.25em;background-color: #f0f8ff;}#sk-container-id-19 input.sk-toggleable__control:checked~div.sk-toggleable__content {max-height: 200px;max-width: 100%;overflow: auto;}#sk-container-id-19 input.sk-toggleable__control:checked~label.sk-toggleable__label-arrow:before {content: \"▾\";}#sk-container-id-19 div.sk-estimator input.sk-toggleable__control:checked~label.sk-toggleable__label {background-color: #d4ebff;}#sk-container-id-19 div.sk-label input.sk-toggleable__control:checked~label.sk-toggleable__label {background-color: #d4ebff;}#sk-container-id-19 input.sk-hidden--visually {border: 0;clip: rect(1px 1px 1px 1px);clip: rect(1px, 1px, 1px, 1px);height: 1px;margin: -1px;overflow: hidden;padding: 0;position: absolute;width: 1px;}#sk-container-id-19 div.sk-estimator {font-family: monospace;background-color: #f0f8ff;border: 1px dotted black;border-radius: 0.25em;box-sizing: border-box;margin-bottom: 0.5em;}#sk-container-id-19 div.sk-estimator:hover {background-color: #d4ebff;}#sk-container-id-19 div.sk-parallel-item::after {content: \"\";width: 100%;border-bottom: 1px solid gray;flex-grow: 1;}#sk-container-id-19 div.sk-label:hover label.sk-toggleable__label {background-color: #d4ebff;}#sk-container-id-19 div.sk-serial::before {content: \"\";position: absolute;border-left: 1px solid gray;box-sizing: border-box;top: 0;bottom: 0;left: 50%;z-index: 0;}#sk-container-id-19 div.sk-serial {display: flex;flex-direction: column;align-items: center;background-color: white;padding-right: 0.2em;padding-left: 0.2em;position: relative;}#sk-container-id-19 div.sk-item {position: relative;z-index: 1;}#sk-container-id-19 div.sk-parallel {display: flex;align-items: stretch;justify-content: center;background-color: white;position: relative;}#sk-container-id-19 div.sk-item::before, #sk-container-id-19 div.sk-parallel-item::before {content: \"\";position: absolute;border-left: 1px solid gray;box-sizing: border-box;top: 0;bottom: 0;left: 50%;z-index: -1;}#sk-container-id-19 div.sk-parallel-item {display: flex;flex-direction: column;z-index: 1;position: relative;background-color: white;}#sk-container-id-19 div.sk-parallel-item:first-child::after {align-self: flex-end;width: 50%;}#sk-container-id-19 div.sk-parallel-item:last-child::after {align-self: flex-start;width: 50%;}#sk-container-id-19 div.sk-parallel-item:only-child::after {width: 0;}#sk-container-id-19 div.sk-dashed-wrapped {border: 1px dashed gray;margin: 0 0.4em 0.5em 0.4em;box-sizing: border-box;padding-bottom: 0.4em;background-color: white;}#sk-container-id-19 div.sk-label label {font-family: monospace;font-weight: bold;display: inline-block;line-height: 1.2em;}#sk-container-id-19 div.sk-label-container {text-align: center;}#sk-container-id-19 div.sk-container {/* jupyter's `normalize.less` sets `[hidden] { display: none; }` but bootstrap.min.css set `[hidden] { display: none !important; }` so we also need the `!important` here to be able to override the default hidden behavior on the sphinx rendered scikit-learn.org. See: https://github.com/scikit-learn/scikit-learn/issues/21755 */display: inline-block !important;position: relative;}#sk-container-id-19 div.sk-text-repr-fallback {display: none;}</style><div id=\"sk-container-id-19\" class=\"sk-top-container\"><div class=\"sk-text-repr-fallback\"><pre>AdaBoostClassifier(base_estimator=DecisionTreeClassifier(max_leaf_nodes=10),\n",
              "                   learning_rate=1.5, n_estimators=500, random_state=0)</pre><b>In a Jupyter environment, please rerun this cell to show the HTML representation or trust the notebook. <br />On GitHub, the HTML representation is unable to render, please try loading this page with nbviewer.org.</b></div><div class=\"sk-container\" hidden><div class=\"sk-item sk-dashed-wrapped\"><div class=\"sk-label-container\"><div class=\"sk-label sk-toggleable\"><input class=\"sk-toggleable__control sk-hidden--visually\" id=\"sk-estimator-id-25\" type=\"checkbox\" ><label for=\"sk-estimator-id-25\" class=\"sk-toggleable__label sk-toggleable__label-arrow\">AdaBoostClassifier</label><div class=\"sk-toggleable__content\"><pre>AdaBoostClassifier(base_estimator=DecisionTreeClassifier(max_leaf_nodes=10),\n",
              "                   learning_rate=1.5, n_estimators=500, random_state=0)</pre></div></div></div><div class=\"sk-parallel\"><div class=\"sk-parallel-item\"><div class=\"sk-item\"><div class=\"sk-label-container\"><div class=\"sk-label sk-toggleable\"><input class=\"sk-toggleable__control sk-hidden--visually\" id=\"sk-estimator-id-26\" type=\"checkbox\" ><label for=\"sk-estimator-id-26\" class=\"sk-toggleable__label sk-toggleable__label-arrow\">base_estimator: DecisionTreeClassifier</label><div class=\"sk-toggleable__content\"><pre>DecisionTreeClassifier(max_leaf_nodes=10)</pre></div></div></div><div class=\"sk-serial\"><div class=\"sk-item\"><div class=\"sk-estimator sk-toggleable\"><input class=\"sk-toggleable__control sk-hidden--visually\" id=\"sk-estimator-id-27\" type=\"checkbox\" ><label for=\"sk-estimator-id-27\" class=\"sk-toggleable__label sk-toggleable__label-arrow\">DecisionTreeClassifier</label><div class=\"sk-toggleable__content\"><pre>DecisionTreeClassifier(max_leaf_nodes=10)</pre></div></div></div></div></div></div></div></div></div></div>"
            ],
            "text/plain": [
              "AdaBoostClassifier(base_estimator=DecisionTreeClassifier(max_leaf_nodes=10),\n",
              "                   learning_rate=1.5, n_estimators=500, random_state=0)"
            ]
          },
          "execution_count": 112,
          "metadata": {},
          "output_type": "execute_result"
        }
      ],
      "source": [
        "# Importing AdaBoostClassifier from ensemble module\n",
        "\n",
        "from sklearn.ensemble import AdaBoostClassifier\n",
        "\n",
        "# Instantiating the AdaBoostClassifier with 500 sequential trees\n",
        "\n",
        "adab_clf = AdaBoostClassifier(base_estimator=tree.DecisionTreeClassifier(max_leaf_nodes=10), n_estimators=500, learning_rate=1.5, random_state=0) \n",
        "#adab_clf = AdaBoostClassifier(base_estimator=tree.DecisionTreeClassifier())\n",
        "adab_clf.fit(X_train, y_train)   # Fitting the train data"
      ]
    },
    {
      "cell_type": "code",
      "execution_count": null,
      "id": "6124ac43",
      "metadata": {
        "id": "6124ac43"
      },
      "outputs": [],
      "source": [
        "# Finding the predictions of the adaboost classifier for train and test subsets\n",
        "\n",
        "train_y_pred = adab_clf.predict(X_train)\n",
        "test_y_pred = adab_clf.predict(X_test)"
      ]
    },
    {
      "cell_type": "code",
      "execution_count": null,
      "id": "cfb42da8",
      "metadata": {
        "id": "cfb42da8",
        "outputId": "7bcfd70e-15d6-435b-f9ad-0033af1d441a"
      },
      "outputs": [
        {
          "name": "stdout",
          "output_type": "stream",
          "text": [
            "AdaBoost Classifier Train Classification Report: \n",
            "\n",
            "               precision    recall  f1-score   support\n",
            "\n",
            "           0       1.00      1.00      1.00       114\n",
            "           1       0.94      0.92      0.93       245\n",
            "           2       1.00      1.00      1.00      4274\n",
            "\n",
            "    accuracy                           0.99      4633\n",
            "   macro avg       0.98      0.97      0.97      4633\n",
            "weighted avg       0.99      0.99      0.99      4633\n",
            " \n",
            "\n",
            "\n",
            "AdaBoost Classifier Test Classification Report: \n",
            "\n",
            "               precision    recall  f1-score   support\n",
            "\n",
            "           0       0.92      0.90      0.91        52\n",
            "           1       0.73      0.72      0.72       123\n",
            "           2       0.98      0.98      0.98      2321\n",
            "\n",
            "    accuracy                           0.97      2496\n",
            "   macro avg       0.88      0.87      0.87      2496\n",
            "weighted avg       0.97      0.97      0.97      2496\n",
            "\n"
          ]
        }
      ],
      "source": [
        "train_score = metrics.accuracy_score(y_train, train_y_pred)   # Compute train accuracy\n",
        "test_score = metrics.accuracy_score(y_test, test_y_pred)      # Compute test accuracy\n",
        "train_report = classification_report(y_train, train_y_pred)   # Generate classification report for train data\n",
        "test_report = classification_report(y_test, test_y_pred)      # Generate classification report for test data\n",
        "\n",
        "print('AdaBoost Classifier Train Classification Report: \\n\\n', train_report,'\\n\\n')\n",
        "print('AdaBoost Classifier Test Classification Report: \\n\\n', test_report)"
      ]
    },
    {
      "cell_type": "code",
      "execution_count": null,
      "id": "948839c7",
      "metadata": {
        "id": "948839c7",
        "outputId": "782c08b0-7414-4ea1-dcbc-b1ff48be8050"
      },
      "outputs": [
        {
          "data": {
            "image/png": "[encoded data removed]",
            "text/plain": [
              "<Figure size 288x288 with 2 Axes>"
            ]
          },
          "metadata": {},
          "output_type": "display_data"
        }
      ],
      "source": [
        "train_c_matrix = confusion_matrix(y_test, test_y_pred)  # Compute the train confusion matrix\n",
        "\n",
        "plt.figure(figsize=(4,4))\n",
        "sns.heatmap(train_c_matrix, annot=True, fmt=\".1f\", linewidths=.5, square = True, cmap = 'Pastel1');\n",
        "plt.ylabel('Actual label');\n",
        "plt.xlabel('Predicted label');\n",
        "all_sample_title = 'Test Accuracy: {0}'.format(round(test_score, 4))\n",
        "plt.title(all_sample_title, size = 15);\n",
        "plt.show()"
      ]
    },
    {
      "cell_type": "markdown",
      "id": "53a7585a",
      "metadata": {
        "id": "53a7585a"
      },
      "source": [
        "##### High variance can be seen between the test and train results"
      ]
    },
    {
      "cell_type": "markdown",
      "id": "o9OG0ntUeE5u",
      "metadata": {
        "id": "o9OG0ntUeE5u"
      },
      "source": [
        "##### Among all the classification algorithms that we used, Random Forest Classifier worked best and research also states that this algorithm is the best fit for diagnosing patients in real-time as well."
      ]
    },
    {
      "cell_type": "markdown",
      "id": "b9558fb8",
      "metadata": {
        "id": "b9558fb8",
        "outputId": "3e4960a6-8d39-4147-c73c-14251e3b51ce"
      },
      "source": [
        "# REPORT : Analysis and Learning:"
      ]
    },
    {
      "cell_type": "markdown",
      "id": "0190307d",
      "metadata": {
        "id": "0190307d"
      },
      "source": [
        "#### Understanding of Data:\n",
        "\n",
        "1) Data is sourced from keel machine learning repository.\n",
        "\n",
        "2) The dataset has a total of 7200 instances.\n",
        "\n",
        "3) There are 21 features totally.\n",
        "\n",
        "4) Out of 21, 6 are continuous variables.\n",
        "\n",
        "5) Remaining 15 variables are categorical in nature."
      ]
    },
    {
      "cell_type": "markdown",
      "id": "a2047788",
      "metadata": {
        "id": "a2047788"
      },
      "source": [
        "#### EDA and data pre-processing.\n",
        "1) First we checked for null values, there are no null values in the dataset.\n",
        "\n",
        "2) Next, we checked for duplicated values. There are total of 71 duplicated columns.\n",
        "\n",
        "3) The duplicated rows are dropped from the data-frame. We are left with 7129 instances now.\n",
        "\n",
        "4) The data_types of features are checked. \"Age\" is on a scale from 0 to 1. It is convereted to integer scale.\n",
        "\n",
        "5) The number of instances of each class is analyzed. \n",
        "\n",
        "6) The classes are labelled as 1,2,3 & by using Label encoding, we convert them to 0,1,2 for classification. "
      ]
    },
    {
      "cell_type": "markdown",
      "id": "9909b5fb",
      "metadata": {
        "id": "9909b5fb"
      },
      "source": [
        "#### Balanced or unbalanced classification ?\n",
        "\n",
        "The number of samples with Hyper-thyroidism = 166 \n",
        "\n",
        "The number of samples with Hypo-thyroidism = 368 \n",
        "\n",
        "The number of samples with Negative case of Thyroidism = 6595\n",
        "\n",
        "Therefore the number of instances of the minority classes are much lesser than that of the majority class (almost 1:2:40 Proportion.\n",
        "\n",
        "#### Therefore the problem is very close to being a highly unbalanced classification."
      ]
    },
    {
      "cell_type": "markdown",
      "id": "ddc5c97d",
      "metadata": {
        "id": "ddc5c97d"
      },
      "source": [
        "#### Tackling Unbalanced issue ?\n",
        "\n",
        "Balancing techniques are not applied here as the data in a real worl application is naturally highly unbalanced. \n",
        "\n",
        "Therefore, through this problem we seek to find the best algorithm that can generate the highest accuracy, while dealing with the highly unbalanced case. \n"
      ]
    },
    {
      "cell_type": "markdown",
      "id": "acff3f62",
      "metadata": {
        "id": "acff3f62"
      },
      "source": [
        "#### Problem 1: Regression\n",
        "\n",
        "Target Audience / Beneficiary: Medical testing facilities & labs.\n",
        "\n",
        "Aim : Find the missing values in medical report \n",
        "        \n",
        "Target Variable : To find the value of TT4 (Total thyroxine) by using other variables such asT3, T4 and TSH.\n",
        "\n",
        "Benefits :  \n",
        "    Validating the existing medical data to check for possible errors or outliers in medical reports. \n",
        "    Use of regression to predict and generate the total thyroxine level in blood using the other variables\n"
      ]
    },
    {
      "cell_type": "markdown",
      "id": "c0b12041",
      "metadata": {
        "id": "c0b12041"
      },
      "source": [
        "#### Solution : Problem -1 Regression. "
      ]
    },
    {
      "cell_type": "markdown",
      "id": "382b4425",
      "metadata": {
        "id": "382b4425"
      },
      "source": [
        "Correlation : Identification of the Input features for the regression problem:\n",
        "\n",
        "The values of FTI, T3 and T4U have high correlation with TT4 (Total Thyroxine Values)\n",
        "Therefore are selected as input variables for regression analysis.\n"
      ]
    },
    {
      "cell_type": "markdown",
      "id": "5ea5a235",
      "metadata": {
        "id": "5ea5a235"
      },
      "source": [
        "#### primary meteric for evaluation of best regression model - R^2 Value for test dataset.\n",
        "\n",
        "#### Linear Regression : \n",
        "R^2 score for test dataset =  0.9179 \n",
        "\n",
        "#### Decision Tree Regressor :\n",
        "R^2 score for test dataset =  0.9589 \n",
        "\n",
        "#### Bagging Regressor : \n",
        "\n",
        "R^2 score for train dataset =  0.9968 \n",
        "\n",
        "R^2 score for test dataset =  0.9819 \n",
        "\n",
        "#### Random Forest Regressor:\n",
        "\n",
        "R^2 score for train dataset =  0.997 \n",
        "\n",
        "R^2 score for test dataset =  0.9825 \n",
        "\n",
        "\n",
        "\n",
        "\n",
        "\n",
        "\n",
        "\n",
        "\n"
      ]
    },
    {
      "cell_type": "markdown",
      "id": "6e35a473",
      "metadata": {
        "id": "6e35a473"
      },
      "source": [
        "For the Regression algorithms, Random forest regressor and Bagging regressor both have almost identical R^2 scores, therefore are best algorithms. \n",
        "\n",
        "The regression problem is solved with a very high accuracy rate ."
      ]
    },
    {
      "cell_type": "markdown",
      "id": "3a7a0cd8",
      "metadata": {
        "id": "3a7a0cd8"
      },
      "source": [
        "#### Problem 2 : Classification Algorithm \n",
        "\n",
        "Target Audience / Beneficiary: End users - Patients\n",
        "\n",
        "Aim : To use classification algorithms for Classify  the patients into 3 classes based on the thyroid medical data set.\n",
        "\n",
        "Target Classes:\n",
        "\n",
        "“0” - Hyperthyroidism : Hyperthyroidism is an overactive thyroid (when it produces too much thyroid hormone).\n",
        "\n",
        "“1” - HypoThyroidism : Hypothyroidism is an underactive thyroid (when it does not produce enough). Almost 4.6% of US population is suffering from it.\n",
        "\n",
        "“2” - Negative.\n",
        "\n",
        "\n",
        "\n",
        "\n",
        "\n",
        "\n"
      ]
    },
    {
      "cell_type": "markdown",
      "id": "93efb5da",
      "metadata": {
        "id": "93efb5da"
      },
      "source": [
        "#### Solution: Problem - 2 Classification. "
      ]
    },
    {
      "cell_type": "markdown",
      "id": "3e11b50a",
      "metadata": {
        "id": "3e11b50a"
      },
      "source": [
        "#### Primary metric considered for comparing the model performances : f-1 score of the minority classes. "
      ]
    },
    {
      "cell_type": "markdown",
      "id": "a806518f",
      "metadata": {
        "id": "a806518f"
      },
      "source": [
        "#### Best Performing Algorithm: Random Forest Classifier with tuned hyperparameters. \n",
        "\n",
        "The random forest algorithm initially resulted in an f-1 score of .86 for the minority class '1' in the test instance, and 1.0 for the train instance. \n",
        "\n",
        "However, after tuning hyper-parameters the variance was eliminated and the f-1 score of the worst performing minority class was increased to .90 for both test and train instances."
      ]
    },
    {
      "cell_type": "markdown",
      "id": "66494865",
      "metadata": {
        "id": "66494865"
      },
      "source": [
        "#### Next best performing algorithm : Decision tree classifier with parameters from GridSearchCV:\n",
        "\n",
        "Initially, the default parameters of decision trees causes a high variance problem with over-fitting. The f-1 scores of train and test for minority class \"1\" is 1.0 and 0.71 respectively.\n",
        "\n",
        "This problem was solved with GridSearchCV and passing the resultant parameters.\n",
        "\n",
        "This was able to improve performance and greatly decrease the high variance problem:\n",
        "\n",
        "The f-1 scores of train and test for minority class are now .87 and .83\n"
      ]
    },
    {
      "cell_type": "markdown",
      "id": "ab15c526",
      "metadata": {
        "id": "ab15c526"
      },
      "source": [
        "#### Analyzing the Performance of SVM\n",
        "\n",
        "First one we used was SVM with default parameters. Resulted in an f-1 score of 0,0 for the two minority classes. \n",
        "\n",
        "Then, implementing Kernel SVM - resulted in f1 score of 74 for the first minority class (o). \n",
        "However, minority class (1) still had f-1 score 0.\n",
        "\n",
        "Then used Scikit-learn’s GridSearchCV. \n",
        "\n",
        "Grid search was able to improve the score of the second minority class from zero to 70 !\n",
        "\n",
        "That too with minimal variance. \n",
        "\n",
        "\n",
        "However, as the continuous variables (thyroid hormones and indexes) impact varies from individual to individual patient, there is an overlap of feartures.\n",
        "\n",
        "Therefore, as SVM is a geometric based algorithm, The hyperplane fails to accurately divide the features for classification. Hence, SVM fails to achive an f-1 score that competes with Random Forests. \n",
        "\n",
        "\n"
      ]
    },
    {
      "cell_type": "markdown",
      "id": "e456f12b",
      "metadata": {
        "id": "e456f12b"
      },
      "source": [
        "#### Analyzing the Performance of probability based models:\n",
        "\n",
        "All probablilty based models including logistic regression, LDA, QDA and Gaussian Naive Bayes show very poor f-1 scores for the minority class, sometimes tends to zero. \n",
        "\n",
        "The major reason behind this could be the highly imbalanced data and few instances of the minority classes.\n",
        "\n",
        "As probabiliy based algorithms require combination of input features for the various outputs, there are not enough isntances in the train subset of the model.\n",
        "\n",
        "Additionally, the assumptions of Naive Bayes about the independance of the feature variables does not hold true.\n",
        "\n",
        "Therefore the above mentioned models do not perform well."
      ]
    },
    {
      "cell_type": "markdown",
      "id": "782e6d35",
      "metadata": {
        "id": "782e6d35"
      },
      "source": [
        "#### Analysis : Why Random Forest Performed Best ?\n",
        "\n",
        "Random forests, with tuning the hyper-parameters shows the greatest improvement in the result.\n",
        "Accuracy of 90% and 90% for the minority classes - eliminating any variance \n",
        "Overall accuracy of the model stands at 98.5% \n",
        "\n",
        "1) Random forests use the Collective outcome of multiple decision trees. \n",
        "\n",
        "2) Prevention of overfit for better model performance. \n",
        "\n",
        "3) Great with higher dimensional data, here we use all 6 features. \n",
        "\n",
        "4) Ability to handle outliers - binning and reducing error - by downsampling majority class and growing trees on balanced dataset "
      ]
    },
    {
      "cell_type": "markdown",
      "id": "bdc38eea",
      "metadata": {
        "id": "bdc38eea"
      },
      "source": [
        "#### Analyzing why an accuracy of over 90% is not possible realistically.\n",
        "\n",
        "1) We are using a Highly unbalanced dataset\n",
        "\n",
        "2) 40:2:1 approximate proportion of classes, Only 166 instances of minority class out of 7200 rows of data.\n",
        "\n",
        "3) There is Overlap of data as the input features are biological levels of hormones - not everybody reacts same \n",
        "\n",
        "4) External factors that affect the functioning of a normal thyroid gland, Effect of this is highly variable for individuals based on: Sickness, Pregnancy,Infections,Goitre,Any tumors, Medication- Steroids and immunosuppressants, Medical conditions with other glands. \n",
        "\n"
      ]
    },
    {
      "cell_type": "markdown",
      "id": "9c760966",
      "metadata": {
        "id": "9c760966"
      },
      "source": [
        "#### Learning and Reccomendations:\n",
        "\n",
        "1) Grid search is an amazing tool, use it. Saves time and prevents monotony. \n",
        "\n",
        "2) Choose algorithms based on the data you use.\n",
        "\n",
        "3) Try solving the problem with the simplest algorithms and gradually increase complexity. Prioritize the concept of Occams Razor.\n",
        "\n",
        "4) What to consider when selecting the best model ? performance evaluation metrics and Also consider how important the accuracy is, what difference does an improvement of 0.1% make ? \n",
        "\n",
        "5) In our case, we chose a bio-informatics problem, therefore an accuracy improvement of even 0.1% will result in accurace classification of 10 patients in a dataset of 10,000 cases. \n",
        "\n",
        "6) Therefore the requirement of the  computqational resources are not considered when chosing the best model in our case.\n",
        "\n",
        "7) Specifically in-case of highly imbalanced classification problems, consider the minority classes.\n",
        "\n",
        "8) In Highly imbalanced case - overall accuracy has very less weightage compared to the individual accuracies of the minority classes. For instance, LDA was able to achive an overall accuracy of 94% but it is of no use as the f-1 score for minority class '1' is ZERO !|\n",
        "\n",
        "\n"
      ]
    },
    {
      "cell_type": "markdown",
      "id": "5c2c0da0",
      "metadata": {
        "id": "5c2c0da0"
      },
      "source": [
        "#### Code & Algorithm References :\n",
        "Class Lecture Notes and notebooks. Lecture 1 - Lecture 13"
      ]
    },
    {
      "cell_type": "code",
      "execution_count": null,
      "id": "29e04b39",
      "metadata": {
        "id": "29e04b39"
      },
      "outputs": [],
      "source": []
    },
    {
      "cell_type": "code",
      "execution_count": null,
      "id": "57dff50c",
      "metadata": {
        "id": "57dff50c"
      },
      "outputs": [],
      "source": []
    }
  ],
  "metadata": {
    "colab": {
      "collapsed_sections": [
        "baddc323",
        "28a72c4f"
      ],
      "provenance": [],
      "include_colab_link": true
    },
    "kernelspec": {
      "display_name": "Python 3 (ipykernel)",
      "language": "python",
      "name": "python3"
    },
    "language_info": {
      "codemirror_mode": {
        "name": "ipython",
        "version": 3
      },
      "file_extension": ".py",
      "mimetype": "text/x-python",
      "name": "python",
      "nbconvert_exporter": "python",
      "pygments_lexer": "ipython3",
      "version": "3.9.7"
    }
  },
  "nbformat": 4,
  "nbformat_minor": 5
}